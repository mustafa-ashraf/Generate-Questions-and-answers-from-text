{
 "cells": [
  {
   "cell_type": "markdown",
   "id": "f967b256",
   "metadata": {
    "papermill": {
     "duration": 0.018063,
     "end_time": "2022-09-22T11:48:25.845517",
     "exception": false,
     "start_time": "2022-09-22T11:48:25.827454",
     "status": "completed"
    },
    "tags": []
   },
   "source": [
    "# Import the main libiraries"
   ]
  },
  {
   "cell_type": "code",
   "execution_count": 1,
   "id": "76d83df4",
   "metadata": {
    "execution": {
     "iopub.execute_input": "2022-09-22T11:48:25.878476Z",
     "iopub.status.busy": "2022-09-22T11:48:25.877886Z",
     "iopub.status.idle": "2022-09-22T11:49:21.058145Z",
     "shell.execute_reply": "2022-09-22T11:49:21.056838Z"
    },
    "papermill": {
     "duration": 55.199719,
     "end_time": "2022-09-22T11:49:21.061156",
     "exception": false,
     "start_time": "2022-09-22T11:48:25.861437",
     "status": "completed"
    },
    "tags": []
   },
   "outputs": [
    {
     "name": "stdout",
     "output_type": "stream",
     "text": [
      "Collecting git+https://github.com/boudinfl/pke.git\r\n",
      "  Cloning https://github.com/boudinfl/pke.git to /tmp/pip-req-build-dmwmxy8q\r\n",
      "  Running command git clone --filter=blob:none --quiet https://github.com/boudinfl/pke.git /tmp/pip-req-build-dmwmxy8q\r\n",
      "  Resolved https://github.com/boudinfl/pke.git to commit 5af1f817e0211c33ac3f90e1e86bb5c1283448e8\r\n",
      "  Preparing metadata (setup.py) ... \u001b[?25l-\b \bdone\r\n",
      "\u001b[?25hRequirement already satisfied: nltk in /opt/conda/lib/python3.7/site-packages (from pke==2.0.0) (3.7)\r\n",
      "Requirement already satisfied: networkx in /opt/conda/lib/python3.7/site-packages (from pke==2.0.0) (2.5)\r\n",
      "Requirement already satisfied: numpy in /opt/conda/lib/python3.7/site-packages (from pke==2.0.0) (1.21.6)\r\n",
      "Requirement already satisfied: scipy in /opt/conda/lib/python3.7/site-packages (from pke==2.0.0) (1.7.3)\r\n",
      "Requirement already satisfied: sklearn in /opt/conda/lib/python3.7/site-packages (from pke==2.0.0) (0.0)\r\n",
      "Requirement already satisfied: unidecode in /opt/conda/lib/python3.7/site-packages (from pke==2.0.0) (1.3.4)\r\n",
      "Requirement already satisfied: future in /opt/conda/lib/python3.7/site-packages (from pke==2.0.0) (0.18.2)\r\n",
      "Requirement already satisfied: joblib in /opt/conda/lib/python3.7/site-packages (from pke==2.0.0) (1.0.1)\r\n",
      "Requirement already satisfied: spacy>=3.2.3 in /opt/conda/lib/python3.7/site-packages (from pke==2.0.0) (3.3.1)\r\n",
      "Requirement already satisfied: spacy-loggers<2.0.0,>=1.0.0 in /opt/conda/lib/python3.7/site-packages (from spacy>=3.2.3->pke==2.0.0) (1.0.3)\r\n",
      "Requirement already satisfied: pathy>=0.3.5 in /opt/conda/lib/python3.7/site-packages (from spacy>=3.2.3->pke==2.0.0) (0.6.2)\r\n",
      "Requirement already satisfied: tqdm<5.0.0,>=4.38.0 in /opt/conda/lib/python3.7/site-packages (from spacy>=3.2.3->pke==2.0.0) (4.64.0)\r\n",
      "Requirement already satisfied: wasabi<1.1.0,>=0.9.1 in /opt/conda/lib/python3.7/site-packages (from spacy>=3.2.3->pke==2.0.0) (0.10.1)\r\n",
      "Requirement already satisfied: typer<0.5.0,>=0.3.0 in /opt/conda/lib/python3.7/site-packages (from spacy>=3.2.3->pke==2.0.0) (0.4.2)\r\n",
      "Requirement already satisfied: requests<3.0.0,>=2.13.0 in /opt/conda/lib/python3.7/site-packages (from spacy>=3.2.3->pke==2.0.0) (2.28.1)\r\n",
      "Requirement already satisfied: srsly<3.0.0,>=2.4.3 in /opt/conda/lib/python3.7/site-packages (from spacy>=3.2.3->pke==2.0.0) (2.4.4)\r\n",
      "Requirement already satisfied: blis<0.8.0,>=0.4.0 in /opt/conda/lib/python3.7/site-packages (from spacy>=3.2.3->pke==2.0.0) (0.7.8)\r\n",
      "Requirement already satisfied: thinc<8.1.0,>=8.0.14 in /opt/conda/lib/python3.7/site-packages (from spacy>=3.2.3->pke==2.0.0) (8.0.17)\r\n",
      "Requirement already satisfied: pydantic!=1.8,!=1.8.1,<1.9.0,>=1.7.4 in /opt/conda/lib/python3.7/site-packages (from spacy>=3.2.3->pke==2.0.0) (1.8.2)\r\n",
      "Requirement already satisfied: cymem<2.1.0,>=2.0.2 in /opt/conda/lib/python3.7/site-packages (from spacy>=3.2.3->pke==2.0.0) (2.0.6)\r\n",
      "Requirement already satisfied: langcodes<4.0.0,>=3.2.0 in /opt/conda/lib/python3.7/site-packages (from spacy>=3.2.3->pke==2.0.0) (3.3.0)\r\n",
      "Requirement already satisfied: packaging>=20.0 in /opt/conda/lib/python3.7/site-packages (from spacy>=3.2.3->pke==2.0.0) (21.3)\r\n",
      "Requirement already satisfied: catalogue<2.1.0,>=2.0.6 in /opt/conda/lib/python3.7/site-packages (from spacy>=3.2.3->pke==2.0.0) (2.0.8)\r\n",
      "Requirement already satisfied: murmurhash<1.1.0,>=0.28.0 in /opt/conda/lib/python3.7/site-packages (from spacy>=3.2.3->pke==2.0.0) (1.0.8)\r\n",
      "Requirement already satisfied: jinja2 in /opt/conda/lib/python3.7/site-packages (from spacy>=3.2.3->pke==2.0.0) (3.1.2)\r\n",
      "Requirement already satisfied: preshed<3.1.0,>=3.0.2 in /opt/conda/lib/python3.7/site-packages (from spacy>=3.2.3->pke==2.0.0) (3.0.7)\r\n",
      "Requirement already satisfied: setuptools in /opt/conda/lib/python3.7/site-packages (from spacy>=3.2.3->pke==2.0.0) (59.8.0)\r\n",
      "Collecting typing-extensions<4.2.0,>=3.7.4\r\n",
      "  Downloading typing_extensions-4.1.1-py3-none-any.whl (26 kB)\r\n",
      "Requirement already satisfied: spacy-legacy<3.1.0,>=3.0.9 in /opt/conda/lib/python3.7/site-packages (from spacy>=3.2.3->pke==2.0.0) (3.0.10)\r\n",
      "Requirement already satisfied: decorator>=4.3.0 in /opt/conda/lib/python3.7/site-packages (from networkx->pke==2.0.0) (5.1.1)\r\n",
      "Requirement already satisfied: click in /opt/conda/lib/python3.7/site-packages (from nltk->pke==2.0.0) (8.0.4)\r\n",
      "Requirement already satisfied: regex>=2021.8.3 in /opt/conda/lib/python3.7/site-packages (from nltk->pke==2.0.0) (2021.11.10)\r\n",
      "Requirement already satisfied: scikit-learn in /opt/conda/lib/python3.7/site-packages (from sklearn->pke==2.0.0) (1.0.2)\r\n",
      "Requirement already satisfied: zipp>=0.5 in /opt/conda/lib/python3.7/site-packages (from catalogue<2.1.0,>=2.0.6->spacy>=3.2.3->pke==2.0.0) (3.8.0)\r\n",
      "Requirement already satisfied: pyparsing!=3.0.5,>=2.0.2 in /opt/conda/lib/python3.7/site-packages (from packaging>=20.0->spacy>=3.2.3->pke==2.0.0) (3.0.9)\r\n",
      "Requirement already satisfied: smart-open<6.0.0,>=5.2.1 in /opt/conda/lib/python3.7/site-packages (from pathy>=0.3.5->spacy>=3.2.3->pke==2.0.0) (5.2.1)\r\n",
      "Requirement already satisfied: charset-normalizer<3,>=2 in /opt/conda/lib/python3.7/site-packages (from requests<3.0.0,>=2.13.0->spacy>=3.2.3->pke==2.0.0) (2.1.0)\r\n",
      "Requirement already satisfied: idna<4,>=2.5 in /opt/conda/lib/python3.7/site-packages (from requests<3.0.0,>=2.13.0->spacy>=3.2.3->pke==2.0.0) (3.3)\r\n",
      "Requirement already satisfied: certifi>=2017.4.17 in /opt/conda/lib/python3.7/site-packages (from requests<3.0.0,>=2.13.0->spacy>=3.2.3->pke==2.0.0) (2022.6.15.2)\r\n",
      "Requirement already satisfied: urllib3<1.27,>=1.21.1 in /opt/conda/lib/python3.7/site-packages (from requests<3.0.0,>=2.13.0->spacy>=3.2.3->pke==2.0.0) (1.26.12)\r\n",
      "Requirement already satisfied: importlib-metadata in /opt/conda/lib/python3.7/site-packages (from click->nltk->pke==2.0.0) (4.12.0)\r\n",
      "Requirement already satisfied: MarkupSafe>=2.0 in /opt/conda/lib/python3.7/site-packages (from jinja2->spacy>=3.2.3->pke==2.0.0) (2.1.1)\r\n",
      "Requirement already satisfied: threadpoolctl>=2.0.0 in /opt/conda/lib/python3.7/site-packages (from scikit-learn->sklearn->pke==2.0.0) (3.1.0)\r\n",
      "Building wheels for collected packages: pke\r\n",
      "  Building wheel for pke (setup.py) ... \u001b[?25l-\b \b\\\b \b|\b \b/\b \bdone\r\n",
      "\u001b[?25h  Created wheel for pke: filename=pke-2.0.0-py3-none-any.whl size=6160276 sha256=5ae72b40af27490a0c357bdeffedf39dbe74454536e8b3ab4052583696c5837a\r\n",
      "  Stored in directory: /tmp/pip-ephem-wheel-cache-vnl4fln1/wheels/fa/b3/09/612ee93bf3ee4164bcd5783e742942cdfc892a86039d3e0a33\r\n",
      "Successfully built pke\r\n",
      "Installing collected packages: typing-extensions, pke\r\n",
      "  Attempting uninstall: typing-extensions\r\n",
      "    Found existing installation: typing_extensions 4.3.0\r\n",
      "    Uninstalling typing_extensions-4.3.0:\r\n",
      "      Successfully uninstalled typing_extensions-4.3.0\r\n",
      "\u001b[31mERROR: pip's dependency resolver does not currently take into account all the packages that are installed. This behaviour is the source of the following dependency conflicts.\r\n",
      "tensorflow-io 0.21.0 requires tensorflow-io-gcs-filesystem==0.21.0, which is not installed.\r\n",
      "tensorflow 2.6.4 requires h5py~=3.1.0, but you have h5py 3.7.0 which is incompatible.\r\n",
      "tensorflow 2.6.4 requires numpy~=1.19.2, but you have numpy 1.21.6 which is incompatible.\r\n",
      "tensorflow 2.6.4 requires tensorboard<2.7,>=2.6.0, but you have tensorboard 2.10.0 which is incompatible.\r\n",
      "tensorflow 2.6.4 requires typing-extensions<3.11,>=3.7, but you have typing-extensions 4.1.1 which is incompatible.\r\n",
      "tensorflow-transform 1.9.0 requires pyarrow<6,>=1, but you have pyarrow 8.0.0 which is incompatible.\r\n",
      "tensorflow-transform 1.9.0 requires tensorflow!=2.0.*,!=2.1.*,!=2.2.*,!=2.3.*,!=2.4.*,!=2.5.*,!=2.6.*,!=2.7.*,!=2.8.*,<2.10,>=1.15.5, but you have tensorflow 2.6.4 which is incompatible.\r\n",
      "tensorflow-serving-api 2.9.0 requires tensorflow<3,>=2.9.0, but you have tensorflow 2.6.4 which is incompatible.\r\n",
      "pandas-profiling 3.1.0 requires markupsafe~=2.0.1, but you have markupsafe 2.1.1 which is incompatible.\r\n",
      "flax 0.6.0 requires rich~=11.1, but you have rich 12.1.0 which is incompatible.\r\n",
      "flake8 4.0.1 requires importlib-metadata<4.3; python_version < \"3.8\", but you have importlib-metadata 4.12.0 which is incompatible.\r\n",
      "apache-beam 2.40.0 requires dill<0.3.2,>=0.3.1.1, but you have dill 0.3.5.1 which is incompatible.\r\n",
      "apache-beam 2.40.0 requires pyarrow<8.0.0,>=0.15.1, but you have pyarrow 8.0.0 which is incompatible.\r\n",
      "allennlp 2.10.0 requires protobuf==3.20.0, but you have protobuf 3.19.4 which is incompatible.\r\n",
      "aiobotocore 2.4.0 requires botocore<1.27.60,>=1.27.59, but you have botocore 1.27.72 which is incompatible.\u001b[0m\u001b[31m\r\n",
      "\u001b[0mSuccessfully installed pke-2.0.0 typing-extensions-4.1.1\r\n",
      "\u001b[33mWARNING: Running pip as the 'root' user can result in broken permissions and conflicting behaviour with the system package manager. It is recommended to use a virtual environment instead: https://pip.pypa.io/warnings/venv\u001b[0m\u001b[33m\r\n",
      "\u001b[0m"
     ]
    }
   ],
   "source": [
    "# Most important\n",
    "\n",
    "import numpy as np\n",
    "import pandas as pd \n",
    "\n",
    "#other\n",
    "\n",
    "import os\n",
    "import string\n",
    "import re\n",
    "import warnings\n",
    "warnings.filterwarnings(\"ignore\")\n",
    "!pip install git+https://github.com/boudinfl/pke.git\n",
    "import pke"
   ]
  },
  {
   "cell_type": "markdown",
   "id": "75210980",
   "metadata": {
    "papermill": {
     "duration": 0.013198,
     "end_time": "2022-09-22T11:49:21.088340",
     "exception": false,
     "start_time": "2022-09-22T11:49:21.075142",
     "status": "completed"
    },
    "tags": []
   },
   "source": [
    "# Load the DataSet"
   ]
  },
  {
   "cell_type": "code",
   "execution_count": 2,
   "id": "2a33157f",
   "metadata": {
    "execution": {
     "iopub.execute_input": "2022-09-22T11:49:21.118168Z",
     "iopub.status.busy": "2022-09-22T11:49:21.117273Z",
     "iopub.status.idle": "2022-09-22T11:49:21.148287Z",
     "shell.execute_reply": "2022-09-22T11:49:21.147270Z"
    },
    "papermill": {
     "duration": 0.048766,
     "end_time": "2022-09-22T11:49:21.150945",
     "exception": false,
     "start_time": "2022-09-22T11:49:21.102179",
     "status": "completed"
    },
    "tags": []
   },
   "outputs": [],
   "source": [
    "x = open('../input/dataanalysisarticles/DataAnalysis.txt', 'r', encoding='utf-8', errors='ignore')\n",
    "file_contents = x. read()"
   ]
  },
  {
   "cell_type": "markdown",
   "id": "4bdc7e9e",
   "metadata": {
    "papermill": {
     "duration": 0.013493,
     "end_time": "2022-09-22T11:49:21.178083",
     "exception": false,
     "start_time": "2022-09-22T11:49:21.164590",
     "status": "completed"
    },
    "tags": []
   },
   "source": [
    "# inspect the Data"
   ]
  },
  {
   "cell_type": "code",
   "execution_count": 3,
   "id": "1538ab6a",
   "metadata": {
    "execution": {
     "iopub.execute_input": "2022-09-22T11:49:21.207006Z",
     "iopub.status.busy": "2022-09-22T11:49:21.206608Z",
     "iopub.status.idle": "2022-09-22T11:49:21.212413Z",
     "shell.execute_reply": "2022-09-22T11:49:21.211221Z"
    },
    "papermill": {
     "duration": 0.023712,
     "end_time": "2022-09-22T11:49:21.215339",
     "exception": false,
     "start_time": "2022-09-22T11:49:21.191627",
     "status": "completed"
    },
    "tags": []
   },
   "outputs": [
    {
     "name": "stdout",
     "output_type": "stream",
     "text": [
      "Generally, this process begins with descriptive analytics. This is the process of describing historical trends in data. Descriptive analytics aims to answer the question “what happened?” This often involves measuring traditional indicators such as return on investment (ROI). The indicators used will be different for each industry. Descriptive analytics does not make predictions or directly inform decisions. It focuses on summarizing data in a meaningful and descriptive way.\n",
      "The next essential part of data analytics is advanced analytics. This part of data science takes advantage of advanced tools to extract data, make predictions and discover trends. These tools include classical statistics as well as machine learning. Machine learning technologies such as neural networks, natural language processing, sentiment analysis and more enable advanced analytics. This information provides new insight from data. Advanced analytics addresses “what if?” questions.\n",
      "The availability of machine learning techniques, massive data sets, and cheap computing power has enabled the use of these techniques in many industries. The collection of big data sets is instrumental in enabling these techniques. Big data analytics enables businesses to draw meaningful conclusions from complex and varied data sources, which has been made possible by advances in parallel processing and cheap computational power.\n",
      "Types of Data Analytics\n",
      "Data analytics is a broad field. There are four primary types of data analytics: descriptive, diagnostic, predictive and prescriptive analytics. Each type has a different goal and a different place in the data analysis process. These are also the primary data analytics applications in business.\n",
      "\n",
      "Descriptive analytics helps answer questions about what happened. These techniques summarize large datasets to describe outcomes to stakeholders. By developing key performance indicators (KPIs,) these strategies can help track successes or failures. Metrics such as return on i\n"
     ]
    }
   ],
   "source": [
    "print(file_contents[:2000])"
   ]
  },
  {
   "cell_type": "markdown",
   "id": "a046c17f",
   "metadata": {
    "papermill": {
     "duration": 0.013329,
     "end_time": "2022-09-22T11:49:21.243352",
     "exception": false,
     "start_time": "2022-09-22T11:49:21.230023",
     "status": "completed"
    },
    "tags": []
   },
   "source": [
    "# Some cleaning for the Data"
   ]
  },
  {
   "cell_type": "code",
   "execution_count": 4,
   "id": "f7b20c79",
   "metadata": {
    "execution": {
     "iopub.execute_input": "2022-09-22T11:49:21.273073Z",
     "iopub.status.busy": "2022-09-22T11:49:21.272368Z",
     "iopub.status.idle": "2022-09-22T11:49:21.279523Z",
     "shell.execute_reply": "2022-09-22T11:49:21.278472Z"
    },
    "papermill": {
     "duration": 0.025208,
     "end_time": "2022-09-22T11:49:21.282315",
     "exception": false,
     "start_time": "2022-09-22T11:49:21.257107",
     "status": "completed"
    },
    "tags": []
   },
   "outputs": [],
   "source": [
    "file_contents = file_contents.translate(str.maketrans(' ', ' ', \"!#$&'():/\\-;<>?[\\]^_`{|}~\"))\n",
    "file_contents = file_contents.replace(\"\\n\",\" \")\n",
    "file_contents = file_contents.replace('\"',\" \")\n",
    "file_contents = file_contents.strip(\" \")"
   ]
  },
  {
   "cell_type": "markdown",
   "id": "00cf31e2",
   "metadata": {
    "papermill": {
     "duration": 0.013521,
     "end_time": "2022-09-22T11:49:21.309686",
     "exception": false,
     "start_time": "2022-09-22T11:49:21.296165",
     "status": "completed"
    },
    "tags": []
   },
   "source": [
    "# inspect the Data after cleaning"
   ]
  },
  {
   "cell_type": "code",
   "execution_count": 5,
   "id": "65d5a1eb",
   "metadata": {
    "execution": {
     "iopub.execute_input": "2022-09-22T11:49:21.339390Z",
     "iopub.status.busy": "2022-09-22T11:49:21.338981Z",
     "iopub.status.idle": "2022-09-22T11:49:21.344469Z",
     "shell.execute_reply": "2022-09-22T11:49:21.343340Z"
    },
    "papermill": {
     "duration": 0.02333,
     "end_time": "2022-09-22T11:49:21.347124",
     "exception": false,
     "start_time": "2022-09-22T11:49:21.323794",
     "status": "completed"
    },
    "tags": []
   },
   "outputs": [
    {
     "name": "stdout",
     "output_type": "stream",
     "text": [
      "Generally, this process begins with descriptive analytics. This is the process of describing historical trends in data. Descriptive analytics aims to answer the question “what happened” This often involves measuring traditional indicators such as return on investment ROI. The indicators used will be different for each industry. Descriptive analytics does not make predictions or directly inform decisions. It focuses on summarizing data in a meaningful and descriptive way. The next essential part of data analytics is advanced analytics. This part of data science takes advantage of advanced tools to extract data, make predictions and discover trends. These tools include classical statistics as well as machine learning. Machine learning technologies such as neural networks, natural language processing, sentiment analysis and more enable advanced analytics. This information provides new insight from data. Advanced analytics addresses “what if” questions. The availability of machine learning techniques, massive data sets, and cheap computing power has enabled the use of these techniques in many industries. The collection of big data sets is instrumental in enabling these techniques. Big data analytics enables businesses to draw meaningful conclusions from complex and varied data sources, which has been made possible by advances in parallel processing and cheap computational power. Types of Data Analytics Data analytics is a broad field. There are four primary types of data analytics descriptive, diagnostic, predictive and prescriptive analytics. Each type has a different goal and a different place in the data analysis process. These are also the primary data analytics applications in business.  Descriptive analytics helps answer questions about what happened. These techniques summarize large datasets to describe outcomes to stakeholders. By developing key performance indicators KPIs, these strategies can help track successes or failures. Metrics such as return on investme\n"
     ]
    }
   ],
   "source": [
    "print(file_contents[:2000])"
   ]
  },
  {
   "cell_type": "markdown",
   "id": "c26419c4",
   "metadata": {
    "papermill": {
     "duration": 0.013418,
     "end_time": "2022-09-22T11:49:21.374362",
     "exception": false,
     "start_time": "2022-09-22T11:49:21.360944",
     "status": "completed"
    },
    "tags": []
   },
   "source": [
    "# TfIdf Model"
   ]
  },
  {
   "cell_type": "code",
   "execution_count": 6,
   "id": "73b0fb8c",
   "metadata": {
    "execution": {
     "iopub.execute_input": "2022-09-22T11:49:21.405094Z",
     "iopub.status.busy": "2022-09-22T11:49:21.404047Z",
     "iopub.status.idle": "2022-09-22T11:49:29.706199Z",
     "shell.execute_reply": "2022-09-22T11:49:29.704829Z"
    },
    "papermill": {
     "duration": 8.320951,
     "end_time": "2022-09-22T11:49:29.709243",
     "exception": false,
     "start_time": "2022-09-22T11:49:21.388292",
     "status": "completed"
    },
    "tags": []
   },
   "outputs": [],
   "source": [
    "\n",
    "extractor = pke.unsupervised.TfIdf()        # initialize a keyphrase extraction model, here TFxIDF\n",
    "extractor.load_document(input=file_contents)       # load the content of the document (str or spacy Doc)\n",
    "extractor.candidate_selection()             # identify keyphrase candidates\n",
    "extractor.candidate_weighting()             # weight keyphrase candidates\n",
    "keyphrases1 = extractor.get_n_best(n=100) "
   ]
  },
  {
   "cell_type": "markdown",
   "id": "f9c62736",
   "metadata": {
    "papermill": {
     "duration": 0.013558,
     "end_time": "2022-09-22T11:49:29.736659",
     "exception": false,
     "start_time": "2022-09-22T11:49:29.723101",
     "status": "completed"
    },
    "tags": []
   },
   "source": [
    "# TextRank Model"
   ]
  },
  {
   "cell_type": "markdown",
   "id": "b3bc0d63",
   "metadata": {
    "papermill": {
     "duration": 0.013486,
     "end_time": "2022-09-22T11:49:29.763830",
     "exception": false,
     "start_time": "2022-09-22T11:49:29.750344",
     "status": "completed"
    },
    "tags": []
   },
   "source": [
    "> ###  keyphrases1 contains top weight 100 phrases"
   ]
  },
  {
   "cell_type": "code",
   "execution_count": 7,
   "id": "844651cd",
   "metadata": {
    "execution": {
     "iopub.execute_input": "2022-09-22T11:49:29.792857Z",
     "iopub.status.busy": "2022-09-22T11:49:29.792443Z",
     "iopub.status.idle": "2022-09-22T11:49:32.135053Z",
     "shell.execute_reply": "2022-09-22T11:49:32.133679Z"
    },
    "papermill": {
     "duration": 2.360473,
     "end_time": "2022-09-22T11:49:32.137886",
     "exception": false,
     "start_time": "2022-09-22T11:49:29.777413",
     "status": "completed"
    },
    "tags": []
   },
   "outputs": [],
   "source": [
    "extractor = pke.unsupervised.TextRank()        # initialize a keyphrase extraction model, here TFxIDF\n",
    "extractor.load_document(input=file_contents)       # load the content of the document (str or spacy Doc)\n",
    "extractor.candidate_selection()             # identify keyphrase candidates\n",
    "extractor.candidate_weighting()             # weight keyphrase candidates\n",
    "keyphrases2 = extractor.get_n_best(n=100) "
   ]
  },
  {
   "cell_type": "markdown",
   "id": "86ab1b01",
   "metadata": {
    "papermill": {
     "duration": 0.013362,
     "end_time": "2022-09-22T11:49:32.165267",
     "exception": false,
     "start_time": "2022-09-22T11:49:32.151905",
     "status": "completed"
    },
    "tags": []
   },
   "source": [
    "> ###  keyphrases2 contains top weight 100 phrases"
   ]
  },
  {
   "cell_type": "markdown",
   "id": "987ff817",
   "metadata": {
    "papermill": {
     "duration": 0.013476,
     "end_time": "2022-09-22T11:49:32.192983",
     "exception": false,
     "start_time": "2022-09-22T11:49:32.179507",
     "status": "completed"
    },
    "tags": []
   },
   "source": [
    "# SingleRank Model"
   ]
  },
  {
   "cell_type": "code",
   "execution_count": 8,
   "id": "149ea4f5",
   "metadata": {
    "execution": {
     "iopub.execute_input": "2022-09-22T11:49:32.222248Z",
     "iopub.status.busy": "2022-09-22T11:49:32.221849Z",
     "iopub.status.idle": "2022-09-22T11:49:34.723014Z",
     "shell.execute_reply": "2022-09-22T11:49:34.721766Z"
    },
    "papermill": {
     "duration": 2.518987,
     "end_time": "2022-09-22T11:49:34.725750",
     "exception": false,
     "start_time": "2022-09-22T11:49:32.206763",
     "status": "completed"
    },
    "tags": []
   },
   "outputs": [],
   "source": [
    "extractor = pke.unsupervised.SingleRank()        # initialize a keyphrase extraction model, here TFxIDF\n",
    "extractor.load_document(input=file_contents)       # load the content of the document (str or spacy Doc)\n",
    "extractor.candidate_selection()             # identify keyphrase candidates\n",
    "extractor.candidate_weighting()             # weight keyphrase candidates\n",
    "keyphrases3 = extractor.get_n_best(n=100) "
   ]
  },
  {
   "cell_type": "markdown",
   "id": "88e9630d",
   "metadata": {
    "papermill": {
     "duration": 0.013675,
     "end_time": "2022-09-22T11:49:34.753343",
     "exception": false,
     "start_time": "2022-09-22T11:49:34.739668",
     "status": "completed"
    },
    "tags": []
   },
   "source": [
    "> ###  keyphrases3 contains top weight 100 phrases"
   ]
  },
  {
   "cell_type": "markdown",
   "id": "922880f2",
   "metadata": {
    "papermill": {
     "duration": 0.013378,
     "end_time": "2022-09-22T11:49:34.780383",
     "exception": false,
     "start_time": "2022-09-22T11:49:34.767005",
     "status": "completed"
    },
    "tags": []
   },
   "source": [
    "# TopicRank Model"
   ]
  },
  {
   "cell_type": "code",
   "execution_count": 9,
   "id": "32404f51",
   "metadata": {
    "execution": {
     "iopub.execute_input": "2022-09-22T11:49:34.809460Z",
     "iopub.status.busy": "2022-09-22T11:49:34.809033Z",
     "iopub.status.idle": "2022-09-22T11:49:38.022152Z",
     "shell.execute_reply": "2022-09-22T11:49:38.021173Z"
    },
    "papermill": {
     "duration": 3.230774,
     "end_time": "2022-09-22T11:49:38.024776",
     "exception": false,
     "start_time": "2022-09-22T11:49:34.794002",
     "status": "completed"
    },
    "tags": []
   },
   "outputs": [],
   "source": [
    "extractor = pke.unsupervised.TopicRank()        # initialize a keyphrase extraction model, here TFxIDF\n",
    "extractor.load_document(input=file_contents)       # load the content of the document (str or spacy Doc)\n",
    "extractor.candidate_selection()             # identify keyphrase candidates\n",
    "extractor.candidate_weighting()             # weight keyphrase candidates\n",
    "keyphrases4 = extractor.get_n_best(n=100) "
   ]
  },
  {
   "cell_type": "markdown",
   "id": "17b7332c",
   "metadata": {
    "papermill": {
     "duration": 0.013665,
     "end_time": "2022-09-22T11:49:38.052736",
     "exception": false,
     "start_time": "2022-09-22T11:49:38.039071",
     "status": "completed"
    },
    "tags": []
   },
   "source": [
    "> ###  keyphrases4 contains top weight 100 phrases"
   ]
  },
  {
   "cell_type": "markdown",
   "id": "bb6002b7",
   "metadata": {
    "papermill": {
     "duration": 0.01401,
     "end_time": "2022-09-22T11:49:38.080764",
     "exception": false,
     "start_time": "2022-09-22T11:49:38.066754",
     "status": "completed"
    },
    "tags": []
   },
   "source": [
    "# TopicalPageRank Model"
   ]
  },
  {
   "cell_type": "code",
   "execution_count": 10,
   "id": "102b9047",
   "metadata": {
    "execution": {
     "iopub.execute_input": "2022-09-22T11:49:38.110465Z",
     "iopub.status.busy": "2022-09-22T11:49:38.110057Z",
     "iopub.status.idle": "2022-09-22T11:49:41.788263Z",
     "shell.execute_reply": "2022-09-22T11:49:41.786921Z"
    },
    "papermill": {
     "duration": 3.696474,
     "end_time": "2022-09-22T11:49:41.791106",
     "exception": false,
     "start_time": "2022-09-22T11:49:38.094632",
     "status": "completed"
    },
    "tags": []
   },
   "outputs": [],
   "source": [
    "extractor = pke.unsupervised.TopicalPageRank()        # initialize a keyphrase extraction model, here TFxIDF\n",
    "extractor.load_document(input=file_contents)       # load the content of the document (str or spacy Doc)\n",
    "extractor.candidate_selection()             # identify keyphrase candidates\n",
    "extractor.candidate_weighting()             # weight keyphrase candidates\n",
    "keyphrases5 = extractor.get_n_best(n=100) "
   ]
  },
  {
   "cell_type": "markdown",
   "id": "518ae222",
   "metadata": {
    "papermill": {
     "duration": 0.01359,
     "end_time": "2022-09-22T11:49:41.819217",
     "exception": false,
     "start_time": "2022-09-22T11:49:41.805627",
     "status": "completed"
    },
    "tags": []
   },
   "source": [
    "> ###  keyphrases5 contains top weight 100 phrases"
   ]
  },
  {
   "cell_type": "markdown",
   "id": "d37656f1",
   "metadata": {
    "papermill": {
     "duration": 0.013527,
     "end_time": "2022-09-22T11:49:41.846638",
     "exception": false,
     "start_time": "2022-09-22T11:49:41.833111",
     "status": "completed"
    },
    "tags": []
   },
   "source": [
    "# PositionRank Model"
   ]
  },
  {
   "cell_type": "code",
   "execution_count": 11,
   "id": "51076a3d",
   "metadata": {
    "execution": {
     "iopub.execute_input": "2022-09-22T11:49:41.876223Z",
     "iopub.status.busy": "2022-09-22T11:49:41.875791Z",
     "iopub.status.idle": "2022-09-22T11:49:44.367513Z",
     "shell.execute_reply": "2022-09-22T11:49:44.366217Z"
    },
    "papermill": {
     "duration": 2.509891,
     "end_time": "2022-09-22T11:49:44.370302",
     "exception": false,
     "start_time": "2022-09-22T11:49:41.860411",
     "status": "completed"
    },
    "tags": []
   },
   "outputs": [],
   "source": [
    "extractor = pke.unsupervised.PositionRank()        # initialize a keyphrase extraction model, here TFxIDF\n",
    "extractor.load_document(input=file_contents)       # load the content of the document (str or spacy Doc)\n",
    "extractor.candidate_selection()             # identify keyphrase candidates\n",
    "extractor.candidate_weighting()             # weight keyphrase candidates\n",
    "keyphrases6 = extractor.get_n_best(n=100) "
   ]
  },
  {
   "cell_type": "markdown",
   "id": "86959ebf",
   "metadata": {
    "papermill": {
     "duration": 0.01342,
     "end_time": "2022-09-22T11:49:44.398078",
     "exception": false,
     "start_time": "2022-09-22T11:49:44.384658",
     "status": "completed"
    },
    "tags": []
   },
   "source": [
    "> ###  keyphrases6 contains top weight 100 phrases"
   ]
  },
  {
   "cell_type": "markdown",
   "id": "df870204",
   "metadata": {
    "papermill": {
     "duration": 0.013467,
     "end_time": "2022-09-22T11:49:44.425178",
     "exception": false,
     "start_time": "2022-09-22T11:49:44.411711",
     "status": "completed"
    },
    "tags": []
   },
   "source": [
    "# MultipartiteRank Model"
   ]
  },
  {
   "cell_type": "code",
   "execution_count": 12,
   "id": "57eb9e20",
   "metadata": {
    "execution": {
     "iopub.execute_input": "2022-09-22T11:49:44.458991Z",
     "iopub.status.busy": "2022-09-22T11:49:44.457682Z",
     "iopub.status.idle": "2022-09-22T11:49:49.316368Z",
     "shell.execute_reply": "2022-09-22T11:49:49.315393Z"
    },
    "papermill": {
     "duration": 4.877171,
     "end_time": "2022-09-22T11:49:49.319037",
     "exception": false,
     "start_time": "2022-09-22T11:49:44.441866",
     "status": "completed"
    },
    "tags": []
   },
   "outputs": [],
   "source": [
    "extractor = pke.unsupervised.MultipartiteRank()        # initialize a keyphrase extraction model, here TFxIDF\n",
    "extractor.load_document(input=file_contents)       # load the content of the document (str or spacy Doc)\n",
    "extractor.candidate_selection()             # identify keyphrase candidates\n",
    "extractor.candidate_weighting()             # weight keyphrase candidates\n",
    "keyphrases7 = extractor.get_n_best(n=100) \n"
   ]
  },
  {
   "cell_type": "markdown",
   "id": "971bea1e",
   "metadata": {
    "papermill": {
     "duration": 0.013854,
     "end_time": "2022-09-22T11:49:49.346745",
     "exception": false,
     "start_time": "2022-09-22T11:49:49.332891",
     "status": "completed"
    },
    "tags": []
   },
   "source": [
    "> ###  keyphrases7 contains top weight 100 phrases"
   ]
  },
  {
   "cell_type": "markdown",
   "id": "f843b774",
   "metadata": {
    "papermill": {
     "duration": 0.013373,
     "end_time": "2022-09-22T11:49:49.374123",
     "exception": false,
     "start_time": "2022-09-22T11:49:49.360750",
     "status": "completed"
    },
    "tags": []
   },
   "source": [
    "# Put all the phrases results with each model in a lists"
   ]
  },
  {
   "cell_type": "code",
   "execution_count": 13,
   "id": "6b0bfe8f",
   "metadata": {
    "execution": {
     "iopub.execute_input": "2022-09-22T11:49:49.404121Z",
     "iopub.status.busy": "2022-09-22T11:49:49.403443Z",
     "iopub.status.idle": "2022-09-22T11:49:49.411569Z",
     "shell.execute_reply": "2022-09-22T11:49:49.410723Z"
    },
    "papermill": {
     "duration": 0.025864,
     "end_time": "2022-09-22T11:49:49.413908",
     "exception": false,
     "start_time": "2022-09-22T11:49:49.388044",
     "status": "completed"
    },
    "tags": []
   },
   "outputs": [],
   "source": [
    "TfIdf = []\n",
    "for i , j in keyphrases1:\n",
    "    TfIdf.append(i)\n",
    "    \n",
    "TextRank = []\n",
    "for i , j in keyphrases2:\n",
    "    TextRank.append(i)\n",
    "    \n",
    "SingleRank = []\n",
    "for i , j in keyphrases3:\n",
    "    SingleRank.append(i)\n",
    "    \n",
    "TopicRank = []\n",
    "for i , j in keyphrases4:\n",
    "    TopicRank.append(i)\n",
    "    \n",
    "TopicalPageRank = []\n",
    "for i , j in keyphrases5:\n",
    "    TopicalPageRank.append(i)\n",
    "\n",
    "PositionRank = []\n",
    "for i , j in keyphrases6:\n",
    "    PositionRank.append(i)\n",
    "    \n",
    "MultipartiteRank = []\n",
    "for i , j in keyphrases7:\n",
    "    MultipartiteRank.append(i)\n"
   ]
  },
  {
   "cell_type": "markdown",
   "id": "3c9d66fa",
   "metadata": {
    "papermill": {
     "duration": 0.013434,
     "end_time": "2022-09-22T11:49:49.441083",
     "exception": false,
     "start_time": "2022-09-22T11:49:49.427649",
     "status": "completed"
    },
    "tags": []
   },
   "source": [
    "### Put all the lists of phrases results with each model in a list called keys"
   ]
  },
  {
   "cell_type": "code",
   "execution_count": 14,
   "id": "af2a00c1",
   "metadata": {
    "execution": {
     "iopub.execute_input": "2022-09-22T11:49:49.470916Z",
     "iopub.status.busy": "2022-09-22T11:49:49.470263Z",
     "iopub.status.idle": "2022-09-22T11:49:49.475339Z",
     "shell.execute_reply": "2022-09-22T11:49:49.474508Z"
    },
    "papermill": {
     "duration": 0.022747,
     "end_time": "2022-09-22T11:49:49.477616",
     "exception": false,
     "start_time": "2022-09-22T11:49:49.454869",
     "status": "completed"
    },
    "tags": []
   },
   "outputs": [],
   "source": [
    "keys = TfIdf + TextRank + SingleRank + TopicRank +TopicalPageRank + PositionRank + MultipartiteRank"
   ]
  },
  {
   "cell_type": "code",
   "execution_count": 15,
   "id": "34303f63",
   "metadata": {
    "execution": {
     "iopub.execute_input": "2022-09-22T11:49:49.507298Z",
     "iopub.status.busy": "2022-09-22T11:49:49.506678Z",
     "iopub.status.idle": "2022-09-22T11:49:49.515892Z",
     "shell.execute_reply": "2022-09-22T11:49:49.514721Z"
    },
    "papermill": {
     "duration": 0.026693,
     "end_time": "2022-09-22T11:49:49.518200",
     "exception": false,
     "start_time": "2022-09-22T11:49:49.491507",
     "status": "completed"
    },
    "tags": []
   },
   "outputs": [
    {
     "data": {
      "text/plain": [
       "700"
      ]
     },
     "execution_count": 15,
     "metadata": {},
     "output_type": "execute_result"
    }
   ],
   "source": [
    "len(keys)"
   ]
  },
  {
   "cell_type": "markdown",
   "id": "a3827bee",
   "metadata": {
    "papermill": {
     "duration": 0.013637,
     "end_time": "2022-09-22T11:49:49.545901",
     "exception": false,
     "start_time": "2022-09-22T11:49:49.532264",
     "status": "completed"
    },
    "tags": []
   },
   "source": [
    "- 700 Keyword \n",
    "- 100 from each model"
   ]
  },
  {
   "cell_type": "markdown",
   "id": "33a051dc",
   "metadata": {
    "papermill": {
     "duration": 0.01375,
     "end_time": "2022-09-22T11:49:49.573688",
     "exception": false,
     "start_time": "2022-09-22T11:49:49.559938",
     "status": "completed"
    },
    "tags": []
   },
   "source": [
    "# Convet the list \"Keys\" into a dataframes to counts the values"
   ]
  },
  {
   "cell_type": "code",
   "execution_count": 16,
   "id": "7a84f825",
   "metadata": {
    "execution": {
     "iopub.execute_input": "2022-09-22T11:49:49.604512Z",
     "iopub.status.busy": "2022-09-22T11:49:49.603184Z",
     "iopub.status.idle": "2022-09-22T11:49:49.615637Z",
     "shell.execute_reply": "2022-09-22T11:49:49.614197Z"
    },
    "papermill": {
     "duration": 0.030349,
     "end_time": "2022-09-22T11:49:49.618194",
     "exception": false,
     "start_time": "2022-09-22T11:49:49.587845",
     "status": "completed"
    },
    "tags": []
   },
   "outputs": [],
   "source": [
    "df = pd.DataFrame(keys,columns=['MOST FRQUENT PHRASES'])"
   ]
  },
  {
   "cell_type": "markdown",
   "id": "a22bd4b3",
   "metadata": {
    "papermill": {
     "duration": 0.013748,
     "end_time": "2022-09-22T11:49:49.646025",
     "exception": false,
     "start_time": "2022-09-22T11:49:49.632277",
     "status": "completed"
    },
    "tags": []
   },
   "source": [
    "# inspect the DataFrame"
   ]
  },
  {
   "cell_type": "code",
   "execution_count": 17,
   "id": "87740488",
   "metadata": {
    "execution": {
     "iopub.execute_input": "2022-09-22T11:49:49.676180Z",
     "iopub.status.busy": "2022-09-22T11:49:49.675687Z",
     "iopub.status.idle": "2022-09-22T11:49:49.694765Z",
     "shell.execute_reply": "2022-09-22T11:49:49.693523Z"
    },
    "papermill": {
     "duration": 0.037007,
     "end_time": "2022-09-22T11:49:49.697185",
     "exception": false,
     "start_time": "2022-09-22T11:49:49.660178",
     "status": "completed"
    },
    "tags": []
   },
   "outputs": [
    {
     "data": {
      "text/html": [
       "<div>\n",
       "<style scoped>\n",
       "    .dataframe tbody tr th:only-of-type {\n",
       "        vertical-align: middle;\n",
       "    }\n",
       "\n",
       "    .dataframe tbody tr th {\n",
       "        vertical-align: top;\n",
       "    }\n",
       "\n",
       "    .dataframe thead th {\n",
       "        text-align: right;\n",
       "    }\n",
       "</style>\n",
       "<table border=\"1\" class=\"dataframe\">\n",
       "  <thead>\n",
       "    <tr style=\"text-align: right;\">\n",
       "      <th></th>\n",
       "      <th>MOST FRQUENT PHRASES</th>\n",
       "    </tr>\n",
       "  </thead>\n",
       "  <tbody>\n",
       "    <tr>\n",
       "      <th>0</th>\n",
       "      <td>data analytics</td>\n",
       "    </tr>\n",
       "    <tr>\n",
       "      <th>1</th>\n",
       "      <td>analytics</td>\n",
       "    </tr>\n",
       "    <tr>\n",
       "      <th>2</th>\n",
       "      <td>data analysts</td>\n",
       "    </tr>\n",
       "    <tr>\n",
       "      <th>3</th>\n",
       "      <td>analysts</td>\n",
       "    </tr>\n",
       "    <tr>\n",
       "      <th>4</th>\n",
       "      <td>data</td>\n",
       "    </tr>\n",
       "    <tr>\n",
       "      <th>...</th>\n",
       "      <td>...</td>\n",
       "    </tr>\n",
       "    <tr>\n",
       "      <th>695</th>\n",
       "      <td>availability</td>\n",
       "    </tr>\n",
       "    <tr>\n",
       "      <th>696</th>\n",
       "      <td>data analytics descriptive</td>\n",
       "    </tr>\n",
       "    <tr>\n",
       "      <th>697</th>\n",
       "      <td>big data analytics</td>\n",
       "    </tr>\n",
       "    <tr>\n",
       "      <th>698</th>\n",
       "      <td>effective</td>\n",
       "    </tr>\n",
       "    <tr>\n",
       "      <th>699</th>\n",
       "      <td>past performance</td>\n",
       "    </tr>\n",
       "  </tbody>\n",
       "</table>\n",
       "<p>700 rows × 1 columns</p>\n",
       "</div>"
      ],
      "text/plain": [
       "           MOST FRQUENT PHRASES\n",
       "0                data analytics\n",
       "1                     analytics\n",
       "2                 data analysts\n",
       "3                      analysts\n",
       "4                          data\n",
       "..                          ...\n",
       "695                availability\n",
       "696  data analytics descriptive\n",
       "697          big data analytics\n",
       "698                   effective\n",
       "699            past performance\n",
       "\n",
       "[700 rows x 1 columns]"
      ]
     },
     "execution_count": 17,
     "metadata": {},
     "output_type": "execute_result"
    }
   ],
   "source": [
    "df"
   ]
  },
  {
   "cell_type": "markdown",
   "id": "625c6ef1",
   "metadata": {
    "papermill": {
     "duration": 0.014674,
     "end_time": "2022-09-22T11:49:49.726087",
     "exception": false,
     "start_time": "2022-09-22T11:49:49.711413",
     "status": "completed"
    },
    "tags": []
   },
   "source": [
    "# Count the values of the DataFrame \"df\""
   ]
  },
  {
   "cell_type": "code",
   "execution_count": 18,
   "id": "8a49c01e",
   "metadata": {
    "execution": {
     "iopub.execute_input": "2022-09-22T11:49:49.758175Z",
     "iopub.status.busy": "2022-09-22T11:49:49.757507Z",
     "iopub.status.idle": "2022-09-22T11:49:49.778144Z",
     "shell.execute_reply": "2022-09-22T11:49:49.777231Z"
    },
    "papermill": {
     "duration": 0.039527,
     "end_time": "2022-09-22T11:49:49.780995",
     "exception": false,
     "start_time": "2022-09-22T11:49:49.741468",
     "status": "completed"
    },
    "tags": []
   },
   "outputs": [
    {
     "data": {
      "text/plain": [
       "MOST FRQUENT PHRASES  \n",
       "data science              7\n",
       "data analytics            7\n",
       "new insight               7\n",
       "prescriptive analytics    7\n",
       "data                      7\n",
       "                         ..\n",
       "face                      1\n",
       "extract data              1\n",
       "executives                1\n",
       "events                    1\n",
       "iot devices               1\n",
       "Length: 258, dtype: int64"
      ]
     },
     "execution_count": 18,
     "metadata": {},
     "output_type": "execute_result"
    }
   ],
   "source": [
    "df.value_counts()"
   ]
  },
  {
   "cell_type": "markdown",
   "id": "56acbc38",
   "metadata": {
    "papermill": {
     "duration": 0.014168,
     "end_time": "2022-09-22T11:49:49.809810",
     "exception": false,
     "start_time": "2022-09-22T11:49:49.795642",
     "status": "completed"
    },
    "tags": []
   },
   "source": [
    "# Select top 25 phrase that repeated all over the models"
   ]
  },
  {
   "cell_type": "code",
   "execution_count": 19,
   "id": "ba29a927",
   "metadata": {
    "execution": {
     "iopub.execute_input": "2022-09-22T11:49:49.841352Z",
     "iopub.status.busy": "2022-09-22T11:49:49.840617Z",
     "iopub.status.idle": "2022-09-22T11:49:49.847699Z",
     "shell.execute_reply": "2022-09-22T11:49:49.846732Z"
    },
    "papermill": {
     "duration": 0.025741,
     "end_time": "2022-09-22T11:49:49.850233",
     "exception": false,
     "start_time": "2022-09-22T11:49:49.824492",
     "status": "completed"
    },
    "tags": []
   },
   "outputs": [],
   "source": [
    "top_25 = df.value_counts()[:25]\n",
    "top_25 = (top_25.index)"
   ]
  },
  {
   "cell_type": "markdown",
   "id": "9d7d0164",
   "metadata": {
    "papermill": {
     "duration": 0.014256,
     "end_time": "2022-09-22T11:49:49.879167",
     "exception": false,
     "start_time": "2022-09-22T11:49:49.864911",
     "status": "completed"
    },
    "tags": []
   },
   "source": [
    "## Convert \"top_25\" into a list of strings instead of list of tuples"
   ]
  },
  {
   "cell_type": "code",
   "execution_count": 20,
   "id": "c570fa09",
   "metadata": {
    "execution": {
     "iopub.execute_input": "2022-09-22T11:49:49.911137Z",
     "iopub.status.busy": "2022-09-22T11:49:49.910371Z",
     "iopub.status.idle": "2022-09-22T11:49:49.918889Z",
     "shell.execute_reply": "2022-09-22T11:49:49.917289Z"
    },
    "papermill": {
     "duration": 0.027675,
     "end_time": "2022-09-22T11:49:49.921518",
     "exception": false,
     "start_time": "2022-09-22T11:49:49.893843",
     "status": "completed"
    },
    "tags": []
   },
   "outputs": [
    {
     "data": {
      "text/plain": [
       "['data science',\n",
       " 'data analytics',\n",
       " 'new insight',\n",
       " 'prescriptive analytics',\n",
       " 'data',\n",
       " 'data management',\n",
       " 'advanced analytics',\n",
       " 'descriptive analytics',\n",
       " 'big data',\n",
       " 'statistical models',\n",
       " 'machine learning',\n",
       " 'diagnostic analytics',\n",
       " 'data presentation',\n",
       " 'large complex databases',\n",
       " 'data mining',\n",
       " 'classical statistics',\n",
       " 'data analysis',\n",
       " 'data visualization',\n",
       " 'data warehousing',\n",
       " 'statistical analysis',\n",
       " 'varied data sources',\n",
       " 'predictive analytics',\n",
       " 'techniques',\n",
       " 'efficient decisions',\n",
       " 'essential insight']"
      ]
     },
     "execution_count": 20,
     "metadata": {},
     "output_type": "execute_result"
    }
   ],
   "source": [
    "final = []\n",
    "for i in top_25:\n",
    "    final.append(i[0])\n",
    "final"
   ]
  },
  {
   "cell_type": "markdown",
   "id": "ffcb7a51",
   "metadata": {
    "papermill": {
     "duration": 0.014191,
     "end_time": "2022-09-22T11:49:49.951105",
     "exception": false,
     "start_time": "2022-09-22T11:49:49.936914",
     "status": "completed"
    },
    "tags": []
   },
   "source": [
    "### Map each important word to the paragraphs found in text"
   ]
  },
  {
   "cell_type": "code",
   "execution_count": 21,
   "id": "e5d1552b",
   "metadata": {
    "execution": {
     "iopub.execute_input": "2022-09-22T11:49:49.982188Z",
     "iopub.status.busy": "2022-09-22T11:49:49.981748Z",
     "iopub.status.idle": "2022-09-22T11:49:50.022892Z",
     "shell.execute_reply": "2022-09-22T11:49:50.021764Z"
    },
    "papermill": {
     "duration": 0.059659,
     "end_time": "2022-09-22T11:49:50.025478",
     "exception": false,
     "start_time": "2022-09-22T11:49:49.965819",
     "status": "completed"
    },
    "tags": []
   },
   "outputs": [],
   "source": [
    "from nltk.tokenize import sent_tokenize\n",
    "from flashtext import KeywordProcessor\n",
    "\n",
    "def tokenize_sentences(text):\n",
    "    sentences = [sent_tokenize(text)]\n",
    "    sentences = [y for x in sentences for y in x]\n",
    "    # Remove any short sentences less than 20 letters.\n",
    "    sentences = [sentence.strip() for sentence in sentences if len(sentence) > 20]\n",
    "    return sentences\n",
    "\n",
    "def get_sentences_for_keyword(keywords, sentences):\n",
    "    keyword_processor = KeywordProcessor()\n",
    "    keyword_sentences = {}\n",
    "    for word in keywords:\n",
    "        keyword_sentences[word] = []\n",
    "        keyword_processor.add_keyword(word)\n",
    "    for sentence in sentences:\n",
    "        keywords_found = keyword_processor.extract_keywords(sentence)\n",
    "        for key in keywords_found:\n",
    "            keyword_sentences[key].append(sentence)\n",
    "\n",
    "    for key in keyword_sentences.keys():\n",
    "        values = keyword_sentences[key]\n",
    "        values = sorted(values, key=len, reverse=True)\n",
    "        keyword_sentences[key] = values\n",
    "    return keyword_sentences\n",
    "\n",
    "sentences = tokenize_sentences(file_contents)\n",
    "keyword_sentence_mapping = get_sentences_for_keyword(final, sentences)      "
   ]
  },
  {
   "cell_type": "markdown",
   "id": "6d9f0b3d",
   "metadata": {
    "papermill": {
     "duration": 0.014207,
     "end_time": "2022-09-22T11:49:50.054416",
     "exception": false,
     "start_time": "2022-09-22T11:49:50.040209",
     "status": "completed"
    },
    "tags": []
   },
   "source": [
    "# Print each word with its related paragraphs"
   ]
  },
  {
   "cell_type": "code",
   "execution_count": 22,
   "id": "4cf04a41",
   "metadata": {
    "execution": {
     "iopub.execute_input": "2022-09-22T11:49:50.086072Z",
     "iopub.status.busy": "2022-09-22T11:49:50.085161Z",
     "iopub.status.idle": "2022-09-22T11:49:50.089509Z",
     "shell.execute_reply": "2022-09-22T11:49:50.088676Z"
    },
    "papermill": {
     "duration": 0.022966,
     "end_time": "2022-09-22T11:49:50.091993",
     "exception": false,
     "start_time": "2022-09-22T11:49:50.069027",
     "status": "completed"
    },
    "tags": []
   },
   "outputs": [],
   "source": [
    "#print (keyword_sentence_mapping)\n",
    "sentences  = list(keyword_sentence_mapping.values())"
   ]
  },
  {
   "cell_type": "code",
   "execution_count": 23,
   "id": "98e59c63",
   "metadata": {
    "execution": {
     "iopub.execute_input": "2022-09-22T11:49:50.122961Z",
     "iopub.status.busy": "2022-09-22T11:49:50.122561Z",
     "iopub.status.idle": "2022-09-22T11:49:50.128656Z",
     "shell.execute_reply": "2022-09-22T11:49:50.127773Z"
    },
    "papermill": {
     "duration": 0.024133,
     "end_time": "2022-09-22T11:49:50.130778",
     "exception": false,
     "start_time": "2022-09-22T11:49:50.106645",
     "status": "completed"
    },
    "tags": []
   },
   "outputs": [],
   "source": [
    "final_sentences = []\n",
    "for i in sentences:\n",
    "    final_sentences.append(\"\".join(i))\n",
    "sentences = final_sentences "
   ]
  },
  {
   "cell_type": "code",
   "execution_count": 24,
   "id": "992bb074",
   "metadata": {
    "execution": {
     "iopub.execute_input": "2022-09-22T11:49:50.162228Z",
     "iopub.status.busy": "2022-09-22T11:49:50.161549Z",
     "iopub.status.idle": "2022-09-22T11:50:25.608826Z",
     "shell.execute_reply": "2022-09-22T11:50:25.607273Z"
    },
    "papermill": {
     "duration": 35.466144,
     "end_time": "2022-09-22T11:50:25.611550",
     "exception": false,
     "start_time": "2022-09-22T11:49:50.145406",
     "status": "completed"
    },
    "tags": []
   },
   "outputs": [
    {
     "name": "stdout",
     "output_type": "stream",
     "text": [
      "Collecting transformers==3.0.0\r\n",
      "  Downloading transformers-3.0.0-py3-none-any.whl (754 kB)\r\n",
      "\u001b[2K     \u001b[90m━━━━━━━━━━━━━━━━━━━━━━━━━━━━━━━━━━━━━━━\u001b[0m \u001b[32m754.6/754.6 kB\u001b[0m \u001b[31m2.1 MB/s\u001b[0m eta \u001b[36m0:00:00\u001b[0m\r\n",
      "\u001b[?25hRequirement already satisfied: packaging in /opt/conda/lib/python3.7/site-packages (from transformers==3.0.0) (21.3)\r\n",
      "Requirement already satisfied: sacremoses in /opt/conda/lib/python3.7/site-packages (from transformers==3.0.0) (0.0.53)\r\n",
      "Requirement already satisfied: filelock in /opt/conda/lib/python3.7/site-packages (from transformers==3.0.0) (3.7.1)\r\n",
      "Requirement already satisfied: requests in /opt/conda/lib/python3.7/site-packages (from transformers==3.0.0) (2.28.1)\r\n",
      "Requirement already satisfied: sentencepiece in /opt/conda/lib/python3.7/site-packages (from transformers==3.0.0) (0.1.97)\r\n",
      "Requirement already satisfied: numpy in /opt/conda/lib/python3.7/site-packages (from transformers==3.0.0) (1.21.6)\r\n",
      "Collecting tokenizers==0.8.0-rc4\r\n",
      "  Downloading tokenizers-0.8.0rc4-cp37-cp37m-manylinux1_x86_64.whl (3.0 MB)\r\n",
      "\u001b[2K     \u001b[90m━━━━━━━━━━━━━━━━━━━━━━━━━━━━━━━━━━━━━━━━\u001b[0m \u001b[32m3.0/3.0 MB\u001b[0m \u001b[31m14.8 MB/s\u001b[0m eta \u001b[36m0:00:00\u001b[0m\r\n",
      "\u001b[?25hRequirement already satisfied: tqdm>=4.27 in /opt/conda/lib/python3.7/site-packages (from transformers==3.0.0) (4.64.0)\r\n",
      "Requirement already satisfied: regex!=2019.12.17 in /opt/conda/lib/python3.7/site-packages (from transformers==3.0.0) (2021.11.10)\r\n",
      "Requirement already satisfied: pyparsing!=3.0.5,>=2.0.2 in /opt/conda/lib/python3.7/site-packages (from packaging->transformers==3.0.0) (3.0.9)\r\n",
      "Requirement already satisfied: urllib3<1.27,>=1.21.1 in /opt/conda/lib/python3.7/site-packages (from requests->transformers==3.0.0) (1.26.12)\r\n",
      "Requirement already satisfied: charset-normalizer<3,>=2 in /opt/conda/lib/python3.7/site-packages (from requests->transformers==3.0.0) (2.1.0)\r\n",
      "Requirement already satisfied: certifi>=2017.4.17 in /opt/conda/lib/python3.7/site-packages (from requests->transformers==3.0.0) (2022.6.15.2)\r\n",
      "Requirement already satisfied: idna<4,>=2.5 in /opt/conda/lib/python3.7/site-packages (from requests->transformers==3.0.0) (3.3)\r\n",
      "Requirement already satisfied: joblib in /opt/conda/lib/python3.7/site-packages (from sacremoses->transformers==3.0.0) (1.0.1)\r\n",
      "Requirement already satisfied: six in /opt/conda/lib/python3.7/site-packages (from sacremoses->transformers==3.0.0) (1.15.0)\r\n",
      "Requirement already satisfied: click in /opt/conda/lib/python3.7/site-packages (from sacremoses->transformers==3.0.0) (8.0.4)\r\n",
      "Requirement already satisfied: importlib-metadata in /opt/conda/lib/python3.7/site-packages (from click->sacremoses->transformers==3.0.0) (4.12.0)\r\n",
      "Requirement already satisfied: typing-extensions>=3.6.4 in /opt/conda/lib/python3.7/site-packages (from importlib-metadata->click->sacremoses->transformers==3.0.0) (4.1.1)\r\n",
      "Requirement already satisfied: zipp>=0.5 in /opt/conda/lib/python3.7/site-packages (from importlib-metadata->click->sacremoses->transformers==3.0.0) (3.8.0)\r\n",
      "Installing collected packages: tokenizers, transformers\r\n",
      "  Attempting uninstall: tokenizers\r\n",
      "    Found existing installation: tokenizers 0.12.1\r\n",
      "    Uninstalling tokenizers-0.12.1:\r\n",
      "      Successfully uninstalled tokenizers-0.12.1\r\n",
      "  Attempting uninstall: transformers\r\n",
      "    Found existing installation: transformers 4.20.1\r\n",
      "    Uninstalling transformers-4.20.1:\r\n",
      "      Successfully uninstalled transformers-4.20.1\r\n",
      "\u001b[31mERROR: pip's dependency resolver does not currently take into account all the packages that are installed. This behaviour is the source of the following dependency conflicts.\r\n",
      "allennlp 2.10.0 requires protobuf==3.20.0, but you have protobuf 3.19.4 which is incompatible.\r\n",
      "allennlp 2.10.0 requires transformers<4.21,>=4.1, but you have transformers 3.0.0 which is incompatible.\u001b[0m\u001b[31m\r\n",
      "\u001b[0mSuccessfully installed tokenizers-0.8.0rc4 transformers-3.0.0\r\n",
      "\u001b[33mWARNING: Running pip as the 'root' user can result in broken permissions and conflicting behaviour with the system package manager. It is recommended to use a virtual environment instead: https://pip.pypa.io/warnings/venv\u001b[0m\u001b[33m\r\n",
      "\u001b[0m/opt/conda/lib/python3.7/runpy.py:125: RuntimeWarning: 'nltk.downloader' found in sys.modules after import of package 'nltk', but prior to execution of 'nltk.downloader'; this may result in unpredictable behaviour\r\n",
      "  warn(RuntimeWarning(msg))\r\n",
      "[nltk_data] Downloading package punkt to /usr/share/nltk_data...\r\n",
      "[nltk_data]   Package punkt is already up-to-date!\r\n",
      "Cloning into 'question_generation'...\r\n",
      "remote: Enumerating objects: 268, done.\u001b[K\r\n",
      "remote: Total 268 (delta 0), reused 0 (delta 0), pack-reused 268\u001b[K\r\n",
      "Receiving objects: 100% (268/268), 299.04 KiB | 930.00 KiB/s, done.\r\n",
      "Resolving deltas: 100% (140/140), done.\r\n",
      "/kaggle/working/question_generation\n",
      "Collecting python-pipeline\r\n",
      "  Downloading python-pipeline-1.0.tar.gz (1.7 kB)\r\n",
      "  Preparing metadata (setup.py) ... \u001b[?25l-\b \bdone\r\n",
      "\u001b[?25hBuilding wheels for collected packages: python-pipeline\r\n",
      "  Building wheel for python-pipeline (setup.py) ... \u001b[?25l-\b \b\\\b \bdone\r\n",
      "\u001b[?25h  Created wheel for python-pipeline: filename=python_pipeline-1.0-py3-none-any.whl size=2392 sha256=a0841ef03af8ef476ba0fd79ccd32c6588b2cd7f5dfd8244a46eb3c3c71d266d\r\n",
      "  Stored in directory: /root/.cache/pip/wheels/a3/24/47/2764d8d2c7e16d11a1be2b784070782f4f60ff6b44be3172ff\r\n",
      "Successfully built python-pipeline\r\n",
      "Installing collected packages: python-pipeline\r\n",
      "Successfully installed python-pipeline-1.0\r\n",
      "\u001b[33mWARNING: Running pip as the 'root' user can result in broken permissions and conflicting behaviour with the system package manager. It is recommended to use a virtual environment instead: https://pip.pypa.io/warnings/venv\u001b[0m\u001b[33m\r\n",
      "\u001b[0mThe current process just got forked. Disabling parallelism to avoid deadlocks...\n",
      "To disable this warning, please explicitly set TOKENIZERS_PARALLELISM=(true | false)\n",
      "The current process just got forked. Disabling parallelism to avoid deadlocks...\n",
      "To disable this warning, please explicitly set TOKENIZERS_PARALLELISM=(true | false)\n"
     ]
    },
    {
     "name": "stderr",
     "output_type": "stream",
     "text": [
      "\u001b[34m\u001b[1mwandb\u001b[0m: \u001b[33mWARNING\u001b[0m W&B installed but not logged in.  Run `wandb login` or set the WANDB_API_KEY env variable.\n"
     ]
    },
    {
     "name": "stdout",
     "output_type": "stream",
     "text": [
      "The current process just got forked. Disabling parallelism to avoid deadlocks...\n",
      "To disable this warning, please explicitly set TOKENIZERS_PARALLELISM=(true | false)\n"
     ]
    }
   ],
   "source": [
    "!pip install -U transformers==3.0.0\n",
    "!python -m nltk.downloader punkt\n",
    "!git clone https://github.com/patil-suraj/question_generation.git\n",
    "%cd question_generation\n",
    "!pip install python-pipeline\n",
    "from pipelines import pipeline\n"
   ]
  },
  {
   "cell_type": "markdown",
   "id": "b5a16c00",
   "metadata": {
    "papermill": {
     "duration": 0.018452,
     "end_time": "2022-09-22T11:50:25.648352",
     "exception": false,
     "start_time": "2022-09-22T11:50:25.629900",
     "status": "completed"
    },
    "tags": []
   },
   "source": [
    "# Single task QA"
   ]
  },
  {
   "cell_type": "code",
   "execution_count": 25,
   "id": "1cb7e95b",
   "metadata": {
    "execution": {
     "iopub.execute_input": "2022-09-22T11:50:25.686462Z",
     "iopub.status.busy": "2022-09-22T11:50:25.685742Z",
     "iopub.status.idle": "2022-09-22T11:51:08.246905Z",
     "shell.execute_reply": "2022-09-22T11:51:08.245805Z"
    },
    "papermill": {
     "duration": 42.583459,
     "end_time": "2022-09-22T11:51:08.249779",
     "exception": false,
     "start_time": "2022-09-22T11:50:25.666320",
     "status": "completed"
    },
    "tags": []
   },
   "outputs": [
    {
     "data": {
      "application/vnd.jupyter.widget-view+json": {
       "model_id": "f87dc07f95314a8ab14941d7f1f3d358",
       "version_major": 2,
       "version_minor": 0
      },
      "text/plain": [
       "Downloading:   0%|          | 0.00/627 [00:00<?, ?B/s]"
      ]
     },
     "metadata": {},
     "output_type": "display_data"
    },
    {
     "data": {
      "application/vnd.jupyter.widget-view+json": {
       "model_id": "feb2da01c0244b0db432d957bd112b37",
       "version_major": 2,
       "version_minor": 0
      },
      "text/plain": [
       "Downloading:   0%|          | 0.00/792k [00:00<?, ?B/s]"
      ]
     },
     "metadata": {},
     "output_type": "display_data"
    },
    {
     "data": {
      "application/vnd.jupyter.widget-view+json": {
       "model_id": "43c68de676f047838592cc9739e49b54",
       "version_major": 2,
       "version_minor": 0
      },
      "text/plain": [
       "Downloading:   0%|          | 0.00/31.0 [00:00<?, ?B/s]"
      ]
     },
     "metadata": {},
     "output_type": "display_data"
    },
    {
     "data": {
      "application/vnd.jupyter.widget-view+json": {
       "model_id": "9078e9ef90e14fb4b3b463aadad61ff6",
       "version_major": 2,
       "version_minor": 0
      },
      "text/plain": [
       "Downloading:   0%|          | 0.00/65.0 [00:00<?, ?B/s]"
      ]
     },
     "metadata": {},
     "output_type": "display_data"
    },
    {
     "data": {
      "application/vnd.jupyter.widget-view+json": {
       "model_id": "3d9c9236c32e453abb7836984c0df242",
       "version_major": 2,
       "version_minor": 0
      },
      "text/plain": [
       "Downloading:   0%|          | 0.00/90.0 [00:00<?, ?B/s]"
      ]
     },
     "metadata": {},
     "output_type": "display_data"
    },
    {
     "data": {
      "application/vnd.jupyter.widget-view+json": {
       "model_id": "45c8645f98de4ce88796b2288386f3dc",
       "version_major": 2,
       "version_minor": 0
      },
      "text/plain": [
       "Downloading:   0%|          | 0.00/242M [00:00<?, ?B/s]"
      ]
     },
     "metadata": {},
     "output_type": "display_data"
    },
    {
     "data": {
      "application/vnd.jupyter.widget-view+json": {
       "model_id": "9604453ac0a14a1c976196f3319e2b45",
       "version_major": 2,
       "version_minor": 0
      },
      "text/plain": [
       "Downloading:   0%|          | 0.00/656 [00:00<?, ?B/s]"
      ]
     },
     "metadata": {},
     "output_type": "display_data"
    },
    {
     "data": {
      "application/vnd.jupyter.widget-view+json": {
       "model_id": "ea989569424f4df1877e8dc595919787",
       "version_major": 2,
       "version_minor": 0
      },
      "text/plain": [
       "Downloading:   0%|          | 0.00/792k [00:00<?, ?B/s]"
      ]
     },
     "metadata": {},
     "output_type": "display_data"
    },
    {
     "data": {
      "application/vnd.jupyter.widget-view+json": {
       "model_id": "c6d352a1f1a84cc1ad91b5b3850b7353",
       "version_major": 2,
       "version_minor": 0
      },
      "text/plain": [
       "Downloading:   0%|          | 0.00/31.0 [00:00<?, ?B/s]"
      ]
     },
     "metadata": {},
     "output_type": "display_data"
    },
    {
     "data": {
      "application/vnd.jupyter.widget-view+json": {
       "model_id": "2c6e973c8991484db63368b6274537b4",
       "version_major": 2,
       "version_minor": 0
      },
      "text/plain": [
       "Downloading:   0%|          | 0.00/65.0 [00:00<?, ?B/s]"
      ]
     },
     "metadata": {},
     "output_type": "display_data"
    },
    {
     "data": {
      "application/vnd.jupyter.widget-view+json": {
       "model_id": "781ef8745f17483d970b4aec1db51444",
       "version_major": 2,
       "version_minor": 0
      },
      "text/plain": [
       "Downloading:   0%|          | 0.00/90.0 [00:00<?, ?B/s]"
      ]
     },
     "metadata": {},
     "output_type": "display_data"
    },
    {
     "data": {
      "application/vnd.jupyter.widget-view+json": {
       "model_id": "c057e336caaa40fa80b3944793686511",
       "version_major": 2,
       "version_minor": 0
      },
      "text/plain": [
       "Downloading:   0%|          | 0.00/242M [00:00<?, ?B/s]"
      ]
     },
     "metadata": {},
     "output_type": "display_data"
    }
   ],
   "source": [
    "nlp = pipeline(\"question-generation\")\n",
    "\n",
    "ten_Questions1 = []\n",
    "for i in range(0,10):\n",
    "    ten_Questions1.append(nlp(sentences[i]))"
   ]
  },
  {
   "cell_type": "code",
   "execution_count": 26,
   "id": "59c102d1",
   "metadata": {
    "execution": {
     "iopub.execute_input": "2022-09-22T11:51:08.291051Z",
     "iopub.status.busy": "2022-09-22T11:51:08.290333Z",
     "iopub.status.idle": "2022-09-22T11:51:08.298718Z",
     "shell.execute_reply": "2022-09-22T11:51:08.297508Z"
    },
    "papermill": {
     "duration": 0.03142,
     "end_time": "2022-09-22T11:51:08.301274",
     "exception": false,
     "start_time": "2022-09-22T11:51:08.269854",
     "status": "completed"
    },
    "tags": []
   },
   "outputs": [
    {
     "data": {
      "text/plain": [
       "[[{'answer': 'data analytics',\n",
       "   'question': 'What type of analytics are you interested in?'}],\n",
       " [{'answer': 'data analytics',\n",
       "   'question': 'What type of data is interested in?'}],\n",
       " [{'answer': 'new insight',\n",
       "   'question': 'What does this information provide from data?'}],\n",
       " [{'answer': 'machine learning strategies',\n",
       "   'question': 'What do prescriptive analytics techniques use?'}],\n",
       " [{'answer': 'More and more data is being collected every day',\n",
       "   'question': 'What is a new opportunity to apply data analytics to more parts of business, science and everyday life?'}],\n",
       " [{'answer': 'data mining, data management, statistical analysis, and data presentation',\n",
       "   'question': 'What are the primary steps in the data analytics process?'}],\n",
       " [{'answer': 'what if', 'question': 'What does advanced analytics address?'}],\n",
       " [{'answer': 'descriptive analytics',\n",
       "   'question': 'What does descriptive analytics take the findings from?'}],\n",
       " [{'answer': 'data analytics',\n",
       "   'question': 'What enables businesses to draw meaningful conclusions from complex and varied data sources?'}],\n",
       " [{'answer': 'Big data',\n",
       "   'question': 'What is used to create statistical models that reveal trends in data?'}]]"
      ]
     },
     "execution_count": 26,
     "metadata": {},
     "output_type": "execute_result"
    }
   ],
   "source": [
    "ten_Questions1"
   ]
  },
  {
   "cell_type": "markdown",
   "id": "01b2f33d",
   "metadata": {
    "papermill": {
     "duration": 0.018836,
     "end_time": "2022-09-22T11:51:08.339459",
     "exception": false,
     "start_time": "2022-09-22T11:51:08.320623",
     "status": "completed"
    },
    "tags": []
   },
   "source": [
    "# Multitask QA-QG"
   ]
  },
  {
   "cell_type": "code",
   "execution_count": 27,
   "id": "5bbc923b",
   "metadata": {
    "execution": {
     "iopub.execute_input": "2022-09-22T11:51:08.379642Z",
     "iopub.status.busy": "2022-09-22T11:51:08.379198Z",
     "iopub.status.idle": "2022-09-22T11:51:13.587967Z",
     "shell.execute_reply": "2022-09-22T11:51:13.586985Z"
    },
    "papermill": {
     "duration": 5.231842,
     "end_time": "2022-09-22T11:51:13.590489",
     "exception": false,
     "start_time": "2022-09-22T11:51:08.358647",
     "status": "completed"
    },
    "tags": []
   },
   "outputs": [],
   "source": [
    "nlp = pipeline(\"multitask-qa-qg\")"
   ]
  },
  {
   "cell_type": "code",
   "execution_count": 28,
   "id": "d23e2b9c",
   "metadata": {
    "execution": {
     "iopub.execute_input": "2022-09-22T11:51:13.632193Z",
     "iopub.status.busy": "2022-09-22T11:51:13.631054Z",
     "iopub.status.idle": "2022-09-22T11:51:25.312240Z",
     "shell.execute_reply": "2022-09-22T11:51:25.310945Z"
    },
    "papermill": {
     "duration": 11.70491,
     "end_time": "2022-09-22T11:51:25.314932",
     "exception": false,
     "start_time": "2022-09-22T11:51:13.610022",
     "status": "completed"
    },
    "tags": []
   },
   "outputs": [],
   "source": [
    "ten_Questions2 = []\n",
    "for i in range(0,10):\n",
    "    ten_Questions2.append(nlp(sentences[i]))"
   ]
  },
  {
   "cell_type": "code",
   "execution_count": 29,
   "id": "27e30f4a",
   "metadata": {
    "execution": {
     "iopub.execute_input": "2022-09-22T11:51:25.356491Z",
     "iopub.status.busy": "2022-09-22T11:51:25.355732Z",
     "iopub.status.idle": "2022-09-22T11:51:25.363066Z",
     "shell.execute_reply": "2022-09-22T11:51:25.361894Z"
    },
    "papermill": {
     "duration": 0.030564,
     "end_time": "2022-09-22T11:51:25.365362",
     "exception": false,
     "start_time": "2022-09-22T11:51:25.334798",
     "status": "completed"
    },
    "tags": []
   },
   "outputs": [
    {
     "data": {
      "text/plain": [
       "[[{'answer': 'data analytics',\n",
       "   'question': 'What type of analytics are you interested in?'}],\n",
       " [{'answer': 'data analytics',\n",
       "   'question': 'What is one of the reasons why you can check and compare our lists of online master’s in data science or online master’s in business analytics?'}],\n",
       " [{'answer': 'new insight',\n",
       "   'question': 'What does this information provide from data?'}],\n",
       " [{'answer': 'machine learning strategies',\n",
       "   'question': 'What do prescriptive analytics techniques use?'}],\n",
       " [{'answer': 'More and more data is being collected every day',\n",
       "   'question': 'How much data is being collected every day?'}],\n",
       " [{'answer': 'data mining, data management, statistical analysis, and data presentation',\n",
       "   'question': 'What are the primary steps in the data analytics process?'}],\n",
       " [{'answer': 'what if',\n",
       "   'question': 'What question does advanced analytics address?'}],\n",
       " [{'answer': 'descriptive analytics',\n",
       "   'question': 'What do descriptive analytics take the findings from?'}],\n",
       " [{'answer': 'data analytics',\n",
       "   'question': 'What enables businesses to draw meaningful conclusions from complex and varied data sources?'}],\n",
       " [{'answer': 'Big data',\n",
       "   'question': 'What is used to create statistical models that reveal trends in data?'}]]"
      ]
     },
     "execution_count": 29,
     "metadata": {},
     "output_type": "execute_result"
    }
   ],
   "source": [
    "ten_Questions2"
   ]
  },
  {
   "cell_type": "markdown",
   "id": "f4259dc4",
   "metadata": {
    "papermill": {
     "duration": 0.019472,
     "end_time": "2022-09-22T11:51:25.404381",
     "exception": false,
     "start_time": "2022-09-22T11:51:25.384909",
     "status": "completed"
    },
    "tags": []
   },
   "source": [
    "# Print the answers of the first 10 questions"
   ]
  },
  {
   "cell_type": "code",
   "execution_count": 30,
   "id": "04ee615e",
   "metadata": {
    "execution": {
     "iopub.execute_input": "2022-09-22T11:51:25.447601Z",
     "iopub.status.busy": "2022-09-22T11:51:25.447134Z",
     "iopub.status.idle": "2022-09-22T11:51:27.174854Z",
     "shell.execute_reply": "2022-09-22T11:51:27.173481Z"
    },
    "papermill": {
     "duration": 1.753378,
     "end_time": "2022-09-22T11:51:27.177122",
     "exception": false,
     "start_time": "2022-09-22T11:51:25.423744",
     "status": "completed"
    },
    "tags": []
   },
   "outputs": [
    {
     "name": "stdout",
     "output_type": "stream",
     "text": [
      "data analytics\n",
      "Predicting patient outcomes, efficiently allocating funding and improving diagnostic techniques\n",
      "new insight\n",
      "machine learning strategies\n",
      "More and more\n",
      "data mining, data management, statistical analysis, and data presentation\n",
      "what if\n",
      "return on investment ROI\n",
      "Big data analytics\n",
      "Big data\n"
     ]
    }
   ],
   "source": [
    "x = 0\n",
    "for i in ten_Questions2:\n",
    "        print(nlp({\"question\": i[0][\"question\"],\"context\": sentences[x]}))\n",
    "        x = x+1"
   ]
  },
  {
   "cell_type": "markdown",
   "id": "ec2dc21e",
   "metadata": {
    "papermill": {
     "duration": 0.019523,
     "end_time": "2022-09-22T11:51:27.216678",
     "exception": false,
     "start_time": "2022-09-22T11:51:27.197155",
     "status": "completed"
    },
    "tags": []
   },
   "source": [
    "-------------------------------------------------------------------------------------------------------"
   ]
  }
 ],
 "metadata": {
  "kernelspec": {
   "display_name": "Python 3",
   "language": "python",
   "name": "python3"
  },
  "language_info": {
   "codemirror_mode": {
    "name": "ipython",
    "version": 3
   },
   "file_extension": ".py",
   "mimetype": "text/x-python",
   "name": "python",
   "nbconvert_exporter": "python",
   "pygments_lexer": "ipython3",
   "version": "3.7.12"
  },
  "papermill": {
   "default_parameters": {},
   "duration": 194.320912,
   "end_time": "2022-09-22T11:51:30.397977",
   "environment_variables": {},
   "exception": null,
   "input_path": "__notebook__.ipynb",
   "output_path": "__notebook__.ipynb",
   "parameters": {},
   "start_time": "2022-09-22T11:48:16.077065",
   "version": "2.3.4"
  },
  "widgets": {
   "application/vnd.jupyter.widget-state+json": {
    "state": {
     "0234269196eb432287ffee699f7de8ab": {
      "model_module": "@jupyter-widgets/controls",
      "model_module_version": "1.5.0",
      "model_name": "HTMLModel",
      "state": {
       "_dom_classes": [],
       "_model_module": "@jupyter-widgets/controls",
       "_model_module_version": "1.5.0",
       "_model_name": "HTMLModel",
       "_view_count": null,
       "_view_module": "@jupyter-widgets/controls",
       "_view_module_version": "1.5.0",
       "_view_name": "HTMLView",
       "description": "",
       "description_tooltip": null,
       "layout": "IPY_MODEL_376af5882d6a4c2eb3a47a6ff56fe80b",
       "placeholder": "​",
       "style": "IPY_MODEL_72762693aa76428695883420e9a3941a",
       "value": "Downloading: 100%"
      }
     },
     "03a55a170ced4413a2bf843eebb3aad1": {
      "model_module": "@jupyter-widgets/controls",
      "model_module_version": "1.5.0",
      "model_name": "HTMLModel",
      "state": {
       "_dom_classes": [],
       "_model_module": "@jupyter-widgets/controls",
       "_model_module_version": "1.5.0",
       "_model_name": "HTMLModel",
       "_view_count": null,
       "_view_module": "@jupyter-widgets/controls",
       "_view_module_version": "1.5.0",
       "_view_name": "HTMLView",
       "description": "",
       "description_tooltip": null,
       "layout": "IPY_MODEL_7cf759d32f324f6a863cec6e3d980f88",
       "placeholder": "​",
       "style": "IPY_MODEL_456cead10818425b90c799b4adabcd2c",
       "value": "Downloading: 100%"
      }
     },
     "04dda0ace4dd4a33bb4b23fa17c1916b": {
      "model_module": "@jupyter-widgets/controls",
      "model_module_version": "1.5.0",
      "model_name": "HTMLModel",
      "state": {
       "_dom_classes": [],
       "_model_module": "@jupyter-widgets/controls",
       "_model_module_version": "1.5.0",
       "_model_name": "HTMLModel",
       "_view_count": null,
       "_view_module": "@jupyter-widgets/controls",
       "_view_module_version": "1.5.0",
       "_view_name": "HTMLView",
       "description": "",
       "description_tooltip": null,
       "layout": "IPY_MODEL_3531ab80aa8344c3ad1ffac4da384b3f",
       "placeholder": "​",
       "style": "IPY_MODEL_6ce4a375219041df928eb7a87c18badf",
       "value": " 242M/242M [00:06&lt;00:00, 37.1MB/s]"
      }
     },
     "06cee86747d741059c0d33718f44a9bb": {
      "model_module": "@jupyter-widgets/controls",
      "model_module_version": "1.5.0",
      "model_name": "DescriptionStyleModel",
      "state": {
       "_model_module": "@jupyter-widgets/controls",
       "_model_module_version": "1.5.0",
       "_model_name": "DescriptionStyleModel",
       "_view_count": null,
       "_view_module": "@jupyter-widgets/base",
       "_view_module_version": "1.2.0",
       "_view_name": "StyleView",
       "description_width": ""
      }
     },
     "0b116d6626374217a485c9f9879e836e": {
      "model_module": "@jupyter-widgets/controls",
      "model_module_version": "1.5.0",
      "model_name": "FloatProgressModel",
      "state": {
       "_dom_classes": [],
       "_model_module": "@jupyter-widgets/controls",
       "_model_module_version": "1.5.0",
       "_model_name": "FloatProgressModel",
       "_view_count": null,
       "_view_module": "@jupyter-widgets/controls",
       "_view_module_version": "1.5.0",
       "_view_name": "ProgressView",
       "bar_style": "success",
       "description": "",
       "description_tooltip": null,
       "layout": "IPY_MODEL_89eef6f8e73d42bd945ffe132f5878d0",
       "max": 627.0,
       "min": 0.0,
       "orientation": "horizontal",
       "style": "IPY_MODEL_4bda0c3dc6d24fdba3a2bf337260410c",
       "value": 627.0
      }
     },
     "0cbf9e5b216b46d9818813198f0d4161": {
      "model_module": "@jupyter-widgets/controls",
      "model_module_version": "1.5.0",
      "model_name": "FloatProgressModel",
      "state": {
       "_dom_classes": [],
       "_model_module": "@jupyter-widgets/controls",
       "_model_module_version": "1.5.0",
       "_model_name": "FloatProgressModel",
       "_view_count": null,
       "_view_module": "@jupyter-widgets/controls",
       "_view_module_version": "1.5.0",
       "_view_name": "ProgressView",
       "bar_style": "success",
       "description": "",
       "description_tooltip": null,
       "layout": "IPY_MODEL_2351aa10668640e5ab33dc67d95b9516",
       "max": 791656.0,
       "min": 0.0,
       "orientation": "horizontal",
       "style": "IPY_MODEL_278d0b309c4a44b8a7e209d1a88f6192",
       "value": 791656.0
      }
     },
     "127ad492c1cb453dbe5e0cc60b4ae903": {
      "model_module": "@jupyter-widgets/controls",
      "model_module_version": "1.5.0",
      "model_name": "ProgressStyleModel",
      "state": {
       "_model_module": "@jupyter-widgets/controls",
       "_model_module_version": "1.5.0",
       "_model_name": "ProgressStyleModel",
       "_view_count": null,
       "_view_module": "@jupyter-widgets/base",
       "_view_module_version": "1.2.0",
       "_view_name": "StyleView",
       "bar_color": null,
       "description_width": ""
      }
     },
     "12c0aa13843a4efa993f492f2e68dc94": {
      "model_module": "@jupyter-widgets/controls",
      "model_module_version": "1.5.0",
      "model_name": "HTMLModel",
      "state": {
       "_dom_classes": [],
       "_model_module": "@jupyter-widgets/controls",
       "_model_module_version": "1.5.0",
       "_model_name": "HTMLModel",
       "_view_count": null,
       "_view_module": "@jupyter-widgets/controls",
       "_view_module_version": "1.5.0",
       "_view_name": "HTMLView",
       "description": "",
       "description_tooltip": null,
       "layout": "IPY_MODEL_785aade6a06f47a8907664d7a5c22fb9",
       "placeholder": "​",
       "style": "IPY_MODEL_22a955a96e76449cb70d2d999c3c39db",
       "value": "Downloading: 100%"
      }
     },
     "19bd5de6140045b0b562195563bad215": {
      "model_module": "@jupyter-widgets/base",
      "model_module_version": "1.2.0",
      "model_name": "LayoutModel",
      "state": {
       "_model_module": "@jupyter-widgets/base",
       "_model_module_version": "1.2.0",
       "_model_name": "LayoutModel",
       "_view_count": null,
       "_view_module": "@jupyter-widgets/base",
       "_view_module_version": "1.2.0",
       "_view_name": "LayoutView",
       "align_content": null,
       "align_items": null,
       "align_self": null,
       "border": null,
       "bottom": null,
       "display": null,
       "flex": null,
       "flex_flow": null,
       "grid_area": null,
       "grid_auto_columns": null,
       "grid_auto_flow": null,
       "grid_auto_rows": null,
       "grid_column": null,
       "grid_gap": null,
       "grid_row": null,
       "grid_template_areas": null,
       "grid_template_columns": null,
       "grid_template_rows": null,
       "height": null,
       "justify_content": null,
       "justify_items": null,
       "left": null,
       "margin": null,
       "max_height": null,
       "max_width": null,
       "min_height": null,
       "min_width": null,
       "object_fit": null,
       "object_position": null,
       "order": null,
       "overflow": null,
       "overflow_x": null,
       "overflow_y": null,
       "padding": null,
       "right": null,
       "top": null,
       "visibility": null,
       "width": null
      }
     },
     "1ad2669b8f7240919383ad036df9eff6": {
      "model_module": "@jupyter-widgets/base",
      "model_module_version": "1.2.0",
      "model_name": "LayoutModel",
      "state": {
       "_model_module": "@jupyter-widgets/base",
       "_model_module_version": "1.2.0",
       "_model_name": "LayoutModel",
       "_view_count": null,
       "_view_module": "@jupyter-widgets/base",
       "_view_module_version": "1.2.0",
       "_view_name": "LayoutView",
       "align_content": null,
       "align_items": null,
       "align_self": null,
       "border": null,
       "bottom": null,
       "display": null,
       "flex": null,
       "flex_flow": null,
       "grid_area": null,
       "grid_auto_columns": null,
       "grid_auto_flow": null,
       "grid_auto_rows": null,
       "grid_column": null,
       "grid_gap": null,
       "grid_row": null,
       "grid_template_areas": null,
       "grid_template_columns": null,
       "grid_template_rows": null,
       "height": null,
       "justify_content": null,
       "justify_items": null,
       "left": null,
       "margin": null,
       "max_height": null,
       "max_width": null,
       "min_height": null,
       "min_width": null,
       "object_fit": null,
       "object_position": null,
       "order": null,
       "overflow": null,
       "overflow_x": null,
       "overflow_y": null,
       "padding": null,
       "right": null,
       "top": null,
       "visibility": null,
       "width": null
      }
     },
     "1b71d55eee91449e96b1fb5a8efb5fb0": {
      "model_module": "@jupyter-widgets/base",
      "model_module_version": "1.2.0",
      "model_name": "LayoutModel",
      "state": {
       "_model_module": "@jupyter-widgets/base",
       "_model_module_version": "1.2.0",
       "_model_name": "LayoutModel",
       "_view_count": null,
       "_view_module": "@jupyter-widgets/base",
       "_view_module_version": "1.2.0",
       "_view_name": "LayoutView",
       "align_content": null,
       "align_items": null,
       "align_self": null,
       "border": null,
       "bottom": null,
       "display": null,
       "flex": null,
       "flex_flow": null,
       "grid_area": null,
       "grid_auto_columns": null,
       "grid_auto_flow": null,
       "grid_auto_rows": null,
       "grid_column": null,
       "grid_gap": null,
       "grid_row": null,
       "grid_template_areas": null,
       "grid_template_columns": null,
       "grid_template_rows": null,
       "height": null,
       "justify_content": null,
       "justify_items": null,
       "left": null,
       "margin": null,
       "max_height": null,
       "max_width": null,
       "min_height": null,
       "min_width": null,
       "object_fit": null,
       "object_position": null,
       "order": null,
       "overflow": null,
       "overflow_x": null,
       "overflow_y": null,
       "padding": null,
       "right": null,
       "top": null,
       "visibility": null,
       "width": null
      }
     },
     "1c0852a451a24ccd9d258c020e8e0994": {
      "model_module": "@jupyter-widgets/controls",
      "model_module_version": "1.5.0",
      "model_name": "FloatProgressModel",
      "state": {
       "_dom_classes": [],
       "_model_module": "@jupyter-widgets/controls",
       "_model_module_version": "1.5.0",
       "_model_name": "FloatProgressModel",
       "_view_count": null,
       "_view_module": "@jupyter-widgets/controls",
       "_view_module_version": "1.5.0",
       "_view_name": "ProgressView",
       "bar_style": "success",
       "description": "",
       "description_tooltip": null,
       "layout": "IPY_MODEL_c8622f7d1e334ab19bcb367e3bfc2a4d",
       "max": 791656.0,
       "min": 0.0,
       "orientation": "horizontal",
       "style": "IPY_MODEL_66124543c6b34cdcbcb24dcb179aa886",
       "value": 791656.0
      }
     },
     "1df9f309f1284a41b26b1acfe8079d96": {
      "model_module": "@jupyter-widgets/base",
      "model_module_version": "1.2.0",
      "model_name": "LayoutModel",
      "state": {
       "_model_module": "@jupyter-widgets/base",
       "_model_module_version": "1.2.0",
       "_model_name": "LayoutModel",
       "_view_count": null,
       "_view_module": "@jupyter-widgets/base",
       "_view_module_version": "1.2.0",
       "_view_name": "LayoutView",
       "align_content": null,
       "align_items": null,
       "align_self": null,
       "border": null,
       "bottom": null,
       "display": null,
       "flex": null,
       "flex_flow": null,
       "grid_area": null,
       "grid_auto_columns": null,
       "grid_auto_flow": null,
       "grid_auto_rows": null,
       "grid_column": null,
       "grid_gap": null,
       "grid_row": null,
       "grid_template_areas": null,
       "grid_template_columns": null,
       "grid_template_rows": null,
       "height": null,
       "justify_content": null,
       "justify_items": null,
       "left": null,
       "margin": null,
       "max_height": null,
       "max_width": null,
       "min_height": null,
       "min_width": null,
       "object_fit": null,
       "object_position": null,
       "order": null,
       "overflow": null,
       "overflow_x": null,
       "overflow_y": null,
       "padding": null,
       "right": null,
       "top": null,
       "visibility": null,
       "width": null
      }
     },
     "21093e41f3404d1f99819398f7353476": {
      "model_module": "@jupyter-widgets/controls",
      "model_module_version": "1.5.0",
      "model_name": "HTMLModel",
      "state": {
       "_dom_classes": [],
       "_model_module": "@jupyter-widgets/controls",
       "_model_module_version": "1.5.0",
       "_model_name": "HTMLModel",
       "_view_count": null,
       "_view_module": "@jupyter-widgets/controls",
       "_view_module_version": "1.5.0",
       "_view_name": "HTMLView",
       "description": "",
       "description_tooltip": null,
       "layout": "IPY_MODEL_7ea6d60ffc3347158da60dd2c8bbabaa",
       "placeholder": "​",
       "style": "IPY_MODEL_7476e09ba7d74a4981d31bc49f5c33ed",
       "value": " 65.0/65.0 [00:00&lt;00:00, 2.03kB/s]"
      }
     },
     "22a955a96e76449cb70d2d999c3c39db": {
      "model_module": "@jupyter-widgets/controls",
      "model_module_version": "1.5.0",
      "model_name": "DescriptionStyleModel",
      "state": {
       "_model_module": "@jupyter-widgets/controls",
       "_model_module_version": "1.5.0",
       "_model_name": "DescriptionStyleModel",
       "_view_count": null,
       "_view_module": "@jupyter-widgets/base",
       "_view_module_version": "1.2.0",
       "_view_name": "StyleView",
       "description_width": ""
      }
     },
     "2351aa10668640e5ab33dc67d95b9516": {
      "model_module": "@jupyter-widgets/base",
      "model_module_version": "1.2.0",
      "model_name": "LayoutModel",
      "state": {
       "_model_module": "@jupyter-widgets/base",
       "_model_module_version": "1.2.0",
       "_model_name": "LayoutModel",
       "_view_count": null,
       "_view_module": "@jupyter-widgets/base",
       "_view_module_version": "1.2.0",
       "_view_name": "LayoutView",
       "align_content": null,
       "align_items": null,
       "align_self": null,
       "border": null,
       "bottom": null,
       "display": null,
       "flex": null,
       "flex_flow": null,
       "grid_area": null,
       "grid_auto_columns": null,
       "grid_auto_flow": null,
       "grid_auto_rows": null,
       "grid_column": null,
       "grid_gap": null,
       "grid_row": null,
       "grid_template_areas": null,
       "grid_template_columns": null,
       "grid_template_rows": null,
       "height": null,
       "justify_content": null,
       "justify_items": null,
       "left": null,
       "margin": null,
       "max_height": null,
       "max_width": null,
       "min_height": null,
       "min_width": null,
       "object_fit": null,
       "object_position": null,
       "order": null,
       "overflow": null,
       "overflow_x": null,
       "overflow_y": null,
       "padding": null,
       "right": null,
       "top": null,
       "visibility": null,
       "width": null
      }
     },
     "278d0b309c4a44b8a7e209d1a88f6192": {
      "model_module": "@jupyter-widgets/controls",
      "model_module_version": "1.5.0",
      "model_name": "ProgressStyleModel",
      "state": {
       "_model_module": "@jupyter-widgets/controls",
       "_model_module_version": "1.5.0",
       "_model_name": "ProgressStyleModel",
       "_view_count": null,
       "_view_module": "@jupyter-widgets/base",
       "_view_module_version": "1.2.0",
       "_view_name": "StyleView",
       "bar_color": null,
       "description_width": ""
      }
     },
     "297d6f094a50408b90e8994c315f508f": {
      "model_module": "@jupyter-widgets/controls",
      "model_module_version": "1.5.0",
      "model_name": "FloatProgressModel",
      "state": {
       "_dom_classes": [],
       "_model_module": "@jupyter-widgets/controls",
       "_model_module_version": "1.5.0",
       "_model_name": "FloatProgressModel",
       "_view_count": null,
       "_view_module": "@jupyter-widgets/controls",
       "_view_module_version": "1.5.0",
       "_view_name": "ProgressView",
       "bar_style": "success",
       "description": "",
       "description_tooltip": null,
       "layout": "IPY_MODEL_96e137baf54048ebb6366258c3c78661",
       "max": 242013444.0,
       "min": 0.0,
       "orientation": "horizontal",
       "style": "IPY_MODEL_71e5b26d88294a72b875b8c6562f4f1b",
       "value": 242013444.0
      }
     },
     "29993abb81694fd79b3c9364825855c1": {
      "model_module": "@jupyter-widgets/controls",
      "model_module_version": "1.5.0",
      "model_name": "DescriptionStyleModel",
      "state": {
       "_model_module": "@jupyter-widgets/controls",
       "_model_module_version": "1.5.0",
       "_model_name": "DescriptionStyleModel",
       "_view_count": null,
       "_view_module": "@jupyter-widgets/base",
       "_view_module_version": "1.2.0",
       "_view_name": "StyleView",
       "description_width": ""
      }
     },
     "29aaa95741aa46d2864fba63db63d4d0": {
      "model_module": "@jupyter-widgets/base",
      "model_module_version": "1.2.0",
      "model_name": "LayoutModel",
      "state": {
       "_model_module": "@jupyter-widgets/base",
       "_model_module_version": "1.2.0",
       "_model_name": "LayoutModel",
       "_view_count": null,
       "_view_module": "@jupyter-widgets/base",
       "_view_module_version": "1.2.0",
       "_view_name": "LayoutView",
       "align_content": null,
       "align_items": null,
       "align_self": null,
       "border": null,
       "bottom": null,
       "display": null,
       "flex": null,
       "flex_flow": null,
       "grid_area": null,
       "grid_auto_columns": null,
       "grid_auto_flow": null,
       "grid_auto_rows": null,
       "grid_column": null,
       "grid_gap": null,
       "grid_row": null,
       "grid_template_areas": null,
       "grid_template_columns": null,
       "grid_template_rows": null,
       "height": null,
       "justify_content": null,
       "justify_items": null,
       "left": null,
       "margin": null,
       "max_height": null,
       "max_width": null,
       "min_height": null,
       "min_width": null,
       "object_fit": null,
       "object_position": null,
       "order": null,
       "overflow": null,
       "overflow_x": null,
       "overflow_y": null,
       "padding": null,
       "right": null,
       "top": null,
       "visibility": null,
       "width": null
      }
     },
     "2aaf2c7942f24acba9de40c109ac6fa7": {
      "model_module": "@jupyter-widgets/base",
      "model_module_version": "1.2.0",
      "model_name": "LayoutModel",
      "state": {
       "_model_module": "@jupyter-widgets/base",
       "_model_module_version": "1.2.0",
       "_model_name": "LayoutModel",
       "_view_count": null,
       "_view_module": "@jupyter-widgets/base",
       "_view_module_version": "1.2.0",
       "_view_name": "LayoutView",
       "align_content": null,
       "align_items": null,
       "align_self": null,
       "border": null,
       "bottom": null,
       "display": null,
       "flex": null,
       "flex_flow": null,
       "grid_area": null,
       "grid_auto_columns": null,
       "grid_auto_flow": null,
       "grid_auto_rows": null,
       "grid_column": null,
       "grid_gap": null,
       "grid_row": null,
       "grid_template_areas": null,
       "grid_template_columns": null,
       "grid_template_rows": null,
       "height": null,
       "justify_content": null,
       "justify_items": null,
       "left": null,
       "margin": null,
       "max_height": null,
       "max_width": null,
       "min_height": null,
       "min_width": null,
       "object_fit": null,
       "object_position": null,
       "order": null,
       "overflow": null,
       "overflow_x": null,
       "overflow_y": null,
       "padding": null,
       "right": null,
       "top": null,
       "visibility": null,
       "width": null
      }
     },
     "2b7c00a54d82425395495e28181d3922": {
      "model_module": "@jupyter-widgets/controls",
      "model_module_version": "1.5.0",
      "model_name": "HTMLModel",
      "state": {
       "_dom_classes": [],
       "_model_module": "@jupyter-widgets/controls",
       "_model_module_version": "1.5.0",
       "_model_name": "HTMLModel",
       "_view_count": null,
       "_view_module": "@jupyter-widgets/controls",
       "_view_module_version": "1.5.0",
       "_view_name": "HTMLView",
       "description": "",
       "description_tooltip": null,
       "layout": "IPY_MODEL_68951a43079d43b0942dfc10ea9c9949",
       "placeholder": "​",
       "style": "IPY_MODEL_344b2110b7854c5a9f58713a56bc4f68",
       "value": "Downloading: 100%"
      }
     },
     "2be92ae545274a00a32395ce56030a89": {
      "model_module": "@jupyter-widgets/controls",
      "model_module_version": "1.5.0",
      "model_name": "HTMLModel",
      "state": {
       "_dom_classes": [],
       "_model_module": "@jupyter-widgets/controls",
       "_model_module_version": "1.5.0",
       "_model_name": "HTMLModel",
       "_view_count": null,
       "_view_module": "@jupyter-widgets/controls",
       "_view_module_version": "1.5.0",
       "_view_name": "HTMLView",
       "description": "",
       "description_tooltip": null,
       "layout": "IPY_MODEL_d02d32c9c88f409ebc294d7cf8e8a3bd",
       "placeholder": "​",
       "style": "IPY_MODEL_8ca3c1ec308d4a949526e9671c1c7e03",
       "value": " 627/627 [00:00&lt;00:00, 19.1kB/s]"
      }
     },
     "2c5395a159784901aa184a0dad21ce5c": {
      "model_module": "@jupyter-widgets/controls",
      "model_module_version": "1.5.0",
      "model_name": "DescriptionStyleModel",
      "state": {
       "_model_module": "@jupyter-widgets/controls",
       "_model_module_version": "1.5.0",
       "_model_name": "DescriptionStyleModel",
       "_view_count": null,
       "_view_module": "@jupyter-widgets/base",
       "_view_module_version": "1.2.0",
       "_view_name": "StyleView",
       "description_width": ""
      }
     },
     "2c6e973c8991484db63368b6274537b4": {
      "model_module": "@jupyter-widgets/controls",
      "model_module_version": "1.5.0",
      "model_name": "HBoxModel",
      "state": {
       "_dom_classes": [],
       "_model_module": "@jupyter-widgets/controls",
       "_model_module_version": "1.5.0",
       "_model_name": "HBoxModel",
       "_view_count": null,
       "_view_module": "@jupyter-widgets/controls",
       "_view_module_version": "1.5.0",
       "_view_name": "HBoxView",
       "box_style": "",
       "children": [
        "IPY_MODEL_12c0aa13843a4efa993f492f2e68dc94",
        "IPY_MODEL_50e7c282a8f3464dbab590ce68494e18",
        "IPY_MODEL_21093e41f3404d1f99819398f7353476"
       ],
       "layout": "IPY_MODEL_9af3a0e704244b709edcc43df62bcb1e"
      }
     },
     "2d555270e92e4ac798e954358ec9aaff": {
      "model_module": "@jupyter-widgets/controls",
      "model_module_version": "1.5.0",
      "model_name": "HTMLModel",
      "state": {
       "_dom_classes": [],
       "_model_module": "@jupyter-widgets/controls",
       "_model_module_version": "1.5.0",
       "_model_name": "HTMLModel",
       "_view_count": null,
       "_view_module": "@jupyter-widgets/controls",
       "_view_module_version": "1.5.0",
       "_view_name": "HTMLView",
       "description": "",
       "description_tooltip": null,
       "layout": "IPY_MODEL_393cbf97f1594745848c30232cc99a56",
       "placeholder": "​",
       "style": "IPY_MODEL_06cee86747d741059c0d33718f44a9bb",
       "value": " 31.0/31.0 [00:00&lt;00:00, 1.05kB/s]"
      }
     },
     "3136322823554854866e8440d13293a5": {
      "model_module": "@jupyter-widgets/controls",
      "model_module_version": "1.5.0",
      "model_name": "DescriptionStyleModel",
      "state": {
       "_model_module": "@jupyter-widgets/controls",
       "_model_module_version": "1.5.0",
       "_model_name": "DescriptionStyleModel",
       "_view_count": null,
       "_view_module": "@jupyter-widgets/base",
       "_view_module_version": "1.2.0",
       "_view_name": "StyleView",
       "description_width": ""
      }
     },
     "344b2110b7854c5a9f58713a56bc4f68": {
      "model_module": "@jupyter-widgets/controls",
      "model_module_version": "1.5.0",
      "model_name": "DescriptionStyleModel",
      "state": {
       "_model_module": "@jupyter-widgets/controls",
       "_model_module_version": "1.5.0",
       "_model_name": "DescriptionStyleModel",
       "_view_count": null,
       "_view_module": "@jupyter-widgets/base",
       "_view_module_version": "1.2.0",
       "_view_name": "StyleView",
       "description_width": ""
      }
     },
     "3531ab80aa8344c3ad1ffac4da384b3f": {
      "model_module": "@jupyter-widgets/base",
      "model_module_version": "1.2.0",
      "model_name": "LayoutModel",
      "state": {
       "_model_module": "@jupyter-widgets/base",
       "_model_module_version": "1.2.0",
       "_model_name": "LayoutModel",
       "_view_count": null,
       "_view_module": "@jupyter-widgets/base",
       "_view_module_version": "1.2.0",
       "_view_name": "LayoutView",
       "align_content": null,
       "align_items": null,
       "align_self": null,
       "border": null,
       "bottom": null,
       "display": null,
       "flex": null,
       "flex_flow": null,
       "grid_area": null,
       "grid_auto_columns": null,
       "grid_auto_flow": null,
       "grid_auto_rows": null,
       "grid_column": null,
       "grid_gap": null,
       "grid_row": null,
       "grid_template_areas": null,
       "grid_template_columns": null,
       "grid_template_rows": null,
       "height": null,
       "justify_content": null,
       "justify_items": null,
       "left": null,
       "margin": null,
       "max_height": null,
       "max_width": null,
       "min_height": null,
       "min_width": null,
       "object_fit": null,
       "object_position": null,
       "order": null,
       "overflow": null,
       "overflow_x": null,
       "overflow_y": null,
       "padding": null,
       "right": null,
       "top": null,
       "visibility": null,
       "width": null
      }
     },
     "35390e85c03b4739a6a29a6a321066b0": {
      "model_module": "@jupyter-widgets/base",
      "model_module_version": "1.2.0",
      "model_name": "LayoutModel",
      "state": {
       "_model_module": "@jupyter-widgets/base",
       "_model_module_version": "1.2.0",
       "_model_name": "LayoutModel",
       "_view_count": null,
       "_view_module": "@jupyter-widgets/base",
       "_view_module_version": "1.2.0",
       "_view_name": "LayoutView",
       "align_content": null,
       "align_items": null,
       "align_self": null,
       "border": null,
       "bottom": null,
       "display": null,
       "flex": null,
       "flex_flow": null,
       "grid_area": null,
       "grid_auto_columns": null,
       "grid_auto_flow": null,
       "grid_auto_rows": null,
       "grid_column": null,
       "grid_gap": null,
       "grid_row": null,
       "grid_template_areas": null,
       "grid_template_columns": null,
       "grid_template_rows": null,
       "height": null,
       "justify_content": null,
       "justify_items": null,
       "left": null,
       "margin": null,
       "max_height": null,
       "max_width": null,
       "min_height": null,
       "min_width": null,
       "object_fit": null,
       "object_position": null,
       "order": null,
       "overflow": null,
       "overflow_x": null,
       "overflow_y": null,
       "padding": null,
       "right": null,
       "top": null,
       "visibility": null,
       "width": null
      }
     },
     "367f127832b14c049558715f20bf4cee": {
      "model_module": "@jupyter-widgets/base",
      "model_module_version": "1.2.0",
      "model_name": "LayoutModel",
      "state": {
       "_model_module": "@jupyter-widgets/base",
       "_model_module_version": "1.2.0",
       "_model_name": "LayoutModel",
       "_view_count": null,
       "_view_module": "@jupyter-widgets/base",
       "_view_module_version": "1.2.0",
       "_view_name": "LayoutView",
       "align_content": null,
       "align_items": null,
       "align_self": null,
       "border": null,
       "bottom": null,
       "display": null,
       "flex": null,
       "flex_flow": null,
       "grid_area": null,
       "grid_auto_columns": null,
       "grid_auto_flow": null,
       "grid_auto_rows": null,
       "grid_column": null,
       "grid_gap": null,
       "grid_row": null,
       "grid_template_areas": null,
       "grid_template_columns": null,
       "grid_template_rows": null,
       "height": null,
       "justify_content": null,
       "justify_items": null,
       "left": null,
       "margin": null,
       "max_height": null,
       "max_width": null,
       "min_height": null,
       "min_width": null,
       "object_fit": null,
       "object_position": null,
       "order": null,
       "overflow": null,
       "overflow_x": null,
       "overflow_y": null,
       "padding": null,
       "right": null,
       "top": null,
       "visibility": null,
       "width": null
      }
     },
     "376af5882d6a4c2eb3a47a6ff56fe80b": {
      "model_module": "@jupyter-widgets/base",
      "model_module_version": "1.2.0",
      "model_name": "LayoutModel",
      "state": {
       "_model_module": "@jupyter-widgets/base",
       "_model_module_version": "1.2.0",
       "_model_name": "LayoutModel",
       "_view_count": null,
       "_view_module": "@jupyter-widgets/base",
       "_view_module_version": "1.2.0",
       "_view_name": "LayoutView",
       "align_content": null,
       "align_items": null,
       "align_self": null,
       "border": null,
       "bottom": null,
       "display": null,
       "flex": null,
       "flex_flow": null,
       "grid_area": null,
       "grid_auto_columns": null,
       "grid_auto_flow": null,
       "grid_auto_rows": null,
       "grid_column": null,
       "grid_gap": null,
       "grid_row": null,
       "grid_template_areas": null,
       "grid_template_columns": null,
       "grid_template_rows": null,
       "height": null,
       "justify_content": null,
       "justify_items": null,
       "left": null,
       "margin": null,
       "max_height": null,
       "max_width": null,
       "min_height": null,
       "min_width": null,
       "object_fit": null,
       "object_position": null,
       "order": null,
       "overflow": null,
       "overflow_x": null,
       "overflow_y": null,
       "padding": null,
       "right": null,
       "top": null,
       "visibility": null,
       "width": null
      }
     },
     "393cbf97f1594745848c30232cc99a56": {
      "model_module": "@jupyter-widgets/base",
      "model_module_version": "1.2.0",
      "model_name": "LayoutModel",
      "state": {
       "_model_module": "@jupyter-widgets/base",
       "_model_module_version": "1.2.0",
       "_model_name": "LayoutModel",
       "_view_count": null,
       "_view_module": "@jupyter-widgets/base",
       "_view_module_version": "1.2.0",
       "_view_name": "LayoutView",
       "align_content": null,
       "align_items": null,
       "align_self": null,
       "border": null,
       "bottom": null,
       "display": null,
       "flex": null,
       "flex_flow": null,
       "grid_area": null,
       "grid_auto_columns": null,
       "grid_auto_flow": null,
       "grid_auto_rows": null,
       "grid_column": null,
       "grid_gap": null,
       "grid_row": null,
       "grid_template_areas": null,
       "grid_template_columns": null,
       "grid_template_rows": null,
       "height": null,
       "justify_content": null,
       "justify_items": null,
       "left": null,
       "margin": null,
       "max_height": null,
       "max_width": null,
       "min_height": null,
       "min_width": null,
       "object_fit": null,
       "object_position": null,
       "order": null,
       "overflow": null,
       "overflow_x": null,
       "overflow_y": null,
       "padding": null,
       "right": null,
       "top": null,
       "visibility": null,
       "width": null
      }
     },
     "3b23124731814eb5bbc8f5fcfaa19e47": {
      "model_module": "@jupyter-widgets/base",
      "model_module_version": "1.2.0",
      "model_name": "LayoutModel",
      "state": {
       "_model_module": "@jupyter-widgets/base",
       "_model_module_version": "1.2.0",
       "_model_name": "LayoutModel",
       "_view_count": null,
       "_view_module": "@jupyter-widgets/base",
       "_view_module_version": "1.2.0",
       "_view_name": "LayoutView",
       "align_content": null,
       "align_items": null,
       "align_self": null,
       "border": null,
       "bottom": null,
       "display": null,
       "flex": null,
       "flex_flow": null,
       "grid_area": null,
       "grid_auto_columns": null,
       "grid_auto_flow": null,
       "grid_auto_rows": null,
       "grid_column": null,
       "grid_gap": null,
       "grid_row": null,
       "grid_template_areas": null,
       "grid_template_columns": null,
       "grid_template_rows": null,
       "height": null,
       "justify_content": null,
       "justify_items": null,
       "left": null,
       "margin": null,
       "max_height": null,
       "max_width": null,
       "min_height": null,
       "min_width": null,
       "object_fit": null,
       "object_position": null,
       "order": null,
       "overflow": null,
       "overflow_x": null,
       "overflow_y": null,
       "padding": null,
       "right": null,
       "top": null,
       "visibility": null,
       "width": null
      }
     },
     "3c59ddc06ba04bedb7d62c4f2df292b2": {
      "model_module": "@jupyter-widgets/controls",
      "model_module_version": "1.5.0",
      "model_name": "HTMLModel",
      "state": {
       "_dom_classes": [],
       "_model_module": "@jupyter-widgets/controls",
       "_model_module_version": "1.5.0",
       "_model_name": "HTMLModel",
       "_view_count": null,
       "_view_module": "@jupyter-widgets/controls",
       "_view_module_version": "1.5.0",
       "_view_name": "HTMLView",
       "description": "",
       "description_tooltip": null,
       "layout": "IPY_MODEL_fe1b24355b564a19a675934662f4b385",
       "placeholder": "​",
       "style": "IPY_MODEL_5399ab88d84e4d0ea2adb260583995dc",
       "value": " 792k/792k [00:00&lt;00:00, 902kB/s]"
      }
     },
     "3d9c9236c32e453abb7836984c0df242": {
      "model_module": "@jupyter-widgets/controls",
      "model_module_version": "1.5.0",
      "model_name": "HBoxModel",
      "state": {
       "_dom_classes": [],
       "_model_module": "@jupyter-widgets/controls",
       "_model_module_version": "1.5.0",
       "_model_name": "HBoxModel",
       "_view_count": null,
       "_view_module": "@jupyter-widgets/controls",
       "_view_module_version": "1.5.0",
       "_view_name": "HBoxView",
       "box_style": "",
       "children": [
        "IPY_MODEL_80c7d650ed4e4d18bbb2ef860f41abfd",
        "IPY_MODEL_f6f8b8fc07c84c3bade3e843d9a5dc92",
        "IPY_MODEL_87d22a70d4824e818faa0f16255d4957"
       ],
       "layout": "IPY_MODEL_3b23124731814eb5bbc8f5fcfaa19e47"
      }
     },
     "43c68de676f047838592cc9739e49b54": {
      "model_module": "@jupyter-widgets/controls",
      "model_module_version": "1.5.0",
      "model_name": "HBoxModel",
      "state": {
       "_dom_classes": [],
       "_model_module": "@jupyter-widgets/controls",
       "_model_module_version": "1.5.0",
       "_model_name": "HBoxModel",
       "_view_count": null,
       "_view_module": "@jupyter-widgets/controls",
       "_view_module_version": "1.5.0",
       "_view_name": "HBoxView",
       "box_style": "",
       "children": [
        "IPY_MODEL_908a9f1f6f334f1494804100e9e61a38",
        "IPY_MODEL_8dba19aecd804d9a9370caad391216a5",
        "IPY_MODEL_71f1b46f56e9457f8a473e1ca722ac24"
       ],
       "layout": "IPY_MODEL_4dc343017806483a8a8fc12d3483f151"
      }
     },
     "44330a28188a452eb4f21811938fb969": {
      "model_module": "@jupyter-widgets/controls",
      "model_module_version": "1.5.0",
      "model_name": "HTMLModel",
      "state": {
       "_dom_classes": [],
       "_model_module": "@jupyter-widgets/controls",
       "_model_module_version": "1.5.0",
       "_model_name": "HTMLModel",
       "_view_count": null,
       "_view_module": "@jupyter-widgets/controls",
       "_view_module_version": "1.5.0",
       "_view_name": "HTMLView",
       "description": "",
       "description_tooltip": null,
       "layout": "IPY_MODEL_1b71d55eee91449e96b1fb5a8efb5fb0",
       "placeholder": "​",
       "style": "IPY_MODEL_465eea4c215e4d769cf50b1e0daba73f",
       "value": "Downloading: 100%"
      }
     },
     "456cead10818425b90c799b4adabcd2c": {
      "model_module": "@jupyter-widgets/controls",
      "model_module_version": "1.5.0",
      "model_name": "DescriptionStyleModel",
      "state": {
       "_model_module": "@jupyter-widgets/controls",
       "_model_module_version": "1.5.0",
       "_model_name": "DescriptionStyleModel",
       "_view_count": null,
       "_view_module": "@jupyter-widgets/base",
       "_view_module_version": "1.2.0",
       "_view_name": "StyleView",
       "description_width": ""
      }
     },
     "45c8645f98de4ce88796b2288386f3dc": {
      "model_module": "@jupyter-widgets/controls",
      "model_module_version": "1.5.0",
      "model_name": "HBoxModel",
      "state": {
       "_dom_classes": [],
       "_model_module": "@jupyter-widgets/controls",
       "_model_module_version": "1.5.0",
       "_model_name": "HBoxModel",
       "_view_count": null,
       "_view_module": "@jupyter-widgets/controls",
       "_view_module_version": "1.5.0",
       "_view_name": "HBoxView",
       "box_style": "",
       "children": [
        "IPY_MODEL_44330a28188a452eb4f21811938fb969",
        "IPY_MODEL_297d6f094a50408b90e8994c315f508f",
        "IPY_MODEL_87dee2d16a9a4af5af73bb19661654a2"
       ],
       "layout": "IPY_MODEL_83f028a783b148ee902dcce328f8ecb3"
      }
     },
     "465eea4c215e4d769cf50b1e0daba73f": {
      "model_module": "@jupyter-widgets/controls",
      "model_module_version": "1.5.0",
      "model_name": "DescriptionStyleModel",
      "state": {
       "_model_module": "@jupyter-widgets/controls",
       "_model_module_version": "1.5.0",
       "_model_name": "DescriptionStyleModel",
       "_view_count": null,
       "_view_module": "@jupyter-widgets/base",
       "_view_module_version": "1.2.0",
       "_view_name": "StyleView",
       "description_width": ""
      }
     },
     "48dae435992f40b5832c2c39754dda97": {
      "model_module": "@jupyter-widgets/base",
      "model_module_version": "1.2.0",
      "model_name": "LayoutModel",
      "state": {
       "_model_module": "@jupyter-widgets/base",
       "_model_module_version": "1.2.0",
       "_model_name": "LayoutModel",
       "_view_count": null,
       "_view_module": "@jupyter-widgets/base",
       "_view_module_version": "1.2.0",
       "_view_name": "LayoutView",
       "align_content": null,
       "align_items": null,
       "align_self": null,
       "border": null,
       "bottom": null,
       "display": null,
       "flex": null,
       "flex_flow": null,
       "grid_area": null,
       "grid_auto_columns": null,
       "grid_auto_flow": null,
       "grid_auto_rows": null,
       "grid_column": null,
       "grid_gap": null,
       "grid_row": null,
       "grid_template_areas": null,
       "grid_template_columns": null,
       "grid_template_rows": null,
       "height": null,
       "justify_content": null,
       "justify_items": null,
       "left": null,
       "margin": null,
       "max_height": null,
       "max_width": null,
       "min_height": null,
       "min_width": null,
       "object_fit": null,
       "object_position": null,
       "order": null,
       "overflow": null,
       "overflow_x": null,
       "overflow_y": null,
       "padding": null,
       "right": null,
       "top": null,
       "visibility": null,
       "width": null
      }
     },
     "4bda0c3dc6d24fdba3a2bf337260410c": {
      "model_module": "@jupyter-widgets/controls",
      "model_module_version": "1.5.0",
      "model_name": "ProgressStyleModel",
      "state": {
       "_model_module": "@jupyter-widgets/controls",
       "_model_module_version": "1.5.0",
       "_model_name": "ProgressStyleModel",
       "_view_count": null,
       "_view_module": "@jupyter-widgets/base",
       "_view_module_version": "1.2.0",
       "_view_name": "StyleView",
       "bar_color": null,
       "description_width": ""
      }
     },
     "4c03aa3560cf415089f8885afd8986c7": {
      "model_module": "@jupyter-widgets/base",
      "model_module_version": "1.2.0",
      "model_name": "LayoutModel",
      "state": {
       "_model_module": "@jupyter-widgets/base",
       "_model_module_version": "1.2.0",
       "_model_name": "LayoutModel",
       "_view_count": null,
       "_view_module": "@jupyter-widgets/base",
       "_view_module_version": "1.2.0",
       "_view_name": "LayoutView",
       "align_content": null,
       "align_items": null,
       "align_self": null,
       "border": null,
       "bottom": null,
       "display": null,
       "flex": null,
       "flex_flow": null,
       "grid_area": null,
       "grid_auto_columns": null,
       "grid_auto_flow": null,
       "grid_auto_rows": null,
       "grid_column": null,
       "grid_gap": null,
       "grid_row": null,
       "grid_template_areas": null,
       "grid_template_columns": null,
       "grid_template_rows": null,
       "height": null,
       "justify_content": null,
       "justify_items": null,
       "left": null,
       "margin": null,
       "max_height": null,
       "max_width": null,
       "min_height": null,
       "min_width": null,
       "object_fit": null,
       "object_position": null,
       "order": null,
       "overflow": null,
       "overflow_x": null,
       "overflow_y": null,
       "padding": null,
       "right": null,
       "top": null,
       "visibility": null,
       "width": null
      }
     },
     "4d68898e951841b6af0450eaebe3e216": {
      "model_module": "@jupyter-widgets/controls",
      "model_module_version": "1.5.0",
      "model_name": "HTMLModel",
      "state": {
       "_dom_classes": [],
       "_model_module": "@jupyter-widgets/controls",
       "_model_module_version": "1.5.0",
       "_model_name": "HTMLModel",
       "_view_count": null,
       "_view_module": "@jupyter-widgets/controls",
       "_view_module_version": "1.5.0",
       "_view_name": "HTMLView",
       "description": "",
       "description_tooltip": null,
       "layout": "IPY_MODEL_c99cf5da0124483c8e3f4cc914389da4",
       "placeholder": "​",
       "style": "IPY_MODEL_cdf087f5152347af9fae73fdeab29b56",
       "value": "Downloading: 100%"
      }
     },
     "4d6c0ab8cf9047fab94ceefe22c00d95": {
      "model_module": "@jupyter-widgets/controls",
      "model_module_version": "1.5.0",
      "model_name": "HTMLModel",
      "state": {
       "_dom_classes": [],
       "_model_module": "@jupyter-widgets/controls",
       "_model_module_version": "1.5.0",
       "_model_name": "HTMLModel",
       "_view_count": null,
       "_view_module": "@jupyter-widgets/controls",
       "_view_module_version": "1.5.0",
       "_view_name": "HTMLView",
       "description": "",
       "description_tooltip": null,
       "layout": "IPY_MODEL_1df9f309f1284a41b26b1acfe8079d96",
       "placeholder": "​",
       "style": "IPY_MODEL_60dd587d92b34b23af0bdcf69819b1a8",
       "value": " 792k/792k [00:00&lt;00:00, 904kB/s]"
      }
     },
     "4dc343017806483a8a8fc12d3483f151": {
      "model_module": "@jupyter-widgets/base",
      "model_module_version": "1.2.0",
      "model_name": "LayoutModel",
      "state": {
       "_model_module": "@jupyter-widgets/base",
       "_model_module_version": "1.2.0",
       "_model_name": "LayoutModel",
       "_view_count": null,
       "_view_module": "@jupyter-widgets/base",
       "_view_module_version": "1.2.0",
       "_view_name": "LayoutView",
       "align_content": null,
       "align_items": null,
       "align_self": null,
       "border": null,
       "bottom": null,
       "display": null,
       "flex": null,
       "flex_flow": null,
       "grid_area": null,
       "grid_auto_columns": null,
       "grid_auto_flow": null,
       "grid_auto_rows": null,
       "grid_column": null,
       "grid_gap": null,
       "grid_row": null,
       "grid_template_areas": null,
       "grid_template_columns": null,
       "grid_template_rows": null,
       "height": null,
       "justify_content": null,
       "justify_items": null,
       "left": null,
       "margin": null,
       "max_height": null,
       "max_width": null,
       "min_height": null,
       "min_width": null,
       "object_fit": null,
       "object_position": null,
       "order": null,
       "overflow": null,
       "overflow_x": null,
       "overflow_y": null,
       "padding": null,
       "right": null,
       "top": null,
       "visibility": null,
       "width": null
      }
     },
     "50e7c282a8f3464dbab590ce68494e18": {
      "model_module": "@jupyter-widgets/controls",
      "model_module_version": "1.5.0",
      "model_name": "FloatProgressModel",
      "state": {
       "_dom_classes": [],
       "_model_module": "@jupyter-widgets/controls",
       "_model_module_version": "1.5.0",
       "_model_name": "FloatProgressModel",
       "_view_count": null,
       "_view_module": "@jupyter-widgets/controls",
       "_view_module_version": "1.5.0",
       "_view_name": "ProgressView",
       "bar_style": "success",
       "description": "",
       "description_tooltip": null,
       "layout": "IPY_MODEL_c566e9445d1a457496b1f4501c8d3228",
       "max": 65.0,
       "min": 0.0,
       "orientation": "horizontal",
       "style": "IPY_MODEL_bfd1cac9d011410faaf1ca798e5bf818",
       "value": 65.0
      }
     },
     "5399ab88d84e4d0ea2adb260583995dc": {
      "model_module": "@jupyter-widgets/controls",
      "model_module_version": "1.5.0",
      "model_name": "DescriptionStyleModel",
      "state": {
       "_model_module": "@jupyter-widgets/controls",
       "_model_module_version": "1.5.0",
       "_model_name": "DescriptionStyleModel",
       "_view_count": null,
       "_view_module": "@jupyter-widgets/base",
       "_view_module_version": "1.2.0",
       "_view_name": "StyleView",
       "description_width": ""
      }
     },
     "5b6d6f55781140dcb383da08a5080b1d": {
      "model_module": "@jupyter-widgets/controls",
      "model_module_version": "1.5.0",
      "model_name": "DescriptionStyleModel",
      "state": {
       "_model_module": "@jupyter-widgets/controls",
       "_model_module_version": "1.5.0",
       "_model_name": "DescriptionStyleModel",
       "_view_count": null,
       "_view_module": "@jupyter-widgets/base",
       "_view_module_version": "1.2.0",
       "_view_name": "StyleView",
       "description_width": ""
      }
     },
     "60dd587d92b34b23af0bdcf69819b1a8": {
      "model_module": "@jupyter-widgets/controls",
      "model_module_version": "1.5.0",
      "model_name": "DescriptionStyleModel",
      "state": {
       "_model_module": "@jupyter-widgets/controls",
       "_model_module_version": "1.5.0",
       "_model_name": "DescriptionStyleModel",
       "_view_count": null,
       "_view_module": "@jupyter-widgets/base",
       "_view_module_version": "1.2.0",
       "_view_name": "StyleView",
       "description_width": ""
      }
     },
     "65c1b0754ac94af091a2acb9ef66ea8b": {
      "model_module": "@jupyter-widgets/base",
      "model_module_version": "1.2.0",
      "model_name": "LayoutModel",
      "state": {
       "_model_module": "@jupyter-widgets/base",
       "_model_module_version": "1.2.0",
       "_model_name": "LayoutModel",
       "_view_count": null,
       "_view_module": "@jupyter-widgets/base",
       "_view_module_version": "1.2.0",
       "_view_name": "LayoutView",
       "align_content": null,
       "align_items": null,
       "align_self": null,
       "border": null,
       "bottom": null,
       "display": null,
       "flex": null,
       "flex_flow": null,
       "grid_area": null,
       "grid_auto_columns": null,
       "grid_auto_flow": null,
       "grid_auto_rows": null,
       "grid_column": null,
       "grid_gap": null,
       "grid_row": null,
       "grid_template_areas": null,
       "grid_template_columns": null,
       "grid_template_rows": null,
       "height": null,
       "justify_content": null,
       "justify_items": null,
       "left": null,
       "margin": null,
       "max_height": null,
       "max_width": null,
       "min_height": null,
       "min_width": null,
       "object_fit": null,
       "object_position": null,
       "order": null,
       "overflow": null,
       "overflow_x": null,
       "overflow_y": null,
       "padding": null,
       "right": null,
       "top": null,
       "visibility": null,
       "width": null
      }
     },
     "66124543c6b34cdcbcb24dcb179aa886": {
      "model_module": "@jupyter-widgets/controls",
      "model_module_version": "1.5.0",
      "model_name": "ProgressStyleModel",
      "state": {
       "_model_module": "@jupyter-widgets/controls",
       "_model_module_version": "1.5.0",
       "_model_name": "ProgressStyleModel",
       "_view_count": null,
       "_view_module": "@jupyter-widgets/base",
       "_view_module_version": "1.2.0",
       "_view_name": "StyleView",
       "bar_color": null,
       "description_width": ""
      }
     },
     "663a48526394493f88f9060c7e33c7d3": {
      "model_module": "@jupyter-widgets/controls",
      "model_module_version": "1.5.0",
      "model_name": "DescriptionStyleModel",
      "state": {
       "_model_module": "@jupyter-widgets/controls",
       "_model_module_version": "1.5.0",
       "_model_name": "DescriptionStyleModel",
       "_view_count": null,
       "_view_module": "@jupyter-widgets/base",
       "_view_module_version": "1.2.0",
       "_view_name": "StyleView",
       "description_width": ""
      }
     },
     "689243f9a8a04e7aad7073a79bd00b19": {
      "model_module": "@jupyter-widgets/base",
      "model_module_version": "1.2.0",
      "model_name": "LayoutModel",
      "state": {
       "_model_module": "@jupyter-widgets/base",
       "_model_module_version": "1.2.0",
       "_model_name": "LayoutModel",
       "_view_count": null,
       "_view_module": "@jupyter-widgets/base",
       "_view_module_version": "1.2.0",
       "_view_name": "LayoutView",
       "align_content": null,
       "align_items": null,
       "align_self": null,
       "border": null,
       "bottom": null,
       "display": null,
       "flex": null,
       "flex_flow": null,
       "grid_area": null,
       "grid_auto_columns": null,
       "grid_auto_flow": null,
       "grid_auto_rows": null,
       "grid_column": null,
       "grid_gap": null,
       "grid_row": null,
       "grid_template_areas": null,
       "grid_template_columns": null,
       "grid_template_rows": null,
       "height": null,
       "justify_content": null,
       "justify_items": null,
       "left": null,
       "margin": null,
       "max_height": null,
       "max_width": null,
       "min_height": null,
       "min_width": null,
       "object_fit": null,
       "object_position": null,
       "order": null,
       "overflow": null,
       "overflow_x": null,
       "overflow_y": null,
       "padding": null,
       "right": null,
       "top": null,
       "visibility": null,
       "width": null
      }
     },
     "68951a43079d43b0942dfc10ea9c9949": {
      "model_module": "@jupyter-widgets/base",
      "model_module_version": "1.2.0",
      "model_name": "LayoutModel",
      "state": {
       "_model_module": "@jupyter-widgets/base",
       "_model_module_version": "1.2.0",
       "_model_name": "LayoutModel",
       "_view_count": null,
       "_view_module": "@jupyter-widgets/base",
       "_view_module_version": "1.2.0",
       "_view_name": "LayoutView",
       "align_content": null,
       "align_items": null,
       "align_self": null,
       "border": null,
       "bottom": null,
       "display": null,
       "flex": null,
       "flex_flow": null,
       "grid_area": null,
       "grid_auto_columns": null,
       "grid_auto_flow": null,
       "grid_auto_rows": null,
       "grid_column": null,
       "grid_gap": null,
       "grid_row": null,
       "grid_template_areas": null,
       "grid_template_columns": null,
       "grid_template_rows": null,
       "height": null,
       "justify_content": null,
       "justify_items": null,
       "left": null,
       "margin": null,
       "max_height": null,
       "max_width": null,
       "min_height": null,
       "min_width": null,
       "object_fit": null,
       "object_position": null,
       "order": null,
       "overflow": null,
       "overflow_x": null,
       "overflow_y": null,
       "padding": null,
       "right": null,
       "top": null,
       "visibility": null,
       "width": null
      }
     },
     "69e8a2f185c8427ebcca6696374637cf": {
      "model_module": "@jupyter-widgets/base",
      "model_module_version": "1.2.0",
      "model_name": "LayoutModel",
      "state": {
       "_model_module": "@jupyter-widgets/base",
       "_model_module_version": "1.2.0",
       "_model_name": "LayoutModel",
       "_view_count": null,
       "_view_module": "@jupyter-widgets/base",
       "_view_module_version": "1.2.0",
       "_view_name": "LayoutView",
       "align_content": null,
       "align_items": null,
       "align_self": null,
       "border": null,
       "bottom": null,
       "display": null,
       "flex": null,
       "flex_flow": null,
       "grid_area": null,
       "grid_auto_columns": null,
       "grid_auto_flow": null,
       "grid_auto_rows": null,
       "grid_column": null,
       "grid_gap": null,
       "grid_row": null,
       "grid_template_areas": null,
       "grid_template_columns": null,
       "grid_template_rows": null,
       "height": null,
       "justify_content": null,
       "justify_items": null,
       "left": null,
       "margin": null,
       "max_height": null,
       "max_width": null,
       "min_height": null,
       "min_width": null,
       "object_fit": null,
       "object_position": null,
       "order": null,
       "overflow": null,
       "overflow_x": null,
       "overflow_y": null,
       "padding": null,
       "right": null,
       "top": null,
       "visibility": null,
       "width": null
      }
     },
     "6ce4a375219041df928eb7a87c18badf": {
      "model_module": "@jupyter-widgets/controls",
      "model_module_version": "1.5.0",
      "model_name": "DescriptionStyleModel",
      "state": {
       "_model_module": "@jupyter-widgets/controls",
       "_model_module_version": "1.5.0",
       "_model_name": "DescriptionStyleModel",
       "_view_count": null,
       "_view_module": "@jupyter-widgets/base",
       "_view_module_version": "1.2.0",
       "_view_name": "StyleView",
       "description_width": ""
      }
     },
     "6e652fa15ca747c1a33531e87f7a5583": {
      "model_module": "@jupyter-widgets/base",
      "model_module_version": "1.2.0",
      "model_name": "LayoutModel",
      "state": {
       "_model_module": "@jupyter-widgets/base",
       "_model_module_version": "1.2.0",
       "_model_name": "LayoutModel",
       "_view_count": null,
       "_view_module": "@jupyter-widgets/base",
       "_view_module_version": "1.2.0",
       "_view_name": "LayoutView",
       "align_content": null,
       "align_items": null,
       "align_self": null,
       "border": null,
       "bottom": null,
       "display": null,
       "flex": null,
       "flex_flow": null,
       "grid_area": null,
       "grid_auto_columns": null,
       "grid_auto_flow": null,
       "grid_auto_rows": null,
       "grid_column": null,
       "grid_gap": null,
       "grid_row": null,
       "grid_template_areas": null,
       "grid_template_columns": null,
       "grid_template_rows": null,
       "height": null,
       "justify_content": null,
       "justify_items": null,
       "left": null,
       "margin": null,
       "max_height": null,
       "max_width": null,
       "min_height": null,
       "min_width": null,
       "object_fit": null,
       "object_position": null,
       "order": null,
       "overflow": null,
       "overflow_x": null,
       "overflow_y": null,
       "padding": null,
       "right": null,
       "top": null,
       "visibility": null,
       "width": null
      }
     },
     "6fe5ed47ca004935a9b0484580d62085": {
      "model_module": "@jupyter-widgets/controls",
      "model_module_version": "1.5.0",
      "model_name": "FloatProgressModel",
      "state": {
       "_dom_classes": [],
       "_model_module": "@jupyter-widgets/controls",
       "_model_module_version": "1.5.0",
       "_model_name": "FloatProgressModel",
       "_view_count": null,
       "_view_module": "@jupyter-widgets/controls",
       "_view_module_version": "1.5.0",
       "_view_name": "ProgressView",
       "bar_style": "success",
       "description": "",
       "description_tooltip": null,
       "layout": "IPY_MODEL_1ad2669b8f7240919383ad036df9eff6",
       "max": 90.0,
       "min": 0.0,
       "orientation": "horizontal",
       "style": "IPY_MODEL_99e189d8e866414980bd6bd96137b18a",
       "value": 90.0
      }
     },
     "71e5b26d88294a72b875b8c6562f4f1b": {
      "model_module": "@jupyter-widgets/controls",
      "model_module_version": "1.5.0",
      "model_name": "ProgressStyleModel",
      "state": {
       "_model_module": "@jupyter-widgets/controls",
       "_model_module_version": "1.5.0",
       "_model_name": "ProgressStyleModel",
       "_view_count": null,
       "_view_module": "@jupyter-widgets/base",
       "_view_module_version": "1.2.0",
       "_view_name": "StyleView",
       "bar_color": null,
       "description_width": ""
      }
     },
     "71f1b46f56e9457f8a473e1ca722ac24": {
      "model_module": "@jupyter-widgets/controls",
      "model_module_version": "1.5.0",
      "model_name": "HTMLModel",
      "state": {
       "_dom_classes": [],
       "_model_module": "@jupyter-widgets/controls",
       "_model_module_version": "1.5.0",
       "_model_name": "HTMLModel",
       "_view_count": null,
       "_view_module": "@jupyter-widgets/controls",
       "_view_module_version": "1.5.0",
       "_view_name": "HTMLView",
       "description": "",
       "description_tooltip": null,
       "layout": "IPY_MODEL_6e652fa15ca747c1a33531e87f7a5583",
       "placeholder": "​",
       "style": "IPY_MODEL_2c5395a159784901aa184a0dad21ce5c",
       "value": " 31.0/31.0 [00:00&lt;00:00, 1.06kB/s]"
      }
     },
     "72762693aa76428695883420e9a3941a": {
      "model_module": "@jupyter-widgets/controls",
      "model_module_version": "1.5.0",
      "model_name": "DescriptionStyleModel",
      "state": {
       "_model_module": "@jupyter-widgets/controls",
       "_model_module_version": "1.5.0",
       "_model_name": "DescriptionStyleModel",
       "_view_count": null,
       "_view_module": "@jupyter-widgets/base",
       "_view_module_version": "1.2.0",
       "_view_name": "StyleView",
       "description_width": ""
      }
     },
     "72cffb06944f4eacae50d0689ab9a284": {
      "model_module": "@jupyter-widgets/controls",
      "model_module_version": "1.5.0",
      "model_name": "HTMLModel",
      "state": {
       "_dom_classes": [],
       "_model_module": "@jupyter-widgets/controls",
       "_model_module_version": "1.5.0",
       "_model_name": "HTMLModel",
       "_view_count": null,
       "_view_module": "@jupyter-widgets/controls",
       "_view_module_version": "1.5.0",
       "_view_name": "HTMLView",
       "description": "",
       "description_tooltip": null,
       "layout": "IPY_MODEL_8484d9f518064c1fbcb344ddc45c5946",
       "placeholder": "​",
       "style": "IPY_MODEL_3136322823554854866e8440d13293a5",
       "value": " 90.0/90.0 [00:00&lt;00:00, 2.64kB/s]"
      }
     },
     "7476e09ba7d74a4981d31bc49f5c33ed": {
      "model_module": "@jupyter-widgets/controls",
      "model_module_version": "1.5.0",
      "model_name": "DescriptionStyleModel",
      "state": {
       "_model_module": "@jupyter-widgets/controls",
       "_model_module_version": "1.5.0",
       "_model_name": "DescriptionStyleModel",
       "_view_count": null,
       "_view_module": "@jupyter-widgets/base",
       "_view_module_version": "1.2.0",
       "_view_name": "StyleView",
       "description_width": ""
      }
     },
     "76cfeead1b6b4a2183b44dd80b56b8e1": {
      "model_module": "@jupyter-widgets/controls",
      "model_module_version": "1.5.0",
      "model_name": "HTMLModel",
      "state": {
       "_dom_classes": [],
       "_model_module": "@jupyter-widgets/controls",
       "_model_module_version": "1.5.0",
       "_model_name": "HTMLModel",
       "_view_count": null,
       "_view_module": "@jupyter-widgets/controls",
       "_view_module_version": "1.5.0",
       "_view_name": "HTMLView",
       "description": "",
       "description_tooltip": null,
       "layout": "IPY_MODEL_48dae435992f40b5832c2c39754dda97",
       "placeholder": "​",
       "style": "IPY_MODEL_e8afbf94188042c984ca9a6449abb67e",
       "value": "Downloading: 100%"
      }
     },
     "781ef8745f17483d970b4aec1db51444": {
      "model_module": "@jupyter-widgets/controls",
      "model_module_version": "1.5.0",
      "model_name": "HBoxModel",
      "state": {
       "_dom_classes": [],
       "_model_module": "@jupyter-widgets/controls",
       "_model_module_version": "1.5.0",
       "_model_name": "HBoxModel",
       "_view_count": null,
       "_view_module": "@jupyter-widgets/controls",
       "_view_module_version": "1.5.0",
       "_view_name": "HBoxView",
       "box_style": "",
       "children": [
        "IPY_MODEL_76cfeead1b6b4a2183b44dd80b56b8e1",
        "IPY_MODEL_6fe5ed47ca004935a9b0484580d62085",
        "IPY_MODEL_72cffb06944f4eacae50d0689ab9a284"
       ],
       "layout": "IPY_MODEL_c8392639ac8a494aa5d71d93af63d71f"
      }
     },
     "785aade6a06f47a8907664d7a5c22fb9": {
      "model_module": "@jupyter-widgets/base",
      "model_module_version": "1.2.0",
      "model_name": "LayoutModel",
      "state": {
       "_model_module": "@jupyter-widgets/base",
       "_model_module_version": "1.2.0",
       "_model_name": "LayoutModel",
       "_view_count": null,
       "_view_module": "@jupyter-widgets/base",
       "_view_module_version": "1.2.0",
       "_view_name": "LayoutView",
       "align_content": null,
       "align_items": null,
       "align_self": null,
       "border": null,
       "bottom": null,
       "display": null,
       "flex": null,
       "flex_flow": null,
       "grid_area": null,
       "grid_auto_columns": null,
       "grid_auto_flow": null,
       "grid_auto_rows": null,
       "grid_column": null,
       "grid_gap": null,
       "grid_row": null,
       "grid_template_areas": null,
       "grid_template_columns": null,
       "grid_template_rows": null,
       "height": null,
       "justify_content": null,
       "justify_items": null,
       "left": null,
       "margin": null,
       "max_height": null,
       "max_width": null,
       "min_height": null,
       "min_width": null,
       "object_fit": null,
       "object_position": null,
       "order": null,
       "overflow": null,
       "overflow_x": null,
       "overflow_y": null,
       "padding": null,
       "right": null,
       "top": null,
       "visibility": null,
       "width": null
      }
     },
     "79248148ca164f6195bf90be0f267dc6": {
      "model_module": "@jupyter-widgets/controls",
      "model_module_version": "1.5.0",
      "model_name": "DescriptionStyleModel",
      "state": {
       "_model_module": "@jupyter-widgets/controls",
       "_model_module_version": "1.5.0",
       "_model_name": "DescriptionStyleModel",
       "_view_count": null,
       "_view_module": "@jupyter-widgets/base",
       "_view_module_version": "1.2.0",
       "_view_name": "StyleView",
       "description_width": ""
      }
     },
     "7b02c07e78cb44589f867216384ace65": {
      "model_module": "@jupyter-widgets/base",
      "model_module_version": "1.2.0",
      "model_name": "LayoutModel",
      "state": {
       "_model_module": "@jupyter-widgets/base",
       "_model_module_version": "1.2.0",
       "_model_name": "LayoutModel",
       "_view_count": null,
       "_view_module": "@jupyter-widgets/base",
       "_view_module_version": "1.2.0",
       "_view_name": "LayoutView",
       "align_content": null,
       "align_items": null,
       "align_self": null,
       "border": null,
       "bottom": null,
       "display": null,
       "flex": null,
       "flex_flow": null,
       "grid_area": null,
       "grid_auto_columns": null,
       "grid_auto_flow": null,
       "grid_auto_rows": null,
       "grid_column": null,
       "grid_gap": null,
       "grid_row": null,
       "grid_template_areas": null,
       "grid_template_columns": null,
       "grid_template_rows": null,
       "height": null,
       "justify_content": null,
       "justify_items": null,
       "left": null,
       "margin": null,
       "max_height": null,
       "max_width": null,
       "min_height": null,
       "min_width": null,
       "object_fit": null,
       "object_position": null,
       "order": null,
       "overflow": null,
       "overflow_x": null,
       "overflow_y": null,
       "padding": null,
       "right": null,
       "top": null,
       "visibility": null,
       "width": null
      }
     },
     "7cf759d32f324f6a863cec6e3d980f88": {
      "model_module": "@jupyter-widgets/base",
      "model_module_version": "1.2.0",
      "model_name": "LayoutModel",
      "state": {
       "_model_module": "@jupyter-widgets/base",
       "_model_module_version": "1.2.0",
       "_model_name": "LayoutModel",
       "_view_count": null,
       "_view_module": "@jupyter-widgets/base",
       "_view_module_version": "1.2.0",
       "_view_name": "LayoutView",
       "align_content": null,
       "align_items": null,
       "align_self": null,
       "border": null,
       "bottom": null,
       "display": null,
       "flex": null,
       "flex_flow": null,
       "grid_area": null,
       "grid_auto_columns": null,
       "grid_auto_flow": null,
       "grid_auto_rows": null,
       "grid_column": null,
       "grid_gap": null,
       "grid_row": null,
       "grid_template_areas": null,
       "grid_template_columns": null,
       "grid_template_rows": null,
       "height": null,
       "justify_content": null,
       "justify_items": null,
       "left": null,
       "margin": null,
       "max_height": null,
       "max_width": null,
       "min_height": null,
       "min_width": null,
       "object_fit": null,
       "object_position": null,
       "order": null,
       "overflow": null,
       "overflow_x": null,
       "overflow_y": null,
       "padding": null,
       "right": null,
       "top": null,
       "visibility": null,
       "width": null
      }
     },
     "7ea6d60ffc3347158da60dd2c8bbabaa": {
      "model_module": "@jupyter-widgets/base",
      "model_module_version": "1.2.0",
      "model_name": "LayoutModel",
      "state": {
       "_model_module": "@jupyter-widgets/base",
       "_model_module_version": "1.2.0",
       "_model_name": "LayoutModel",
       "_view_count": null,
       "_view_module": "@jupyter-widgets/base",
       "_view_module_version": "1.2.0",
       "_view_name": "LayoutView",
       "align_content": null,
       "align_items": null,
       "align_self": null,
       "border": null,
       "bottom": null,
       "display": null,
       "flex": null,
       "flex_flow": null,
       "grid_area": null,
       "grid_auto_columns": null,
       "grid_auto_flow": null,
       "grid_auto_rows": null,
       "grid_column": null,
       "grid_gap": null,
       "grid_row": null,
       "grid_template_areas": null,
       "grid_template_columns": null,
       "grid_template_rows": null,
       "height": null,
       "justify_content": null,
       "justify_items": null,
       "left": null,
       "margin": null,
       "max_height": null,
       "max_width": null,
       "min_height": null,
       "min_width": null,
       "object_fit": null,
       "object_position": null,
       "order": null,
       "overflow": null,
       "overflow_x": null,
       "overflow_y": null,
       "padding": null,
       "right": null,
       "top": null,
       "visibility": null,
       "width": null
      }
     },
     "80c7d650ed4e4d18bbb2ef860f41abfd": {
      "model_module": "@jupyter-widgets/controls",
      "model_module_version": "1.5.0",
      "model_name": "HTMLModel",
      "state": {
       "_dom_classes": [],
       "_model_module": "@jupyter-widgets/controls",
       "_model_module_version": "1.5.0",
       "_model_name": "HTMLModel",
       "_view_count": null,
       "_view_module": "@jupyter-widgets/controls",
       "_view_module_version": "1.5.0",
       "_view_name": "HTMLView",
       "description": "",
       "description_tooltip": null,
       "layout": "IPY_MODEL_689243f9a8a04e7aad7073a79bd00b19",
       "placeholder": "​",
       "style": "IPY_MODEL_663a48526394493f88f9060c7e33c7d3",
       "value": "Downloading: 100%"
      }
     },
     "83c33e3c8d8b457a9727c146ba8d010f": {
      "model_module": "@jupyter-widgets/controls",
      "model_module_version": "1.5.0",
      "model_name": "FloatProgressModel",
      "state": {
       "_dom_classes": [],
       "_model_module": "@jupyter-widgets/controls",
       "_model_module_version": "1.5.0",
       "_model_name": "FloatProgressModel",
       "_view_count": null,
       "_view_module": "@jupyter-widgets/controls",
       "_view_module_version": "1.5.0",
       "_view_name": "ProgressView",
       "bar_style": "success",
       "description": "",
       "description_tooltip": null,
       "layout": "IPY_MODEL_4c03aa3560cf415089f8885afd8986c7",
       "max": 31.0,
       "min": 0.0,
       "orientation": "horizontal",
       "style": "IPY_MODEL_c49967b52aea4c4ea2f65bb1fd4047f4",
       "value": 31.0
      }
     },
     "83f028a783b148ee902dcce328f8ecb3": {
      "model_module": "@jupyter-widgets/base",
      "model_module_version": "1.2.0",
      "model_name": "LayoutModel",
      "state": {
       "_model_module": "@jupyter-widgets/base",
       "_model_module_version": "1.2.0",
       "_model_name": "LayoutModel",
       "_view_count": null,
       "_view_module": "@jupyter-widgets/base",
       "_view_module_version": "1.2.0",
       "_view_name": "LayoutView",
       "align_content": null,
       "align_items": null,
       "align_self": null,
       "border": null,
       "bottom": null,
       "display": null,
       "flex": null,
       "flex_flow": null,
       "grid_area": null,
       "grid_auto_columns": null,
       "grid_auto_flow": null,
       "grid_auto_rows": null,
       "grid_column": null,
       "grid_gap": null,
       "grid_row": null,
       "grid_template_areas": null,
       "grid_template_columns": null,
       "grid_template_rows": null,
       "height": null,
       "justify_content": null,
       "justify_items": null,
       "left": null,
       "margin": null,
       "max_height": null,
       "max_width": null,
       "min_height": null,
       "min_width": null,
       "object_fit": null,
       "object_position": null,
       "order": null,
       "overflow": null,
       "overflow_x": null,
       "overflow_y": null,
       "padding": null,
       "right": null,
       "top": null,
       "visibility": null,
       "width": null
      }
     },
     "8484d9f518064c1fbcb344ddc45c5946": {
      "model_module": "@jupyter-widgets/base",
      "model_module_version": "1.2.0",
      "model_name": "LayoutModel",
      "state": {
       "_model_module": "@jupyter-widgets/base",
       "_model_module_version": "1.2.0",
       "_model_name": "LayoutModel",
       "_view_count": null,
       "_view_module": "@jupyter-widgets/base",
       "_view_module_version": "1.2.0",
       "_view_name": "LayoutView",
       "align_content": null,
       "align_items": null,
       "align_self": null,
       "border": null,
       "bottom": null,
       "display": null,
       "flex": null,
       "flex_flow": null,
       "grid_area": null,
       "grid_auto_columns": null,
       "grid_auto_flow": null,
       "grid_auto_rows": null,
       "grid_column": null,
       "grid_gap": null,
       "grid_row": null,
       "grid_template_areas": null,
       "grid_template_columns": null,
       "grid_template_rows": null,
       "height": null,
       "justify_content": null,
       "justify_items": null,
       "left": null,
       "margin": null,
       "max_height": null,
       "max_width": null,
       "min_height": null,
       "min_width": null,
       "object_fit": null,
       "object_position": null,
       "order": null,
       "overflow": null,
       "overflow_x": null,
       "overflow_y": null,
       "padding": null,
       "right": null,
       "top": null,
       "visibility": null,
       "width": null
      }
     },
     "87d22a70d4824e818faa0f16255d4957": {
      "model_module": "@jupyter-widgets/controls",
      "model_module_version": "1.5.0",
      "model_name": "HTMLModel",
      "state": {
       "_dom_classes": [],
       "_model_module": "@jupyter-widgets/controls",
       "_model_module_version": "1.5.0",
       "_model_name": "HTMLModel",
       "_view_count": null,
       "_view_module": "@jupyter-widgets/controls",
       "_view_module_version": "1.5.0",
       "_view_name": "HTMLView",
       "description": "",
       "description_tooltip": null,
       "layout": "IPY_MODEL_9e97b999cf44413bba94930b231e071b",
       "placeholder": "​",
       "style": "IPY_MODEL_5b6d6f55781140dcb383da08a5080b1d",
       "value": " 90.0/90.0 [00:00&lt;00:00, 3.07kB/s]"
      }
     },
     "87dee2d16a9a4af5af73bb19661654a2": {
      "model_module": "@jupyter-widgets/controls",
      "model_module_version": "1.5.0",
      "model_name": "HTMLModel",
      "state": {
       "_dom_classes": [],
       "_model_module": "@jupyter-widgets/controls",
       "_model_module_version": "1.5.0",
       "_model_name": "HTMLModel",
       "_view_count": null,
       "_view_module": "@jupyter-widgets/controls",
       "_view_module_version": "1.5.0",
       "_view_name": "HTMLView",
       "description": "",
       "description_tooltip": null,
       "layout": "IPY_MODEL_69e8a2f185c8427ebcca6696374637cf",
       "placeholder": "​",
       "style": "IPY_MODEL_a454cfea902a4fe3aa63a40fee12679c",
       "value": " 242M/242M [00:07&lt;00:00, 36.7MB/s]"
      }
     },
     "89eef6f8e73d42bd945ffe132f5878d0": {
      "model_module": "@jupyter-widgets/base",
      "model_module_version": "1.2.0",
      "model_name": "LayoutModel",
      "state": {
       "_model_module": "@jupyter-widgets/base",
       "_model_module_version": "1.2.0",
       "_model_name": "LayoutModel",
       "_view_count": null,
       "_view_module": "@jupyter-widgets/base",
       "_view_module_version": "1.2.0",
       "_view_name": "LayoutView",
       "align_content": null,
       "align_items": null,
       "align_self": null,
       "border": null,
       "bottom": null,
       "display": null,
       "flex": null,
       "flex_flow": null,
       "grid_area": null,
       "grid_auto_columns": null,
       "grid_auto_flow": null,
       "grid_auto_rows": null,
       "grid_column": null,
       "grid_gap": null,
       "grid_row": null,
       "grid_template_areas": null,
       "grid_template_columns": null,
       "grid_template_rows": null,
       "height": null,
       "justify_content": null,
       "justify_items": null,
       "left": null,
       "margin": null,
       "max_height": null,
       "max_width": null,
       "min_height": null,
       "min_width": null,
       "object_fit": null,
       "object_position": null,
       "order": null,
       "overflow": null,
       "overflow_x": null,
       "overflow_y": null,
       "padding": null,
       "right": null,
       "top": null,
       "visibility": null,
       "width": null
      }
     },
     "8ca3c1ec308d4a949526e9671c1c7e03": {
      "model_module": "@jupyter-widgets/controls",
      "model_module_version": "1.5.0",
      "model_name": "DescriptionStyleModel",
      "state": {
       "_model_module": "@jupyter-widgets/controls",
       "_model_module_version": "1.5.0",
       "_model_name": "DescriptionStyleModel",
       "_view_count": null,
       "_view_module": "@jupyter-widgets/base",
       "_view_module_version": "1.2.0",
       "_view_name": "StyleView",
       "description_width": ""
      }
     },
     "8dba19aecd804d9a9370caad391216a5": {
      "model_module": "@jupyter-widgets/controls",
      "model_module_version": "1.5.0",
      "model_name": "FloatProgressModel",
      "state": {
       "_dom_classes": [],
       "_model_module": "@jupyter-widgets/controls",
       "_model_module_version": "1.5.0",
       "_model_name": "FloatProgressModel",
       "_view_count": null,
       "_view_module": "@jupyter-widgets/controls",
       "_view_module_version": "1.5.0",
       "_view_name": "ProgressView",
       "bar_style": "success",
       "description": "",
       "description_tooltip": null,
       "layout": "IPY_MODEL_b08286b794af4d25a56caf306cc5efd2",
       "max": 31.0,
       "min": 0.0,
       "orientation": "horizontal",
       "style": "IPY_MODEL_127ad492c1cb453dbe5e0cc60b4ae903",
       "value": 31.0
      }
     },
     "9078e9ef90e14fb4b3b463aadad61ff6": {
      "model_module": "@jupyter-widgets/controls",
      "model_module_version": "1.5.0",
      "model_name": "HBoxModel",
      "state": {
       "_dom_classes": [],
       "_model_module": "@jupyter-widgets/controls",
       "_model_module_version": "1.5.0",
       "_model_name": "HBoxModel",
       "_view_count": null,
       "_view_module": "@jupyter-widgets/controls",
       "_view_module_version": "1.5.0",
       "_view_name": "HBoxView",
       "box_style": "",
       "children": [
        "IPY_MODEL_0234269196eb432287ffee699f7de8ab",
        "IPY_MODEL_a70758a3bc5d422386c979880211eb24",
        "IPY_MODEL_e17ab18388b64e47ac4d35a73b66e9ba"
       ],
       "layout": "IPY_MODEL_efda29ed840948989c95993435cd9df1"
      }
     },
     "908a9f1f6f334f1494804100e9e61a38": {
      "model_module": "@jupyter-widgets/controls",
      "model_module_version": "1.5.0",
      "model_name": "HTMLModel",
      "state": {
       "_dom_classes": [],
       "_model_module": "@jupyter-widgets/controls",
       "_model_module_version": "1.5.0",
       "_model_name": "HTMLModel",
       "_view_count": null,
       "_view_module": "@jupyter-widgets/controls",
       "_view_module_version": "1.5.0",
       "_view_name": "HTMLView",
       "description": "",
       "description_tooltip": null,
       "layout": "IPY_MODEL_99af559fec264fe3920b73b7255ac7b1",
       "placeholder": "​",
       "style": "IPY_MODEL_79248148ca164f6195bf90be0f267dc6",
       "value": "Downloading: 100%"
      }
     },
     "9242a34aa513473fb78db656e9a94bb9": {
      "model_module": "@jupyter-widgets/controls",
      "model_module_version": "1.5.0",
      "model_name": "DescriptionStyleModel",
      "state": {
       "_model_module": "@jupyter-widgets/controls",
       "_model_module_version": "1.5.0",
       "_model_name": "DescriptionStyleModel",
       "_view_count": null,
       "_view_module": "@jupyter-widgets/base",
       "_view_module_version": "1.2.0",
       "_view_name": "StyleView",
       "description_width": ""
      }
     },
     "9604453ac0a14a1c976196f3319e2b45": {
      "model_module": "@jupyter-widgets/controls",
      "model_module_version": "1.5.0",
      "model_name": "HBoxModel",
      "state": {
       "_dom_classes": [],
       "_model_module": "@jupyter-widgets/controls",
       "_model_module_version": "1.5.0",
       "_model_name": "HBoxModel",
       "_view_count": null,
       "_view_module": "@jupyter-widgets/controls",
       "_view_module_version": "1.5.0",
       "_view_name": "HBoxView",
       "box_style": "",
       "children": [
        "IPY_MODEL_03a55a170ced4413a2bf843eebb3aad1",
        "IPY_MODEL_9abafeda822e4a97a62e299500dbe018",
        "IPY_MODEL_dfc1f4264cbf4f70b545992557abf05d"
       ],
       "layout": "IPY_MODEL_aa186e14a0794d00b78a74032f525858"
      }
     },
     "96e137baf54048ebb6366258c3c78661": {
      "model_module": "@jupyter-widgets/base",
      "model_module_version": "1.2.0",
      "model_name": "LayoutModel",
      "state": {
       "_model_module": "@jupyter-widgets/base",
       "_model_module_version": "1.2.0",
       "_model_name": "LayoutModel",
       "_view_count": null,
       "_view_module": "@jupyter-widgets/base",
       "_view_module_version": "1.2.0",
       "_view_name": "LayoutView",
       "align_content": null,
       "align_items": null,
       "align_self": null,
       "border": null,
       "bottom": null,
       "display": null,
       "flex": null,
       "flex_flow": null,
       "grid_area": null,
       "grid_auto_columns": null,
       "grid_auto_flow": null,
       "grid_auto_rows": null,
       "grid_column": null,
       "grid_gap": null,
       "grid_row": null,
       "grid_template_areas": null,
       "grid_template_columns": null,
       "grid_template_rows": null,
       "height": null,
       "justify_content": null,
       "justify_items": null,
       "left": null,
       "margin": null,
       "max_height": null,
       "max_width": null,
       "min_height": null,
       "min_width": null,
       "object_fit": null,
       "object_position": null,
       "order": null,
       "overflow": null,
       "overflow_x": null,
       "overflow_y": null,
       "padding": null,
       "right": null,
       "top": null,
       "visibility": null,
       "width": null
      }
     },
     "99af559fec264fe3920b73b7255ac7b1": {
      "model_module": "@jupyter-widgets/base",
      "model_module_version": "1.2.0",
      "model_name": "LayoutModel",
      "state": {
       "_model_module": "@jupyter-widgets/base",
       "_model_module_version": "1.2.0",
       "_model_name": "LayoutModel",
       "_view_count": null,
       "_view_module": "@jupyter-widgets/base",
       "_view_module_version": "1.2.0",
       "_view_name": "LayoutView",
       "align_content": null,
       "align_items": null,
       "align_self": null,
       "border": null,
       "bottom": null,
       "display": null,
       "flex": null,
       "flex_flow": null,
       "grid_area": null,
       "grid_auto_columns": null,
       "grid_auto_flow": null,
       "grid_auto_rows": null,
       "grid_column": null,
       "grid_gap": null,
       "grid_row": null,
       "grid_template_areas": null,
       "grid_template_columns": null,
       "grid_template_rows": null,
       "height": null,
       "justify_content": null,
       "justify_items": null,
       "left": null,
       "margin": null,
       "max_height": null,
       "max_width": null,
       "min_height": null,
       "min_width": null,
       "object_fit": null,
       "object_position": null,
       "order": null,
       "overflow": null,
       "overflow_x": null,
       "overflow_y": null,
       "padding": null,
       "right": null,
       "top": null,
       "visibility": null,
       "width": null
      }
     },
     "99e189d8e866414980bd6bd96137b18a": {
      "model_module": "@jupyter-widgets/controls",
      "model_module_version": "1.5.0",
      "model_name": "ProgressStyleModel",
      "state": {
       "_model_module": "@jupyter-widgets/controls",
       "_model_module_version": "1.5.0",
       "_model_name": "ProgressStyleModel",
       "_view_count": null,
       "_view_module": "@jupyter-widgets/base",
       "_view_module_version": "1.2.0",
       "_view_name": "StyleView",
       "bar_color": null,
       "description_width": ""
      }
     },
     "9abafeda822e4a97a62e299500dbe018": {
      "model_module": "@jupyter-widgets/controls",
      "model_module_version": "1.5.0",
      "model_name": "FloatProgressModel",
      "state": {
       "_dom_classes": [],
       "_model_module": "@jupyter-widgets/controls",
       "_model_module_version": "1.5.0",
       "_model_name": "FloatProgressModel",
       "_view_count": null,
       "_view_module": "@jupyter-widgets/controls",
       "_view_module_version": "1.5.0",
       "_view_name": "ProgressView",
       "bar_style": "success",
       "description": "",
       "description_tooltip": null,
       "layout": "IPY_MODEL_d6993686e1af4606b4d7a636bfcdbc5a",
       "max": 656.0,
       "min": 0.0,
       "orientation": "horizontal",
       "style": "IPY_MODEL_b9c4bf0ea514404da624401a742e2d4a",
       "value": 656.0
      }
     },
     "9af3a0e704244b709edcc43df62bcb1e": {
      "model_module": "@jupyter-widgets/base",
      "model_module_version": "1.2.0",
      "model_name": "LayoutModel",
      "state": {
       "_model_module": "@jupyter-widgets/base",
       "_model_module_version": "1.2.0",
       "_model_name": "LayoutModel",
       "_view_count": null,
       "_view_module": "@jupyter-widgets/base",
       "_view_module_version": "1.2.0",
       "_view_name": "LayoutView",
       "align_content": null,
       "align_items": null,
       "align_self": null,
       "border": null,
       "bottom": null,
       "display": null,
       "flex": null,
       "flex_flow": null,
       "grid_area": null,
       "grid_auto_columns": null,
       "grid_auto_flow": null,
       "grid_auto_rows": null,
       "grid_column": null,
       "grid_gap": null,
       "grid_row": null,
       "grid_template_areas": null,
       "grid_template_columns": null,
       "grid_template_rows": null,
       "height": null,
       "justify_content": null,
       "justify_items": null,
       "left": null,
       "margin": null,
       "max_height": null,
       "max_width": null,
       "min_height": null,
       "min_width": null,
       "object_fit": null,
       "object_position": null,
       "order": null,
       "overflow": null,
       "overflow_x": null,
       "overflow_y": null,
       "padding": null,
       "right": null,
       "top": null,
       "visibility": null,
       "width": null
      }
     },
     "9c4b4fc73f724ed786da12bebf8fbf96": {
      "model_module": "@jupyter-widgets/base",
      "model_module_version": "1.2.0",
      "model_name": "LayoutModel",
      "state": {
       "_model_module": "@jupyter-widgets/base",
       "_model_module_version": "1.2.0",
       "_model_name": "LayoutModel",
       "_view_count": null,
       "_view_module": "@jupyter-widgets/base",
       "_view_module_version": "1.2.0",
       "_view_name": "LayoutView",
       "align_content": null,
       "align_items": null,
       "align_self": null,
       "border": null,
       "bottom": null,
       "display": null,
       "flex": null,
       "flex_flow": null,
       "grid_area": null,
       "grid_auto_columns": null,
       "grid_auto_flow": null,
       "grid_auto_rows": null,
       "grid_column": null,
       "grid_gap": null,
       "grid_row": null,
       "grid_template_areas": null,
       "grid_template_columns": null,
       "grid_template_rows": null,
       "height": null,
       "justify_content": null,
       "justify_items": null,
       "left": null,
       "margin": null,
       "max_height": null,
       "max_width": null,
       "min_height": null,
       "min_width": null,
       "object_fit": null,
       "object_position": null,
       "order": null,
       "overflow": null,
       "overflow_x": null,
       "overflow_y": null,
       "padding": null,
       "right": null,
       "top": null,
       "visibility": null,
       "width": null
      }
     },
     "9d4a2a26cda2410c890bc97afc22f5d9": {
      "model_module": "@jupyter-widgets/controls",
      "model_module_version": "1.5.0",
      "model_name": "HTMLModel",
      "state": {
       "_dom_classes": [],
       "_model_module": "@jupyter-widgets/controls",
       "_model_module_version": "1.5.0",
       "_model_name": "HTMLModel",
       "_view_count": null,
       "_view_module": "@jupyter-widgets/controls",
       "_view_module_version": "1.5.0",
       "_view_name": "HTMLView",
       "description": "",
       "description_tooltip": null,
       "layout": "IPY_MODEL_367f127832b14c049558715f20bf4cee",
       "placeholder": "​",
       "style": "IPY_MODEL_9242a34aa513473fb78db656e9a94bb9",
       "value": "Downloading: 100%"
      }
     },
     "9e5d7fc600944afd8100f3a1f153376c": {
      "model_module": "@jupyter-widgets/controls",
      "model_module_version": "1.5.0",
      "model_name": "HTMLModel",
      "state": {
       "_dom_classes": [],
       "_model_module": "@jupyter-widgets/controls",
       "_model_module_version": "1.5.0",
       "_model_name": "HTMLModel",
       "_view_count": null,
       "_view_module": "@jupyter-widgets/controls",
       "_view_module_version": "1.5.0",
       "_view_name": "HTMLView",
       "description": "",
       "description_tooltip": null,
       "layout": "IPY_MODEL_f2bebd66d5d04a5caced77e5a41b4328",
       "placeholder": "​",
       "style": "IPY_MODEL_ee0a269708b0425cbc5f1d53b0c6966b",
       "value": "Downloading: 100%"
      }
     },
     "9e97b999cf44413bba94930b231e071b": {
      "model_module": "@jupyter-widgets/base",
      "model_module_version": "1.2.0",
      "model_name": "LayoutModel",
      "state": {
       "_model_module": "@jupyter-widgets/base",
       "_model_module_version": "1.2.0",
       "_model_name": "LayoutModel",
       "_view_count": null,
       "_view_module": "@jupyter-widgets/base",
       "_view_module_version": "1.2.0",
       "_view_name": "LayoutView",
       "align_content": null,
       "align_items": null,
       "align_self": null,
       "border": null,
       "bottom": null,
       "display": null,
       "flex": null,
       "flex_flow": null,
       "grid_area": null,
       "grid_auto_columns": null,
       "grid_auto_flow": null,
       "grid_auto_rows": null,
       "grid_column": null,
       "grid_gap": null,
       "grid_row": null,
       "grid_template_areas": null,
       "grid_template_columns": null,
       "grid_template_rows": null,
       "height": null,
       "justify_content": null,
       "justify_items": null,
       "left": null,
       "margin": null,
       "max_height": null,
       "max_width": null,
       "min_height": null,
       "min_width": null,
       "object_fit": null,
       "object_position": null,
       "order": null,
       "overflow": null,
       "overflow_x": null,
       "overflow_y": null,
       "padding": null,
       "right": null,
       "top": null,
       "visibility": null,
       "width": null
      }
     },
     "9f270c3f44574a97bfd5bcfaa53d0641": {
      "model_module": "@jupyter-widgets/controls",
      "model_module_version": "1.5.0",
      "model_name": "FloatProgressModel",
      "state": {
       "_dom_classes": [],
       "_model_module": "@jupyter-widgets/controls",
       "_model_module_version": "1.5.0",
       "_model_name": "FloatProgressModel",
       "_view_count": null,
       "_view_module": "@jupyter-widgets/controls",
       "_view_module_version": "1.5.0",
       "_view_name": "ProgressView",
       "bar_style": "success",
       "description": "",
       "description_tooltip": null,
       "layout": "IPY_MODEL_2aaf2c7942f24acba9de40c109ac6fa7",
       "max": 242013376.0,
       "min": 0.0,
       "orientation": "horizontal",
       "style": "IPY_MODEL_c68181da76b143f0ac82caa446672166",
       "value": 242013376.0
      }
     },
     "9f742cd44019436a92f200579b9ea7f8": {
      "model_module": "@jupyter-widgets/controls",
      "model_module_version": "1.5.0",
      "model_name": "DescriptionStyleModel",
      "state": {
       "_model_module": "@jupyter-widgets/controls",
       "_model_module_version": "1.5.0",
       "_model_name": "DescriptionStyleModel",
       "_view_count": null,
       "_view_module": "@jupyter-widgets/base",
       "_view_module_version": "1.2.0",
       "_view_name": "StyleView",
       "description_width": ""
      }
     },
     "a38cc7ba62374e13959898739267d054": {
      "model_module": "@jupyter-widgets/controls",
      "model_module_version": "1.5.0",
      "model_name": "ProgressStyleModel",
      "state": {
       "_model_module": "@jupyter-widgets/controls",
       "_model_module_version": "1.5.0",
       "_model_name": "ProgressStyleModel",
       "_view_count": null,
       "_view_module": "@jupyter-widgets/base",
       "_view_module_version": "1.2.0",
       "_view_name": "StyleView",
       "bar_color": null,
       "description_width": ""
      }
     },
     "a454cfea902a4fe3aa63a40fee12679c": {
      "model_module": "@jupyter-widgets/controls",
      "model_module_version": "1.5.0",
      "model_name": "DescriptionStyleModel",
      "state": {
       "_model_module": "@jupyter-widgets/controls",
       "_model_module_version": "1.5.0",
       "_model_name": "DescriptionStyleModel",
       "_view_count": null,
       "_view_module": "@jupyter-widgets/base",
       "_view_module_version": "1.2.0",
       "_view_name": "StyleView",
       "description_width": ""
      }
     },
     "a6d73748134541e293167b8562e852de": {
      "model_module": "@jupyter-widgets/controls",
      "model_module_version": "1.5.0",
      "model_name": "DescriptionStyleModel",
      "state": {
       "_model_module": "@jupyter-widgets/controls",
       "_model_module_version": "1.5.0",
       "_model_name": "DescriptionStyleModel",
       "_view_count": null,
       "_view_module": "@jupyter-widgets/base",
       "_view_module_version": "1.2.0",
       "_view_name": "StyleView",
       "description_width": ""
      }
     },
     "a70758a3bc5d422386c979880211eb24": {
      "model_module": "@jupyter-widgets/controls",
      "model_module_version": "1.5.0",
      "model_name": "FloatProgressModel",
      "state": {
       "_dom_classes": [],
       "_model_module": "@jupyter-widgets/controls",
       "_model_module_version": "1.5.0",
       "_model_name": "FloatProgressModel",
       "_view_count": null,
       "_view_module": "@jupyter-widgets/controls",
       "_view_module_version": "1.5.0",
       "_view_name": "ProgressView",
       "bar_style": "success",
       "description": "",
       "description_tooltip": null,
       "layout": "IPY_MODEL_65c1b0754ac94af091a2acb9ef66ea8b",
       "max": 65.0,
       "min": 0.0,
       "orientation": "horizontal",
       "style": "IPY_MODEL_a38cc7ba62374e13959898739267d054",
       "value": 65.0
      }
     },
     "aa186e14a0794d00b78a74032f525858": {
      "model_module": "@jupyter-widgets/base",
      "model_module_version": "1.2.0",
      "model_name": "LayoutModel",
      "state": {
       "_model_module": "@jupyter-widgets/base",
       "_model_module_version": "1.2.0",
       "_model_name": "LayoutModel",
       "_view_count": null,
       "_view_module": "@jupyter-widgets/base",
       "_view_module_version": "1.2.0",
       "_view_name": "LayoutView",
       "align_content": null,
       "align_items": null,
       "align_self": null,
       "border": null,
       "bottom": null,
       "display": null,
       "flex": null,
       "flex_flow": null,
       "grid_area": null,
       "grid_auto_columns": null,
       "grid_auto_flow": null,
       "grid_auto_rows": null,
       "grid_column": null,
       "grid_gap": null,
       "grid_row": null,
       "grid_template_areas": null,
       "grid_template_columns": null,
       "grid_template_rows": null,
       "height": null,
       "justify_content": null,
       "justify_items": null,
       "left": null,
       "margin": null,
       "max_height": null,
       "max_width": null,
       "min_height": null,
       "min_width": null,
       "object_fit": null,
       "object_position": null,
       "order": null,
       "overflow": null,
       "overflow_x": null,
       "overflow_y": null,
       "padding": null,
       "right": null,
       "top": null,
       "visibility": null,
       "width": null
      }
     },
     "b08286b794af4d25a56caf306cc5efd2": {
      "model_module": "@jupyter-widgets/base",
      "model_module_version": "1.2.0",
      "model_name": "LayoutModel",
      "state": {
       "_model_module": "@jupyter-widgets/base",
       "_model_module_version": "1.2.0",
       "_model_name": "LayoutModel",
       "_view_count": null,
       "_view_module": "@jupyter-widgets/base",
       "_view_module_version": "1.2.0",
       "_view_name": "LayoutView",
       "align_content": null,
       "align_items": null,
       "align_self": null,
       "border": null,
       "bottom": null,
       "display": null,
       "flex": null,
       "flex_flow": null,
       "grid_area": null,
       "grid_auto_columns": null,
       "grid_auto_flow": null,
       "grid_auto_rows": null,
       "grid_column": null,
       "grid_gap": null,
       "grid_row": null,
       "grid_template_areas": null,
       "grid_template_columns": null,
       "grid_template_rows": null,
       "height": null,
       "justify_content": null,
       "justify_items": null,
       "left": null,
       "margin": null,
       "max_height": null,
       "max_width": null,
       "min_height": null,
       "min_width": null,
       "object_fit": null,
       "object_position": null,
       "order": null,
       "overflow": null,
       "overflow_x": null,
       "overflow_y": null,
       "padding": null,
       "right": null,
       "top": null,
       "visibility": null,
       "width": null
      }
     },
     "b3a350dabdb44f34bf7a30fc76936a54": {
      "model_module": "@jupyter-widgets/base",
      "model_module_version": "1.2.0",
      "model_name": "LayoutModel",
      "state": {
       "_model_module": "@jupyter-widgets/base",
       "_model_module_version": "1.2.0",
       "_model_name": "LayoutModel",
       "_view_count": null,
       "_view_module": "@jupyter-widgets/base",
       "_view_module_version": "1.2.0",
       "_view_name": "LayoutView",
       "align_content": null,
       "align_items": null,
       "align_self": null,
       "border": null,
       "bottom": null,
       "display": null,
       "flex": null,
       "flex_flow": null,
       "grid_area": null,
       "grid_auto_columns": null,
       "grid_auto_flow": null,
       "grid_auto_rows": null,
       "grid_column": null,
       "grid_gap": null,
       "grid_row": null,
       "grid_template_areas": null,
       "grid_template_columns": null,
       "grid_template_rows": null,
       "height": null,
       "justify_content": null,
       "justify_items": null,
       "left": null,
       "margin": null,
       "max_height": null,
       "max_width": null,
       "min_height": null,
       "min_width": null,
       "object_fit": null,
       "object_position": null,
       "order": null,
       "overflow": null,
       "overflow_x": null,
       "overflow_y": null,
       "padding": null,
       "right": null,
       "top": null,
       "visibility": null,
       "width": null
      }
     },
     "b8a703951466417f91162b8954923b0e": {
      "model_module": "@jupyter-widgets/base",
      "model_module_version": "1.2.0",
      "model_name": "LayoutModel",
      "state": {
       "_model_module": "@jupyter-widgets/base",
       "_model_module_version": "1.2.0",
       "_model_name": "LayoutModel",
       "_view_count": null,
       "_view_module": "@jupyter-widgets/base",
       "_view_module_version": "1.2.0",
       "_view_name": "LayoutView",
       "align_content": null,
       "align_items": null,
       "align_self": null,
       "border": null,
       "bottom": null,
       "display": null,
       "flex": null,
       "flex_flow": null,
       "grid_area": null,
       "grid_auto_columns": null,
       "grid_auto_flow": null,
       "grid_auto_rows": null,
       "grid_column": null,
       "grid_gap": null,
       "grid_row": null,
       "grid_template_areas": null,
       "grid_template_columns": null,
       "grid_template_rows": null,
       "height": null,
       "justify_content": null,
       "justify_items": null,
       "left": null,
       "margin": null,
       "max_height": null,
       "max_width": null,
       "min_height": null,
       "min_width": null,
       "object_fit": null,
       "object_position": null,
       "order": null,
       "overflow": null,
       "overflow_x": null,
       "overflow_y": null,
       "padding": null,
       "right": null,
       "top": null,
       "visibility": null,
       "width": null
      }
     },
     "b9c4bf0ea514404da624401a742e2d4a": {
      "model_module": "@jupyter-widgets/controls",
      "model_module_version": "1.5.0",
      "model_name": "ProgressStyleModel",
      "state": {
       "_model_module": "@jupyter-widgets/controls",
       "_model_module_version": "1.5.0",
       "_model_name": "ProgressStyleModel",
       "_view_count": null,
       "_view_module": "@jupyter-widgets/base",
       "_view_module_version": "1.2.0",
       "_view_name": "StyleView",
       "bar_color": null,
       "description_width": ""
      }
     },
     "bb2210500b5a4dcf973587c97992cc11": {
      "model_module": "@jupyter-widgets/base",
      "model_module_version": "1.2.0",
      "model_name": "LayoutModel",
      "state": {
       "_model_module": "@jupyter-widgets/base",
       "_model_module_version": "1.2.0",
       "_model_name": "LayoutModel",
       "_view_count": null,
       "_view_module": "@jupyter-widgets/base",
       "_view_module_version": "1.2.0",
       "_view_name": "LayoutView",
       "align_content": null,
       "align_items": null,
       "align_self": null,
       "border": null,
       "bottom": null,
       "display": null,
       "flex": null,
       "flex_flow": null,
       "grid_area": null,
       "grid_auto_columns": null,
       "grid_auto_flow": null,
       "grid_auto_rows": null,
       "grid_column": null,
       "grid_gap": null,
       "grid_row": null,
       "grid_template_areas": null,
       "grid_template_columns": null,
       "grid_template_rows": null,
       "height": null,
       "justify_content": null,
       "justify_items": null,
       "left": null,
       "margin": null,
       "max_height": null,
       "max_width": null,
       "min_height": null,
       "min_width": null,
       "object_fit": null,
       "object_position": null,
       "order": null,
       "overflow": null,
       "overflow_x": null,
       "overflow_y": null,
       "padding": null,
       "right": null,
       "top": null,
       "visibility": null,
       "width": null
      }
     },
     "bfd1cac9d011410faaf1ca798e5bf818": {
      "model_module": "@jupyter-widgets/controls",
      "model_module_version": "1.5.0",
      "model_name": "ProgressStyleModel",
      "state": {
       "_model_module": "@jupyter-widgets/controls",
       "_model_module_version": "1.5.0",
       "_model_name": "ProgressStyleModel",
       "_view_count": null,
       "_view_module": "@jupyter-widgets/base",
       "_view_module_version": "1.2.0",
       "_view_name": "StyleView",
       "bar_color": null,
       "description_width": ""
      }
     },
     "c057e336caaa40fa80b3944793686511": {
      "model_module": "@jupyter-widgets/controls",
      "model_module_version": "1.5.0",
      "model_name": "HBoxModel",
      "state": {
       "_dom_classes": [],
       "_model_module": "@jupyter-widgets/controls",
       "_model_module_version": "1.5.0",
       "_model_name": "HBoxModel",
       "_view_count": null,
       "_view_module": "@jupyter-widgets/controls",
       "_view_module_version": "1.5.0",
       "_view_name": "HBoxView",
       "box_style": "",
       "children": [
        "IPY_MODEL_9e5d7fc600944afd8100f3a1f153376c",
        "IPY_MODEL_9f270c3f44574a97bfd5bcfaa53d0641",
        "IPY_MODEL_04dda0ace4dd4a33bb4b23fa17c1916b"
       ],
       "layout": "IPY_MODEL_19bd5de6140045b0b562195563bad215"
      }
     },
     "c49967b52aea4c4ea2f65bb1fd4047f4": {
      "model_module": "@jupyter-widgets/controls",
      "model_module_version": "1.5.0",
      "model_name": "ProgressStyleModel",
      "state": {
       "_model_module": "@jupyter-widgets/controls",
       "_model_module_version": "1.5.0",
       "_model_name": "ProgressStyleModel",
       "_view_count": null,
       "_view_module": "@jupyter-widgets/base",
       "_view_module_version": "1.2.0",
       "_view_name": "StyleView",
       "bar_color": null,
       "description_width": ""
      }
     },
     "c566e9445d1a457496b1f4501c8d3228": {
      "model_module": "@jupyter-widgets/base",
      "model_module_version": "1.2.0",
      "model_name": "LayoutModel",
      "state": {
       "_model_module": "@jupyter-widgets/base",
       "_model_module_version": "1.2.0",
       "_model_name": "LayoutModel",
       "_view_count": null,
       "_view_module": "@jupyter-widgets/base",
       "_view_module_version": "1.2.0",
       "_view_name": "LayoutView",
       "align_content": null,
       "align_items": null,
       "align_self": null,
       "border": null,
       "bottom": null,
       "display": null,
       "flex": null,
       "flex_flow": null,
       "grid_area": null,
       "grid_auto_columns": null,
       "grid_auto_flow": null,
       "grid_auto_rows": null,
       "grid_column": null,
       "grid_gap": null,
       "grid_row": null,
       "grid_template_areas": null,
       "grid_template_columns": null,
       "grid_template_rows": null,
       "height": null,
       "justify_content": null,
       "justify_items": null,
       "left": null,
       "margin": null,
       "max_height": null,
       "max_width": null,
       "min_height": null,
       "min_width": null,
       "object_fit": null,
       "object_position": null,
       "order": null,
       "overflow": null,
       "overflow_x": null,
       "overflow_y": null,
       "padding": null,
       "right": null,
       "top": null,
       "visibility": null,
       "width": null
      }
     },
     "c68181da76b143f0ac82caa446672166": {
      "model_module": "@jupyter-widgets/controls",
      "model_module_version": "1.5.0",
      "model_name": "ProgressStyleModel",
      "state": {
       "_model_module": "@jupyter-widgets/controls",
       "_model_module_version": "1.5.0",
       "_model_name": "ProgressStyleModel",
       "_view_count": null,
       "_view_module": "@jupyter-widgets/base",
       "_view_module_version": "1.2.0",
       "_view_name": "StyleView",
       "bar_color": null,
       "description_width": ""
      }
     },
     "c6d352a1f1a84cc1ad91b5b3850b7353": {
      "model_module": "@jupyter-widgets/controls",
      "model_module_version": "1.5.0",
      "model_name": "HBoxModel",
      "state": {
       "_dom_classes": [],
       "_model_module": "@jupyter-widgets/controls",
       "_model_module_version": "1.5.0",
       "_model_name": "HBoxModel",
       "_view_count": null,
       "_view_module": "@jupyter-widgets/controls",
       "_view_module_version": "1.5.0",
       "_view_name": "HBoxView",
       "box_style": "",
       "children": [
        "IPY_MODEL_2b7c00a54d82425395495e28181d3922",
        "IPY_MODEL_83c33e3c8d8b457a9727c146ba8d010f",
        "IPY_MODEL_2d555270e92e4ac798e954358ec9aaff"
       ],
       "layout": "IPY_MODEL_b8a703951466417f91162b8954923b0e"
      }
     },
     "c8392639ac8a494aa5d71d93af63d71f": {
      "model_module": "@jupyter-widgets/base",
      "model_module_version": "1.2.0",
      "model_name": "LayoutModel",
      "state": {
       "_model_module": "@jupyter-widgets/base",
       "_model_module_version": "1.2.0",
       "_model_name": "LayoutModel",
       "_view_count": null,
       "_view_module": "@jupyter-widgets/base",
       "_view_module_version": "1.2.0",
       "_view_name": "LayoutView",
       "align_content": null,
       "align_items": null,
       "align_self": null,
       "border": null,
       "bottom": null,
       "display": null,
       "flex": null,
       "flex_flow": null,
       "grid_area": null,
       "grid_auto_columns": null,
       "grid_auto_flow": null,
       "grid_auto_rows": null,
       "grid_column": null,
       "grid_gap": null,
       "grid_row": null,
       "grid_template_areas": null,
       "grid_template_columns": null,
       "grid_template_rows": null,
       "height": null,
       "justify_content": null,
       "justify_items": null,
       "left": null,
       "margin": null,
       "max_height": null,
       "max_width": null,
       "min_height": null,
       "min_width": null,
       "object_fit": null,
       "object_position": null,
       "order": null,
       "overflow": null,
       "overflow_x": null,
       "overflow_y": null,
       "padding": null,
       "right": null,
       "top": null,
       "visibility": null,
       "width": null
      }
     },
     "c8622f7d1e334ab19bcb367e3bfc2a4d": {
      "model_module": "@jupyter-widgets/base",
      "model_module_version": "1.2.0",
      "model_name": "LayoutModel",
      "state": {
       "_model_module": "@jupyter-widgets/base",
       "_model_module_version": "1.2.0",
       "_model_name": "LayoutModel",
       "_view_count": null,
       "_view_module": "@jupyter-widgets/base",
       "_view_module_version": "1.2.0",
       "_view_name": "LayoutView",
       "align_content": null,
       "align_items": null,
       "align_self": null,
       "border": null,
       "bottom": null,
       "display": null,
       "flex": null,
       "flex_flow": null,
       "grid_area": null,
       "grid_auto_columns": null,
       "grid_auto_flow": null,
       "grid_auto_rows": null,
       "grid_column": null,
       "grid_gap": null,
       "grid_row": null,
       "grid_template_areas": null,
       "grid_template_columns": null,
       "grid_template_rows": null,
       "height": null,
       "justify_content": null,
       "justify_items": null,
       "left": null,
       "margin": null,
       "max_height": null,
       "max_width": null,
       "min_height": null,
       "min_width": null,
       "object_fit": null,
       "object_position": null,
       "order": null,
       "overflow": null,
       "overflow_x": null,
       "overflow_y": null,
       "padding": null,
       "right": null,
       "top": null,
       "visibility": null,
       "width": null
      }
     },
     "c99cf5da0124483c8e3f4cc914389da4": {
      "model_module": "@jupyter-widgets/base",
      "model_module_version": "1.2.0",
      "model_name": "LayoutModel",
      "state": {
       "_model_module": "@jupyter-widgets/base",
       "_model_module_version": "1.2.0",
       "_model_name": "LayoutModel",
       "_view_count": null,
       "_view_module": "@jupyter-widgets/base",
       "_view_module_version": "1.2.0",
       "_view_name": "LayoutView",
       "align_content": null,
       "align_items": null,
       "align_self": null,
       "border": null,
       "bottom": null,
       "display": null,
       "flex": null,
       "flex_flow": null,
       "grid_area": null,
       "grid_auto_columns": null,
       "grid_auto_flow": null,
       "grid_auto_rows": null,
       "grid_column": null,
       "grid_gap": null,
       "grid_row": null,
       "grid_template_areas": null,
       "grid_template_columns": null,
       "grid_template_rows": null,
       "height": null,
       "justify_content": null,
       "justify_items": null,
       "left": null,
       "margin": null,
       "max_height": null,
       "max_width": null,
       "min_height": null,
       "min_width": null,
       "object_fit": null,
       "object_position": null,
       "order": null,
       "overflow": null,
       "overflow_x": null,
       "overflow_y": null,
       "padding": null,
       "right": null,
       "top": null,
       "visibility": null,
       "width": null
      }
     },
     "cdf087f5152347af9fae73fdeab29b56": {
      "model_module": "@jupyter-widgets/controls",
      "model_module_version": "1.5.0",
      "model_name": "DescriptionStyleModel",
      "state": {
       "_model_module": "@jupyter-widgets/controls",
       "_model_module_version": "1.5.0",
       "_model_name": "DescriptionStyleModel",
       "_view_count": null,
       "_view_module": "@jupyter-widgets/base",
       "_view_module_version": "1.2.0",
       "_view_name": "StyleView",
       "description_width": ""
      }
     },
     "d02d32c9c88f409ebc294d7cf8e8a3bd": {
      "model_module": "@jupyter-widgets/base",
      "model_module_version": "1.2.0",
      "model_name": "LayoutModel",
      "state": {
       "_model_module": "@jupyter-widgets/base",
       "_model_module_version": "1.2.0",
       "_model_name": "LayoutModel",
       "_view_count": null,
       "_view_module": "@jupyter-widgets/base",
       "_view_module_version": "1.2.0",
       "_view_name": "LayoutView",
       "align_content": null,
       "align_items": null,
       "align_self": null,
       "border": null,
       "bottom": null,
       "display": null,
       "flex": null,
       "flex_flow": null,
       "grid_area": null,
       "grid_auto_columns": null,
       "grid_auto_flow": null,
       "grid_auto_rows": null,
       "grid_column": null,
       "grid_gap": null,
       "grid_row": null,
       "grid_template_areas": null,
       "grid_template_columns": null,
       "grid_template_rows": null,
       "height": null,
       "justify_content": null,
       "justify_items": null,
       "left": null,
       "margin": null,
       "max_height": null,
       "max_width": null,
       "min_height": null,
       "min_width": null,
       "object_fit": null,
       "object_position": null,
       "order": null,
       "overflow": null,
       "overflow_x": null,
       "overflow_y": null,
       "padding": null,
       "right": null,
       "top": null,
       "visibility": null,
       "width": null
      }
     },
     "d221d19e91614b0b8b96a841b481b603": {
      "model_module": "@jupyter-widgets/controls",
      "model_module_version": "1.5.0",
      "model_name": "HTMLModel",
      "state": {
       "_dom_classes": [],
       "_model_module": "@jupyter-widgets/controls",
       "_model_module_version": "1.5.0",
       "_model_name": "HTMLModel",
       "_view_count": null,
       "_view_module": "@jupyter-widgets/controls",
       "_view_module_version": "1.5.0",
       "_view_name": "HTMLView",
       "description": "",
       "description_tooltip": null,
       "layout": "IPY_MODEL_bb2210500b5a4dcf973587c97992cc11",
       "placeholder": "​",
       "style": "IPY_MODEL_29993abb81694fd79b3c9364825855c1",
       "value": "Downloading: 100%"
      }
     },
     "d6993686e1af4606b4d7a636bfcdbc5a": {
      "model_module": "@jupyter-widgets/base",
      "model_module_version": "1.2.0",
      "model_name": "LayoutModel",
      "state": {
       "_model_module": "@jupyter-widgets/base",
       "_model_module_version": "1.2.0",
       "_model_name": "LayoutModel",
       "_view_count": null,
       "_view_module": "@jupyter-widgets/base",
       "_view_module_version": "1.2.0",
       "_view_name": "LayoutView",
       "align_content": null,
       "align_items": null,
       "align_self": null,
       "border": null,
       "bottom": null,
       "display": null,
       "flex": null,
       "flex_flow": null,
       "grid_area": null,
       "grid_auto_columns": null,
       "grid_auto_flow": null,
       "grid_auto_rows": null,
       "grid_column": null,
       "grid_gap": null,
       "grid_row": null,
       "grid_template_areas": null,
       "grid_template_columns": null,
       "grid_template_rows": null,
       "height": null,
       "justify_content": null,
       "justify_items": null,
       "left": null,
       "margin": null,
       "max_height": null,
       "max_width": null,
       "min_height": null,
       "min_width": null,
       "object_fit": null,
       "object_position": null,
       "order": null,
       "overflow": null,
       "overflow_x": null,
       "overflow_y": null,
       "padding": null,
       "right": null,
       "top": null,
       "visibility": null,
       "width": null
      }
     },
     "dfc1f4264cbf4f70b545992557abf05d": {
      "model_module": "@jupyter-widgets/controls",
      "model_module_version": "1.5.0",
      "model_name": "HTMLModel",
      "state": {
       "_dom_classes": [],
       "_model_module": "@jupyter-widgets/controls",
       "_model_module_version": "1.5.0",
       "_model_name": "HTMLModel",
       "_view_count": null,
       "_view_module": "@jupyter-widgets/controls",
       "_view_module_version": "1.5.0",
       "_view_name": "HTMLView",
       "description": "",
       "description_tooltip": null,
       "layout": "IPY_MODEL_29aaa95741aa46d2864fba63db63d4d0",
       "placeholder": "​",
       "style": "IPY_MODEL_9f742cd44019436a92f200579b9ea7f8",
       "value": " 656/656 [00:00&lt;00:00, 21.6kB/s]"
      }
     },
     "e17ab18388b64e47ac4d35a73b66e9ba": {
      "model_module": "@jupyter-widgets/controls",
      "model_module_version": "1.5.0",
      "model_name": "HTMLModel",
      "state": {
       "_dom_classes": [],
       "_model_module": "@jupyter-widgets/controls",
       "_model_module_version": "1.5.0",
       "_model_name": "HTMLModel",
       "_view_count": null,
       "_view_module": "@jupyter-widgets/controls",
       "_view_module_version": "1.5.0",
       "_view_name": "HTMLView",
       "description": "",
       "description_tooltip": null,
       "layout": "IPY_MODEL_b3a350dabdb44f34bf7a30fc76936a54",
       "placeholder": "​",
       "style": "IPY_MODEL_a6d73748134541e293167b8562e852de",
       "value": " 65.0/65.0 [00:00&lt;00:00, 2.09kB/s]"
      }
     },
     "e4e137d750ac4521acbb4d1de25930cc": {
      "model_module": "@jupyter-widgets/controls",
      "model_module_version": "1.5.0",
      "model_name": "ProgressStyleModel",
      "state": {
       "_model_module": "@jupyter-widgets/controls",
       "_model_module_version": "1.5.0",
       "_model_name": "ProgressStyleModel",
       "_view_count": null,
       "_view_module": "@jupyter-widgets/base",
       "_view_module_version": "1.2.0",
       "_view_name": "StyleView",
       "bar_color": null,
       "description_width": ""
      }
     },
     "e8afbf94188042c984ca9a6449abb67e": {
      "model_module": "@jupyter-widgets/controls",
      "model_module_version": "1.5.0",
      "model_name": "DescriptionStyleModel",
      "state": {
       "_model_module": "@jupyter-widgets/controls",
       "_model_module_version": "1.5.0",
       "_model_name": "DescriptionStyleModel",
       "_view_count": null,
       "_view_module": "@jupyter-widgets/base",
       "_view_module_version": "1.2.0",
       "_view_name": "StyleView",
       "description_width": ""
      }
     },
     "ea989569424f4df1877e8dc595919787": {
      "model_module": "@jupyter-widgets/controls",
      "model_module_version": "1.5.0",
      "model_name": "HBoxModel",
      "state": {
       "_dom_classes": [],
       "_model_module": "@jupyter-widgets/controls",
       "_model_module_version": "1.5.0",
       "_model_name": "HBoxModel",
       "_view_count": null,
       "_view_module": "@jupyter-widgets/controls",
       "_view_module_version": "1.5.0",
       "_view_name": "HBoxView",
       "box_style": "",
       "children": [
        "IPY_MODEL_9d4a2a26cda2410c890bc97afc22f5d9",
        "IPY_MODEL_0cbf9e5b216b46d9818813198f0d4161",
        "IPY_MODEL_4d6c0ab8cf9047fab94ceefe22c00d95"
       ],
       "layout": "IPY_MODEL_7b02c07e78cb44589f867216384ace65"
      }
     },
     "ee0a269708b0425cbc5f1d53b0c6966b": {
      "model_module": "@jupyter-widgets/controls",
      "model_module_version": "1.5.0",
      "model_name": "DescriptionStyleModel",
      "state": {
       "_model_module": "@jupyter-widgets/controls",
       "_model_module_version": "1.5.0",
       "_model_name": "DescriptionStyleModel",
       "_view_count": null,
       "_view_module": "@jupyter-widgets/base",
       "_view_module_version": "1.2.0",
       "_view_name": "StyleView",
       "description_width": ""
      }
     },
     "efda29ed840948989c95993435cd9df1": {
      "model_module": "@jupyter-widgets/base",
      "model_module_version": "1.2.0",
      "model_name": "LayoutModel",
      "state": {
       "_model_module": "@jupyter-widgets/base",
       "_model_module_version": "1.2.0",
       "_model_name": "LayoutModel",
       "_view_count": null,
       "_view_module": "@jupyter-widgets/base",
       "_view_module_version": "1.2.0",
       "_view_name": "LayoutView",
       "align_content": null,
       "align_items": null,
       "align_self": null,
       "border": null,
       "bottom": null,
       "display": null,
       "flex": null,
       "flex_flow": null,
       "grid_area": null,
       "grid_auto_columns": null,
       "grid_auto_flow": null,
       "grid_auto_rows": null,
       "grid_column": null,
       "grid_gap": null,
       "grid_row": null,
       "grid_template_areas": null,
       "grid_template_columns": null,
       "grid_template_rows": null,
       "height": null,
       "justify_content": null,
       "justify_items": null,
       "left": null,
       "margin": null,
       "max_height": null,
       "max_width": null,
       "min_height": null,
       "min_width": null,
       "object_fit": null,
       "object_position": null,
       "order": null,
       "overflow": null,
       "overflow_x": null,
       "overflow_y": null,
       "padding": null,
       "right": null,
       "top": null,
       "visibility": null,
       "width": null
      }
     },
     "f2bebd66d5d04a5caced77e5a41b4328": {
      "model_module": "@jupyter-widgets/base",
      "model_module_version": "1.2.0",
      "model_name": "LayoutModel",
      "state": {
       "_model_module": "@jupyter-widgets/base",
       "_model_module_version": "1.2.0",
       "_model_name": "LayoutModel",
       "_view_count": null,
       "_view_module": "@jupyter-widgets/base",
       "_view_module_version": "1.2.0",
       "_view_name": "LayoutView",
       "align_content": null,
       "align_items": null,
       "align_self": null,
       "border": null,
       "bottom": null,
       "display": null,
       "flex": null,
       "flex_flow": null,
       "grid_area": null,
       "grid_auto_columns": null,
       "grid_auto_flow": null,
       "grid_auto_rows": null,
       "grid_column": null,
       "grid_gap": null,
       "grid_row": null,
       "grid_template_areas": null,
       "grid_template_columns": null,
       "grid_template_rows": null,
       "height": null,
       "justify_content": null,
       "justify_items": null,
       "left": null,
       "margin": null,
       "max_height": null,
       "max_width": null,
       "min_height": null,
       "min_width": null,
       "object_fit": null,
       "object_position": null,
       "order": null,
       "overflow": null,
       "overflow_x": null,
       "overflow_y": null,
       "padding": null,
       "right": null,
       "top": null,
       "visibility": null,
       "width": null
      }
     },
     "f6f8b8fc07c84c3bade3e843d9a5dc92": {
      "model_module": "@jupyter-widgets/controls",
      "model_module_version": "1.5.0",
      "model_name": "FloatProgressModel",
      "state": {
       "_dom_classes": [],
       "_model_module": "@jupyter-widgets/controls",
       "_model_module_version": "1.5.0",
       "_model_name": "FloatProgressModel",
       "_view_count": null,
       "_view_module": "@jupyter-widgets/controls",
       "_view_module_version": "1.5.0",
       "_view_name": "ProgressView",
       "bar_style": "success",
       "description": "",
       "description_tooltip": null,
       "layout": "IPY_MODEL_f8af9b07f6aa47c4add3620cc2c59eab",
       "max": 90.0,
       "min": 0.0,
       "orientation": "horizontal",
       "style": "IPY_MODEL_e4e137d750ac4521acbb4d1de25930cc",
       "value": 90.0
      }
     },
     "f87dc07f95314a8ab14941d7f1f3d358": {
      "model_module": "@jupyter-widgets/controls",
      "model_module_version": "1.5.0",
      "model_name": "HBoxModel",
      "state": {
       "_dom_classes": [],
       "_model_module": "@jupyter-widgets/controls",
       "_model_module_version": "1.5.0",
       "_model_name": "HBoxModel",
       "_view_count": null,
       "_view_module": "@jupyter-widgets/controls",
       "_view_module_version": "1.5.0",
       "_view_name": "HBoxView",
       "box_style": "",
       "children": [
        "IPY_MODEL_d221d19e91614b0b8b96a841b481b603",
        "IPY_MODEL_0b116d6626374217a485c9f9879e836e",
        "IPY_MODEL_2be92ae545274a00a32395ce56030a89"
       ],
       "layout": "IPY_MODEL_35390e85c03b4739a6a29a6a321066b0"
      }
     },
     "f8af9b07f6aa47c4add3620cc2c59eab": {
      "model_module": "@jupyter-widgets/base",
      "model_module_version": "1.2.0",
      "model_name": "LayoutModel",
      "state": {
       "_model_module": "@jupyter-widgets/base",
       "_model_module_version": "1.2.0",
       "_model_name": "LayoutModel",
       "_view_count": null,
       "_view_module": "@jupyter-widgets/base",
       "_view_module_version": "1.2.0",
       "_view_name": "LayoutView",
       "align_content": null,
       "align_items": null,
       "align_self": null,
       "border": null,
       "bottom": null,
       "display": null,
       "flex": null,
       "flex_flow": null,
       "grid_area": null,
       "grid_auto_columns": null,
       "grid_auto_flow": null,
       "grid_auto_rows": null,
       "grid_column": null,
       "grid_gap": null,
       "grid_row": null,
       "grid_template_areas": null,
       "grid_template_columns": null,
       "grid_template_rows": null,
       "height": null,
       "justify_content": null,
       "justify_items": null,
       "left": null,
       "margin": null,
       "max_height": null,
       "max_width": null,
       "min_height": null,
       "min_width": null,
       "object_fit": null,
       "object_position": null,
       "order": null,
       "overflow": null,
       "overflow_x": null,
       "overflow_y": null,
       "padding": null,
       "right": null,
       "top": null,
       "visibility": null,
       "width": null
      }
     },
     "fe1b24355b564a19a675934662f4b385": {
      "model_module": "@jupyter-widgets/base",
      "model_module_version": "1.2.0",
      "model_name": "LayoutModel",
      "state": {
       "_model_module": "@jupyter-widgets/base",
       "_model_module_version": "1.2.0",
       "_model_name": "LayoutModel",
       "_view_count": null,
       "_view_module": "@jupyter-widgets/base",
       "_view_module_version": "1.2.0",
       "_view_name": "LayoutView",
       "align_content": null,
       "align_items": null,
       "align_self": null,
       "border": null,
       "bottom": null,
       "display": null,
       "flex": null,
       "flex_flow": null,
       "grid_area": null,
       "grid_auto_columns": null,
       "grid_auto_flow": null,
       "grid_auto_rows": null,
       "grid_column": null,
       "grid_gap": null,
       "grid_row": null,
       "grid_template_areas": null,
       "grid_template_columns": null,
       "grid_template_rows": null,
       "height": null,
       "justify_content": null,
       "justify_items": null,
       "left": null,
       "margin": null,
       "max_height": null,
       "max_width": null,
       "min_height": null,
       "min_width": null,
       "object_fit": null,
       "object_position": null,
       "order": null,
       "overflow": null,
       "overflow_x": null,
       "overflow_y": null,
       "padding": null,
       "right": null,
       "top": null,
       "visibility": null,
       "width": null
      }
     },
     "feb2da01c0244b0db432d957bd112b37": {
      "model_module": "@jupyter-widgets/controls",
      "model_module_version": "1.5.0",
      "model_name": "HBoxModel",
      "state": {
       "_dom_classes": [],
       "_model_module": "@jupyter-widgets/controls",
       "_model_module_version": "1.5.0",
       "_model_name": "HBoxModel",
       "_view_count": null,
       "_view_module": "@jupyter-widgets/controls",
       "_view_module_version": "1.5.0",
       "_view_name": "HBoxView",
       "box_style": "",
       "children": [
        "IPY_MODEL_4d68898e951841b6af0450eaebe3e216",
        "IPY_MODEL_1c0852a451a24ccd9d258c020e8e0994",
        "IPY_MODEL_3c59ddc06ba04bedb7d62c4f2df292b2"
       ],
       "layout": "IPY_MODEL_9c4b4fc73f724ed786da12bebf8fbf96"
      }
     }
    },
    "version_major": 2,
    "version_minor": 0
   }
  }
 },
 "nbformat": 4,
 "nbformat_minor": 5
}
